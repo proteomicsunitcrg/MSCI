{
 "cells": [
  {
   "cell_type": "code",
   "execution_count": null,
   "metadata": {},
   "outputs": [],
   "source": []
  },
  {
   "cell_type": "code",
   "execution_count": null,
   "metadata": {},
   "outputs": [],
   "source": []
  },
  {
   "cell_type": "code",
   "execution_count": 9,
   "metadata": {},
   "outputs": [
    {
     "name": "stdout",
     "output_type": "stream",
     "text": [
      "Looking in indexes: https://test.pypi.org/simple/\n",
      "Collecting MSCI==0.1.0\n",
      "  Downloading https://test-files.pythonhosted.org/packages/66/cc/54398123498bdab676558b87b16930e9ba33d3241a3ec00d21e6940e12c7/MSCI-0.1.0-py2.py3-none-any.whl (26 kB)\n",
      "Requirement already satisfied: Click>=7.0 in c:\\users\\zelhamraoui\\appdata\\local\\r-miniconda\\lib\\site-packages (from MSCI==0.1.0) (8.1.7)\n",
      "Requirement already satisfied: colorama in c:\\users\\zelhamraoui\\appdata\\local\\r-miniconda\\lib\\site-packages (from Click>=7.0->MSCI==0.1.0) (0.4.6)\n",
      "Installing collected packages: MSCI\n",
      "Successfully installed MSCI-0.1.0\n",
      "Note: you may need to restart the kernel to use updated packages.\n"
     ]
    },
    {
     "name": "stderr",
     "output_type": "stream",
     "text": [
      "WARNING: Ignoring invalid distribution -rpcio (c:\\users\\zelhamraoui\\appdata\\local\\r-miniconda\\lib\\site-packages)\n",
      "WARNING: Ignoring invalid distribution -rpcio (c:\\users\\zelhamraoui\\appdata\\local\\r-miniconda\\lib\\site-packages)\n",
      "WARNING: Ignoring invalid distribution -rpcio (c:\\users\\zelhamraoui\\appdata\\local\\r-miniconda\\lib\\site-packages)\n",
      "WARNING: Ignoring invalid distribution -rpcio (c:\\users\\zelhamraoui\\appdata\\local\\r-miniconda\\lib\\site-packages)\n",
      "WARNING: Ignoring invalid distribution -rpcio (c:\\users\\zelhamraoui\\appdata\\local\\r-miniconda\\lib\\site-packages)\n",
      "WARNING: Ignoring invalid distribution -rpcio (c:\\users\\zelhamraoui\\appdata\\local\\r-miniconda\\lib\\site-packages)\n",
      "WARNING: Ignoring invalid distribution -rpcio (c:\\users\\zelhamraoui\\appdata\\local\\r-miniconda\\lib\\site-packages)\n"
     ]
    }
   ],
   "source": [
    "pip install -i https://test.pypi.org/simple/ MSCI==0.1.0"
   ]
  },
  {
   "cell_type": "code",
   "execution_count": null,
   "metadata": {},
   "outputs": [],
   "source": []
  },
  {
   "cell_type": "code",
   "execution_count": 4,
   "metadata": {},
   "outputs": [],
   "source": [
    "# Ensure pandas has the version attribute\n",
    "import pandas as pd\n",
    "if not hasattr(pd, 'version'):\n",
    "    class Version:\n",
    "        def __init__(self, version):\n",
    "            self.version = version\n",
    "    pd.version = Version(pd.__version__)"
   ]
  },
  {
   "cell_type": "code",
   "execution_count": 4,
   "metadata": {},
   "outputs": [
    {
     "name": "stdout",
     "output_type": "stream",
     "text": [
      "Requirement already satisfied: scipy in c:\\users\\zelhamraoui\\appdata\\local\\r-miniconda\\lib\\site-packages (1.14.0)\n",
      "Requirement already satisfied: numpy<2.3,>=1.23.5 in c:\\users\\zelhamraoui\\appdata\\local\\r-miniconda\\lib\\site-packages (from scipy) (1.24.3)\n",
      "Note: you may need to restart the kernel to use updated packages.\n"
     ]
    },
    {
     "name": "stderr",
     "output_type": "stream",
     "text": [
      "WARNING: Ignoring invalid distribution -rpcio (c:\\users\\zelhamraoui\\appdata\\local\\r-miniconda\\lib\\site-packages)\n",
      "WARNING: Ignoring invalid distribution -rpcio (c:\\users\\zelhamraoui\\appdata\\local\\r-miniconda\\lib\\site-packages)\n",
      "WARNING: Ignoring invalid distribution -rpcio (c:\\users\\zelhamraoui\\appdata\\local\\r-miniconda\\lib\\site-packages)\n",
      "WARNING: Ignoring invalid distribution -rpcio (c:\\users\\zelhamraoui\\appdata\\local\\r-miniconda\\lib\\site-packages)\n",
      "WARNING: Ignoring invalid distribution -rpcio (c:\\users\\zelhamraoui\\appdata\\local\\r-miniconda\\lib\\site-packages)\n",
      "WARNING: Ignoring invalid distribution -rpcio (c:\\users\\zelhamraoui\\appdata\\local\\r-miniconda\\lib\\site-packages)\n"
     ]
    }
   ],
   "source": [
    "pip install --upgrade scipy\n"
   ]
  },
  {
   "cell_type": "code",
   "execution_count": null,
   "metadata": {},
   "outputs": [],
   "source": []
  }
 ],
 "metadata": {
  "kernelspec": {
   "display_name": "base",
   "language": "python",
   "name": "python3"
  },
  "language_info": {
   "codemirror_mode": {
    "name": "ipython",
    "version": 3
   },
   "file_extension": ".py",
   "mimetype": "text/x-python",
   "name": "python",
   "nbconvert_exporter": "python",
   "pygments_lexer": "ipython3",
   "version": "3.10.9"
  }
 },
 "nbformat": 4,
 "nbformat_minor": 2
}
