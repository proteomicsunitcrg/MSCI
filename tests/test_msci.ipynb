{
 "cells": [
  {
   "cell_type": "code",
   "execution_count": null,
   "metadata": {},
   "outputs": [],
   "source": []
  },
  {
   "cell_type": "code",
   "execution_count": 4,
   "metadata": {},
   "outputs": [],
   "source": [
    "# Ensure pandas has the version attribute\n",
    "import pandas as pd\n",
    "if not hasattr(pd, 'version'):\n",
    "    class Version:\n",
    "        def __init__(self, version):\n",
    "            self.version = version\n",
    "    pd.version = Version(pd.__version__)"
   ]
  },
  {
   "cell_type": "code",
   "execution_count": 5,
   "metadata": {},
   "outputs": [
    {
     "name": "stdout",
     "output_type": "stream",
     "text": [
      "Requirement already satisfied: pandas in c:\\users\\zelhamraoui\\appdata\\local\\r-miniconda\\lib\\site-packages (2.2.2)\n",
      "Requirement already satisfied: matchms in c:\\users\\zelhamraoui\\appdata\\local\\r-miniconda\\lib\\site-packages (0.24.2)\n",
      "Collecting matchms\n",
      "  Downloading matchms-0.27.0-py3-none-any.whl (158 kB)\n",
      "     -------------------------------------- 158.8/158.8 kB 4.6 MB/s eta 0:00:00\n",
      "Requirement already satisfied: pyteomics in c:\\users\\zelhamraoui\\appdata\\local\\r-miniconda\\lib\\site-packages (4.6)\n",
      "Collecting pyteomics\n",
      "  Downloading pyteomics-4.7.3-py2.py3-none-any.whl (238 kB)\n",
      "     -------------------------------------- 238.5/238.5 kB 7.1 MB/s eta 0:00:00\n",
      "Requirement already satisfied: numpy>=1.22.4 in c:\\users\\zelhamraoui\\appdata\\local\\r-miniconda\\lib\\site-packages (from pandas) (1.24.3)\n",
      "Requirement already satisfied: tzdata>=2022.7 in c:\\users\\zelhamraoui\\appdata\\local\\r-miniconda\\lib\\site-packages (from pandas) (2023.3)\n",
      "Requirement already satisfied: python-dateutil>=2.8.2 in c:\\users\\zelhamraoui\\appdata\\local\\r-miniconda\\lib\\site-packages (from pandas) (2.8.2)\n",
      "Requirement already satisfied: pytz>=2020.1 in c:\\users\\zelhamraoui\\appdata\\local\\r-miniconda\\lib\\site-packages (from pandas) (2023.3)\n",
      "Requirement already satisfied: deprecated>=1.2.14 in c:\\users\\zelhamraoui\\appdata\\local\\r-miniconda\\lib\\site-packages (from matchms) (1.2.14)\n",
      "Requirement already satisfied: requests>=2.31.0 in c:\\users\\zelhamraoui\\appdata\\local\\r-miniconda\\lib\\site-packages (from matchms) (2.31.0)\n",
      "Requirement already satisfied: tqdm>=4.65.0 in c:\\users\\zelhamraoui\\appdata\\local\\r-miniconda\\lib\\site-packages (from matchms) (4.66.2)\n",
      "Requirement already satisfied: networkx>=3.0 in c:\\users\\zelhamraoui\\appdata\\local\\r-miniconda\\lib\\site-packages (from matchms) (3.1)\n",
      "Requirement already satisfied: pickydict>=0.4.0 in c:\\users\\zelhamraoui\\appdata\\local\\r-miniconda\\lib\\site-packages (from matchms) (0.4.0)\n",
      "Requirement already satisfied: numba<0.60,>=0.57.1 in c:\\users\\zelhamraoui\\appdata\\local\\r-miniconda\\lib\\site-packages (from matchms) (0.57.1)\n",
      "Requirement already satisfied: matplotlib>=3.7 in c:\\users\\zelhamraoui\\appdata\\local\\r-miniconda\\lib\\site-packages (from matchms) (3.8.3)\n",
      "Requirement already satisfied: pillow!=9.4.0 in c:\\users\\zelhamraoui\\appdata\\local\\r-miniconda\\lib\\site-packages (from matchms) (9.5.0)\n",
      "Collecting rdkit>=2023.9.6\n",
      "  Downloading rdkit-2024.3.5-cp310-cp310-win_amd64.whl (21.7 MB)\n",
      "     --------------------------------------- 21.7/21.7 MB 18.7 MB/s eta 0:00:00\n",
      "Collecting scipy>=1.11\n",
      "  Downloading scipy-1.14.0-cp310-cp310-win_amd64.whl (44.8 MB)\n",
      "     --------------------------------------- 44.8/44.8 MB 21.1 MB/s eta 0:00:00\n",
      "Requirement already satisfied: pyyaml>=6.0.1 in c:\\users\\zelhamraoui\\appdata\\local\\r-miniconda\\lib\\site-packages (from matchms) (6.0.1)\n",
      "Requirement already satisfied: sparsestack>=0.4.1 in c:\\users\\zelhamraoui\\appdata\\local\\r-miniconda\\lib\\site-packages (from matchms) (0.4.1)\n",
      "Requirement already satisfied: lxml<5.0.0,>=4.9.3 in c:\\users\\zelhamraoui\\appdata\\local\\r-miniconda\\lib\\site-packages (from matchms) (4.9.4)\n",
      "Requirement already satisfied: pubchempy in c:\\users\\zelhamraoui\\appdata\\local\\r-miniconda\\lib\\site-packages (from matchms) (1.0.4)\n",
      "Requirement already satisfied: wrapt<2,>=1.10 in c:\\users\\zelhamraoui\\appdata\\local\\r-miniconda\\lib\\site-packages (from deprecated>=1.2.14->matchms) (1.14.1)\n",
      "Requirement already satisfied: packaging>=20.0 in c:\\users\\zelhamraoui\\appdata\\local\\r-miniconda\\lib\\site-packages (from matplotlib>=3.7->matchms) (23.1)\n",
      "Requirement already satisfied: contourpy>=1.0.1 in c:\\users\\zelhamraoui\\appdata\\local\\r-miniconda\\lib\\site-packages (from matplotlib>=3.7->matchms) (1.0.7)\n",
      "Requirement already satisfied: kiwisolver>=1.3.1 in c:\\users\\zelhamraoui\\appdata\\local\\r-miniconda\\lib\\site-packages (from matplotlib>=3.7->matchms) (1.4.4)\n",
      "Requirement already satisfied: fonttools>=4.22.0 in c:\\users\\zelhamraoui\\appdata\\local\\r-miniconda\\lib\\site-packages (from matplotlib>=3.7->matchms) (4.39.4)\n",
      "Requirement already satisfied: pyparsing>=2.3.1 in c:\\users\\zelhamraoui\\appdata\\local\\r-miniconda\\lib\\site-packages (from matplotlib>=3.7->matchms) (3.0.9)\n",
      "Requirement already satisfied: cycler>=0.10 in c:\\users\\zelhamraoui\\appdata\\local\\r-miniconda\\lib\\site-packages (from matplotlib>=3.7->matchms) (0.11.0)\n",
      "Requirement already satisfied: llvmlite<0.41,>=0.40.0dev0 in c:\\users\\zelhamraoui\\appdata\\local\\r-miniconda\\lib\\site-packages (from numba<0.60,>=0.57.1->matchms) (0.40.0)\n",
      "Requirement already satisfied: six>=1.5 in c:\\users\\zelhamraoui\\appdata\\local\\r-miniconda\\lib\\site-packages (from python-dateutil>=2.8.2->pandas) (1.16.0)\n",
      "Requirement already satisfied: idna<4,>=2.5 in c:\\users\\zelhamraoui\\appdata\\local\\r-miniconda\\lib\\site-packages (from requests>=2.31.0->matchms) (3.4)\n",
      "Requirement already satisfied: certifi>=2017.4.17 in c:\\users\\zelhamraoui\\appdata\\local\\r-miniconda\\lib\\site-packages (from requests>=2.31.0->matchms) (2024.2.2)\n",
      "Requirement already satisfied: urllib3<3,>=1.21.1 in c:\\users\\zelhamraoui\\appdata\\local\\r-miniconda\\lib\\site-packages (from requests>=2.31.0->matchms) (2.2.2)\n",
      "Requirement already satisfied: charset-normalizer<4,>=2 in c:\\users\\zelhamraoui\\appdata\\local\\r-miniconda\\lib\\site-packages (from requests>=2.31.0->matchms) (2.0.4)\n",
      "Requirement already satisfied: colorama in c:\\users\\zelhamraoui\\appdata\\local\\r-miniconda\\lib\\site-packages (from tqdm>=4.65.0->matchms) (0.4.6)\n",
      "Installing collected packages: pyteomics, scipy, rdkit, matchms\n",
      "  Attempting uninstall: pyteomics\n",
      "    Found existing installation: pyteomics 4.6\n",
      "    Uninstalling pyteomics-4.6:\n",
      "      Successfully uninstalled pyteomics-4.6\n",
      "  Attempting uninstall: scipy\n",
      "    Found existing installation: scipy 1.10.1\n",
      "    Uninstalling scipy-1.10.1:\n",
      "      Successfully uninstalled scipy-1.10.1\n",
      "  Attempting uninstall: rdkit\n",
      "    Found existing installation: rdkit 2023.9.5\n",
      "    Uninstalling rdkit-2023.9.5:\n",
      "      Successfully uninstalled rdkit-2023.9.5\n",
      "  Attempting uninstall: matchms\n",
      "    Found existing installation: matchms 0.24.2\n",
      "    Uninstalling matchms-0.24.2:\n",
      "      Successfully uninstalled matchms-0.24.2\n",
      "Successfully installed matchms-0.27.0 pyteomics-4.7.3 rdkit-2024.3.5 scipy-1.14.0\n",
      "Note: you may need to restart the kernel to use updated packages.\n"
     ]
    },
    {
     "name": "stderr",
     "output_type": "stream",
     "text": [
      "WARNING: Ignoring invalid distribution -rpcio (c:\\users\\zelhamraoui\\appdata\\local\\r-miniconda\\lib\\site-packages)\n",
      "WARNING: Ignoring invalid distribution -rpcio (c:\\users\\zelhamraoui\\appdata\\local\\r-miniconda\\lib\\site-packages)\n",
      "WARNING: Ignoring invalid distribution -rpcio (c:\\users\\zelhamraoui\\appdata\\local\\r-miniconda\\lib\\site-packages)\n",
      "    WARNING: Ignoring invalid distribution -rpcio (c:\\users\\zelhamraoui\\appdata\\local\\r-miniconda\\lib\\site-packages)\n",
      "    WARNING: Ignoring invalid distribution -rpcio (c:\\users\\zelhamraoui\\appdata\\local\\r-miniconda\\lib\\site-packages)\n",
      "    WARNING: Ignoring invalid distribution -rpcio (c:\\users\\zelhamraoui\\appdata\\local\\r-miniconda\\lib\\site-packages)\n",
      "    WARNING: Ignoring invalid distribution -rpcio (c:\\users\\zelhamraoui\\appdata\\local\\r-miniconda\\lib\\site-packages)\n",
      "WARNING: Ignoring invalid distribution -rpcio (c:\\users\\zelhamraoui\\appdata\\local\\r-miniconda\\lib\\site-packages)\n",
      "WARNING: Ignoring invalid distribution -rpcio (c:\\users\\zelhamraoui\\appdata\\local\\r-miniconda\\lib\\site-packages)\n",
      "WARNING: Ignoring invalid distribution -rpcio (c:\\users\\zelhamraoui\\appdata\\local\\r-miniconda\\lib\\site-packages)\n",
      "WARNING: Ignoring invalid distribution -rpcio (c:\\users\\zelhamraoui\\appdata\\local\\r-miniconda\\lib\\site-packages)\n",
      "ERROR: pip's dependency resolver does not currently take into account all the packages that are installed. This behaviour is the source of the following dependency conflicts.\n",
      "spectrum-io 0.4.4 requires pandas<2.0.0,>=1.3.0, but you have pandas 2.2.2 which is incompatible.\n",
      "WARNING: Ignoring invalid distribution -rpcio (c:\\users\\zelhamraoui\\appdata\\local\\r-miniconda\\lib\\site-packages)\n",
      "WARNING: Ignoring invalid distribution -rpcio (c:\\users\\zelhamraoui\\appdata\\local\\r-miniconda\\lib\\site-packages)\n",
      "WARNING: Ignoring invalid distribution -rpcio (c:\\users\\zelhamraoui\\appdata\\local\\r-miniconda\\lib\\site-packages)\n"
     ]
    }
   ],
   "source": [
    "pip install --upgrade pandas matchms pyteomics"
   ]
  }
 ],
 "metadata": {
  "kernelspec": {
   "display_name": "base",
   "language": "python",
   "name": "python3"
  },
  "language_info": {
   "codemirror_mode": {
    "name": "ipython",
    "version": 3
   },
   "file_extension": ".py",
   "mimetype": "text/x-python",
   "name": "python",
   "nbconvert_exporter": "python",
   "pygments_lexer": "ipython3",
   "version": "3.10.9"
  }
 },
 "nbformat": 4,
 "nbformat_minor": 2
}
