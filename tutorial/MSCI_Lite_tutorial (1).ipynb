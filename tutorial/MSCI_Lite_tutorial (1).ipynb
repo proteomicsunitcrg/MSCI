{
  "nbformat": 4,
  "nbformat_minor": 0,
  "metadata": {
    "colab": {
      "provenance": [],
      "collapsed_sections": [
        "zLMDB14xO2ik",
        "r4K23vVAMe_G",
        "IZULajcxL2mO"
      ]
    },
    "kernelspec": {
      "name": "python3",
      "display_name": "Python 3"
    },
    "language_info": {
      "name": "python"
    }
  },
  "cells": [
    {
      "cell_type": "markdown",
      "source": [
        "<div style=\"display: flex; align-items: center;\">\n",
        "  <div style=\"flex: 1; max-width: 70%;\">\n",
        "    MSCI is a Python package designed to evaluate the information content of peptide fragmentation spectra. Our objective was to compute an information-content index for all peptides within a given proteome. This would allow us to devise data acquisition and analysis strategies that generate and prioritize the most informative fragment ions for peptide quantification.\n",
        "  </div>\n",
        "  <img src=\"https://github.com/proteomicsunitcrg/MSCI/raw/main/docs/MSCI_logo.png\" width=\"300\" style=\"margin-left: 20px;\">\n",
        "</div>\n"
      ],
      "metadata": {
        "id": "SttCP_g6TyO7"
      }
    },
    {
      "cell_type": "markdown",
      "source": [
        "#Download MSCI package and necessary installations"
      ],
      "metadata": {
        "id": "zLMDB14xO2ik"
      }
    },
    {
      "cell_type": "code",
      "source": [
        "#!git clone https://github.com/proteomicsunitcrg/MSCI.git\n",
        "#! pip install matchms\n",
        "# do not restart session if asked (press cancel matchms since probably you already have matchms installed )\n",
        "#%cd MSCI\n",
        "#import sys\n",
        "#sys.path.append('/content/MSCI')\n"
      ],
      "metadata": {
        "id": "PXPoxi2iO-0F"
      },
      "execution_count": 4,
      "outputs": []
    },
    {
      "cell_type": "code",
      "source": [
        "! pip install MSCI==0.2.0\n",
        "! pip install biopython\n",
        "! pip install matchms"
      ],
      "metadata": {
        "colab": {
          "base_uri": "https://localhost:8080/"
        },
        "id": "OQhjSS1WZw2e",
        "outputId": "04646cf6-ca51-4a6a-9f14-12508162e488"
      },
      "execution_count": 5,
      "outputs": [
        {
          "output_type": "stream",
          "name": "stdout",
          "text": [
            "Collecting MSCI==0.2.0\n",
            "  Downloading MSCI-0.2.0-py2.py3-none-any.whl.metadata (903 bytes)\n",
            "Requirement already satisfied: Click>=7.0 in /usr/local/lib/python3.11/dist-packages (from MSCI==0.2.0) (8.1.8)\n",
            "Collecting streamlit (from MSCI==0.2.0)\n",
            "  Downloading streamlit-1.42.0-py2.py3-none-any.whl.metadata (8.9 kB)\n",
            "Collecting matchms (from MSCI==0.2.0)\n",
            "  Downloading matchms-0.28.2-py3-none-any.whl.metadata (20 kB)\n",
            "Collecting Biopython (from MSCI==0.2.0)\n",
            "  Downloading biopython-1.85-cp311-cp311-manylinux_2_17_x86_64.manylinux2014_x86_64.whl.metadata (13 kB)\n",
            "Requirement already satisfied: scipy in /usr/local/lib/python3.11/dist-packages (from MSCI==0.2.0) (1.13.1)\n",
            "Requirement already satisfied: numpy in /usr/local/lib/python3.11/dist-packages (from Biopython->MSCI==0.2.0) (1.26.4)\n",
            "Requirement already satisfied: deprecated>=1.2.14 in /usr/local/lib/python3.11/dist-packages (from matchms->MSCI==0.2.0) (1.2.18)\n",
            "Collecting lxml<5.0.0,>=4.9.3 (from matchms->MSCI==0.2.0)\n",
            "  Downloading lxml-4.9.4-cp311-cp311-manylinux_2_28_x86_64.whl.metadata (3.7 kB)\n",
            "Requirement already satisfied: matplotlib>=3.7 in /usr/local/lib/python3.11/dist-packages (from matchms->MSCI==0.2.0) (3.10.0)\n",
            "Requirement already satisfied: networkx<4.0.0,>=3.4.2 in /usr/local/lib/python3.11/dist-packages (from matchms->MSCI==0.2.0) (3.4.2)\n",
            "Collecting numba<0.61.0,>=0.60.0 (from matchms->MSCI==0.2.0)\n",
            "  Downloading numba-0.60.0-cp311-cp311-manylinux2014_x86_64.manylinux_2_17_x86_64.whl.metadata (2.7 kB)\n",
            "Collecting pandas<3.0.0,>=2.2.3 (from matchms->MSCI==0.2.0)\n",
            "  Downloading pandas-2.2.3-cp311-cp311-manylinux_2_17_x86_64.manylinux2014_x86_64.whl.metadata (89 kB)\n",
            "\u001b[2K     \u001b[90m━━━━━━━━━━━━━━━━━━━━━━━━━━━━━━━━━━━━━━━━\u001b[0m \u001b[32m89.9/89.9 kB\u001b[0m \u001b[31m3.4 MB/s\u001b[0m eta \u001b[36m0:00:00\u001b[0m\n",
            "\u001b[?25hCollecting pickydict>=0.4.0 (from matchms->MSCI==0.2.0)\n",
            "  Downloading pickydict-0.5.0-py3-none-any.whl.metadata (4.7 kB)\n",
            "Requirement already satisfied: pillow!=9.4.0 in /usr/local/lib/python3.11/dist-packages (from matchms->MSCI==0.2.0) (11.1.0)\n",
            "Collecting pubchempy (from matchms->MSCI==0.2.0)\n",
            "  Downloading PubChemPy-1.0.4.tar.gz (29 kB)\n",
            "  Preparing metadata (setup.py) ... \u001b[?25l\u001b[?25hdone\n",
            "Collecting pyteomics>=4.6 (from matchms->MSCI==0.2.0)\n",
            "  Downloading pyteomics-4.7.5-py3-none-any.whl.metadata (6.5 kB)\n",
            "Requirement already satisfied: pyyaml>=6.0.1 in /usr/local/lib/python3.11/dist-packages (from matchms->MSCI==0.2.0) (6.0.2)\n",
            "Collecting rdkit<2025.0.0,>=2024.3.5 (from matchms->MSCI==0.2.0)\n",
            "  Downloading rdkit-2024.9.5-cp311-cp311-manylinux_2_28_x86_64.whl.metadata (4.0 kB)\n",
            "Requirement already satisfied: requests>=2.31.0 in /usr/local/lib/python3.11/dist-packages (from matchms->MSCI==0.2.0) (2.32.3)\n",
            "Collecting scipy (from MSCI==0.2.0)\n",
            "  Downloading scipy-1.15.1-cp311-cp311-manylinux_2_17_x86_64.manylinux2014_x86_64.whl.metadata (61 kB)\n",
            "\u001b[2K     \u001b[90m━━━━━━━━━━━━━━━━━━━━━━━━━━━━━━━━━━━━━━━━\u001b[0m \u001b[32m62.0/62.0 kB\u001b[0m \u001b[31m6.4 MB/s\u001b[0m eta \u001b[36m0:00:00\u001b[0m\n",
            "\u001b[?25hCollecting sparsestack>=0.6.0 (from matchms->MSCI==0.2.0)\n",
            "  Downloading sparsestack-0.6.4-py3-none-any.whl.metadata (4.5 kB)\n",
            "Requirement already satisfied: tqdm>=4.65.0 in /usr/local/lib/python3.11/dist-packages (from matchms->MSCI==0.2.0) (4.67.1)\n",
            "Requirement already satisfied: altair<6,>=4.0 in /usr/local/lib/python3.11/dist-packages (from streamlit->MSCI==0.2.0) (5.5.0)\n",
            "Requirement already satisfied: blinker<2,>=1.0.0 in /usr/local/lib/python3.11/dist-packages (from streamlit->MSCI==0.2.0) (1.9.0)\n",
            "Requirement already satisfied: cachetools<6,>=4.0 in /usr/local/lib/python3.11/dist-packages (from streamlit->MSCI==0.2.0) (5.5.1)\n",
            "Requirement already satisfied: packaging<25,>=20 in /usr/local/lib/python3.11/dist-packages (from streamlit->MSCI==0.2.0) (24.2)\n",
            "Requirement already satisfied: protobuf<6,>=3.20 in /usr/local/lib/python3.11/dist-packages (from streamlit->MSCI==0.2.0) (4.25.6)\n",
            "Requirement already satisfied: pyarrow>=7.0 in /usr/local/lib/python3.11/dist-packages (from streamlit->MSCI==0.2.0) (17.0.0)\n",
            "Requirement already satisfied: rich<14,>=10.14.0 in /usr/local/lib/python3.11/dist-packages (from streamlit->MSCI==0.2.0) (13.9.4)\n",
            "Requirement already satisfied: tenacity<10,>=8.1.0 in /usr/local/lib/python3.11/dist-packages (from streamlit->MSCI==0.2.0) (9.0.0)\n",
            "Requirement already satisfied: toml<2,>=0.10.1 in /usr/local/lib/python3.11/dist-packages (from streamlit->MSCI==0.2.0) (0.10.2)\n",
            "Requirement already satisfied: typing-extensions<5,>=4.4.0 in /usr/local/lib/python3.11/dist-packages (from streamlit->MSCI==0.2.0) (4.12.2)\n",
            "Collecting watchdog<7,>=2.1.5 (from streamlit->MSCI==0.2.0)\n",
            "  Downloading watchdog-6.0.0-py3-none-manylinux2014_x86_64.whl.metadata (44 kB)\n",
            "\u001b[2K     \u001b[90m━━━━━━━━━━━━━━━━━━━━━━━━━━━━━━━━━━━━━━━━\u001b[0m \u001b[32m44.3/44.3 kB\u001b[0m \u001b[31m3.5 MB/s\u001b[0m eta \u001b[36m0:00:00\u001b[0m\n",
            "\u001b[?25hRequirement already satisfied: gitpython!=3.1.19,<4,>=3.0.7 in /usr/local/lib/python3.11/dist-packages (from streamlit->MSCI==0.2.0) (3.1.44)\n",
            "Collecting pydeck<1,>=0.8.0b4 (from streamlit->MSCI==0.2.0)\n",
            "  Downloading pydeck-0.9.1-py2.py3-none-any.whl.metadata (4.1 kB)\n",
            "Requirement already satisfied: tornado<7,>=6.0.3 in /usr/local/lib/python3.11/dist-packages (from streamlit->MSCI==0.2.0) (6.4.2)\n",
            "Requirement already satisfied: jinja2 in /usr/local/lib/python3.11/dist-packages (from altair<6,>=4.0->streamlit->MSCI==0.2.0) (3.1.5)\n",
            "Requirement already satisfied: jsonschema>=3.0 in /usr/local/lib/python3.11/dist-packages (from altair<6,>=4.0->streamlit->MSCI==0.2.0) (4.23.0)\n",
            "Requirement already satisfied: narwhals>=1.14.2 in /usr/local/lib/python3.11/dist-packages (from altair<6,>=4.0->streamlit->MSCI==0.2.0) (1.25.1)\n",
            "Requirement already satisfied: wrapt<2,>=1.10 in /usr/local/lib/python3.11/dist-packages (from deprecated>=1.2.14->matchms->MSCI==0.2.0) (1.17.2)\n",
            "Requirement already satisfied: gitdb<5,>=4.0.1 in /usr/local/lib/python3.11/dist-packages (from gitpython!=3.1.19,<4,>=3.0.7->streamlit->MSCI==0.2.0) (4.0.12)\n",
            "Requirement already satisfied: contourpy>=1.0.1 in /usr/local/lib/python3.11/dist-packages (from matplotlib>=3.7->matchms->MSCI==0.2.0) (1.3.1)\n",
            "Requirement already satisfied: cycler>=0.10 in /usr/local/lib/python3.11/dist-packages (from matplotlib>=3.7->matchms->MSCI==0.2.0) (0.12.1)\n",
            "Requirement already satisfied: fonttools>=4.22.0 in /usr/local/lib/python3.11/dist-packages (from matplotlib>=3.7->matchms->MSCI==0.2.0) (4.55.8)\n",
            "Requirement already satisfied: kiwisolver>=1.3.1 in /usr/local/lib/python3.11/dist-packages (from matplotlib>=3.7->matchms->MSCI==0.2.0) (1.4.8)\n",
            "Requirement already satisfied: pyparsing>=2.3.1 in /usr/local/lib/python3.11/dist-packages (from matplotlib>=3.7->matchms->MSCI==0.2.0) (3.2.1)\n",
            "Requirement already satisfied: python-dateutil>=2.7 in /usr/local/lib/python3.11/dist-packages (from matplotlib>=3.7->matchms->MSCI==0.2.0) (2.8.2)\n",
            "Collecting llvmlite<0.44,>=0.43.0dev0 (from numba<0.61.0,>=0.60.0->matchms->MSCI==0.2.0)\n",
            "  Downloading llvmlite-0.43.0-cp311-cp311-manylinux_2_17_x86_64.manylinux2014_x86_64.whl.metadata (4.8 kB)\n",
            "Requirement already satisfied: pytz>=2020.1 in /usr/local/lib/python3.11/dist-packages (from pandas<3.0.0,>=2.2.3->matchms->MSCI==0.2.0) (2025.1)\n",
            "Requirement already satisfied: tzdata>=2022.7 in /usr/local/lib/python3.11/dist-packages (from pandas<3.0.0,>=2.2.3->matchms->MSCI==0.2.0) (2025.1)\n",
            "Requirement already satisfied: charset-normalizer<4,>=2 in /usr/local/lib/python3.11/dist-packages (from requests>=2.31.0->matchms->MSCI==0.2.0) (3.4.1)\n",
            "Requirement already satisfied: idna<4,>=2.5 in /usr/local/lib/python3.11/dist-packages (from requests>=2.31.0->matchms->MSCI==0.2.0) (3.10)\n",
            "Requirement already satisfied: urllib3<3,>=1.21.1 in /usr/local/lib/python3.11/dist-packages (from requests>=2.31.0->matchms->MSCI==0.2.0) (2.3.0)\n",
            "Requirement already satisfied: certifi>=2017.4.17 in /usr/local/lib/python3.11/dist-packages (from requests>=2.31.0->matchms->MSCI==0.2.0) (2025.1.31)\n",
            "Requirement already satisfied: markdown-it-py>=2.2.0 in /usr/local/lib/python3.11/dist-packages (from rich<14,>=10.14.0->streamlit->MSCI==0.2.0) (3.0.0)\n",
            "Requirement already satisfied: pygments<3.0.0,>=2.13.0 in /usr/local/lib/python3.11/dist-packages (from rich<14,>=10.14.0->streamlit->MSCI==0.2.0) (2.18.0)\n",
            "Requirement already satisfied: smmap<6,>=3.0.1 in /usr/local/lib/python3.11/dist-packages (from gitdb<5,>=4.0.1->gitpython!=3.1.19,<4,>=3.0.7->streamlit->MSCI==0.2.0) (5.0.2)\n",
            "Requirement already satisfied: MarkupSafe>=2.0 in /usr/local/lib/python3.11/dist-packages (from jinja2->altair<6,>=4.0->streamlit->MSCI==0.2.0) (3.0.2)\n",
            "Requirement already satisfied: attrs>=22.2.0 in /usr/local/lib/python3.11/dist-packages (from jsonschema>=3.0->altair<6,>=4.0->streamlit->MSCI==0.2.0) (25.1.0)\n",
            "Requirement already satisfied: jsonschema-specifications>=2023.03.6 in /usr/local/lib/python3.11/dist-packages (from jsonschema>=3.0->altair<6,>=4.0->streamlit->MSCI==0.2.0) (2024.10.1)\n",
            "Requirement already satisfied: referencing>=0.28.4 in /usr/local/lib/python3.11/dist-packages (from jsonschema>=3.0->altair<6,>=4.0->streamlit->MSCI==0.2.0) (0.36.2)\n",
            "Requirement already satisfied: rpds-py>=0.7.1 in /usr/local/lib/python3.11/dist-packages (from jsonschema>=3.0->altair<6,>=4.0->streamlit->MSCI==0.2.0) (0.22.3)\n",
            "Requirement already satisfied: mdurl~=0.1 in /usr/local/lib/python3.11/dist-packages (from markdown-it-py>=2.2.0->rich<14,>=10.14.0->streamlit->MSCI==0.2.0) (0.1.2)\n",
            "Requirement already satisfied: six>=1.5 in /usr/local/lib/python3.11/dist-packages (from python-dateutil>=2.7->matplotlib>=3.7->matchms->MSCI==0.2.0) (1.17.0)\n",
            "Downloading MSCI-0.2.0-py2.py3-none-any.whl (27 kB)\n",
            "Downloading biopython-1.85-cp311-cp311-manylinux_2_17_x86_64.manylinux2014_x86_64.whl (3.3 MB)\n",
            "\u001b[2K   \u001b[90m━━━━━━━━━━━━━━━━━━━━━━━━━━━━━━━━━━━━━━━━\u001b[0m \u001b[32m3.3/3.3 MB\u001b[0m \u001b[31m37.6 MB/s\u001b[0m eta \u001b[36m0:00:00\u001b[0m\n",
            "\u001b[?25hDownloading matchms-0.28.2-py3-none-any.whl (159 kB)\n",
            "\u001b[2K   \u001b[90m━━━━━━━━━━━━━━━━━━━━━━━━━━━━━━━━━━━━━━━━\u001b[0m \u001b[32m159.9/159.9 kB\u001b[0m \u001b[31m19.0 MB/s\u001b[0m eta \u001b[36m0:00:00\u001b[0m\n",
            "\u001b[?25hDownloading scipy-1.15.1-cp311-cp311-manylinux_2_17_x86_64.manylinux2014_x86_64.whl (40.6 MB)\n",
            "\u001b[2K   \u001b[90m━━━━━━━━━━━━━━━━━━━━━━━━━━━━━━━━━━━━━━━━\u001b[0m \u001b[32m40.6/40.6 MB\u001b[0m \u001b[31m21.8 MB/s\u001b[0m eta \u001b[36m0:00:00\u001b[0m\n",
            "\u001b[?25hDownloading streamlit-1.42.0-py2.py3-none-any.whl (9.6 MB)\n",
            "\u001b[2K   \u001b[90m━━━━━━━━━━━━━━━━━━━━━━━━━━━━━━━━━━━━━━━━\u001b[0m \u001b[32m9.6/9.6 MB\u001b[0m \u001b[31m105.7 MB/s\u001b[0m eta \u001b[36m0:00:00\u001b[0m\n",
            "\u001b[?25hDownloading lxml-4.9.4-cp311-cp311-manylinux_2_28_x86_64.whl (7.9 MB)\n",
            "\u001b[2K   \u001b[90m━━━━━━━━━━━━━━━━━━━━━━━━━━━━━━━━━━━━━━━━\u001b[0m \u001b[32m7.9/7.9 MB\u001b[0m \u001b[31m93.9 MB/s\u001b[0m eta \u001b[36m0:00:00\u001b[0m\n",
            "\u001b[?25hDownloading numba-0.60.0-cp311-cp311-manylinux2014_x86_64.manylinux_2_17_x86_64.whl (3.7 MB)\n",
            "\u001b[2K   \u001b[90m━━━━━━━━━━━━━━━━━━━━━━━━━━━━━━━━━━━━━━━━\u001b[0m \u001b[32m3.7/3.7 MB\u001b[0m \u001b[31m98.5 MB/s\u001b[0m eta \u001b[36m0:00:00\u001b[0m\n",
            "\u001b[?25hDownloading pandas-2.2.3-cp311-cp311-manylinux_2_17_x86_64.manylinux2014_x86_64.whl (13.1 MB)\n",
            "\u001b[2K   \u001b[90m━━━━━━━━━━━━━━━━━━━━━━━━━━━━━━━━━━━━━━━━\u001b[0m \u001b[32m13.1/13.1 MB\u001b[0m \u001b[31m96.0 MB/s\u001b[0m eta \u001b[36m0:00:00\u001b[0m\n",
            "\u001b[?25hDownloading pickydict-0.5.0-py3-none-any.whl (6.2 kB)\n",
            "Downloading pydeck-0.9.1-py2.py3-none-any.whl (6.9 MB)\n",
            "\u001b[2K   \u001b[90m━━━━━━━━━━━━━━━━━━━━━━━━━━━━━━━━━━━━━━━━\u001b[0m \u001b[32m6.9/6.9 MB\u001b[0m \u001b[31m103.8 MB/s\u001b[0m eta \u001b[36m0:00:00\u001b[0m\n",
            "\u001b[?25hDownloading pyteomics-4.7.5-py3-none-any.whl (238 kB)\n",
            "\u001b[2K   \u001b[90m━━━━━━━━━━━━━━━━━━━━━━━━━━━━━━━━━━━━━━━━\u001b[0m \u001b[32m239.0/239.0 kB\u001b[0m \u001b[31m25.8 MB/s\u001b[0m eta \u001b[36m0:00:00\u001b[0m\n",
            "\u001b[?25hDownloading rdkit-2024.9.5-cp311-cp311-manylinux_2_28_x86_64.whl (34.3 MB)\n",
            "\u001b[2K   \u001b[90m━━━━━━━━━━━━━━━━━━━━━━━━━━━━━━━━━━━━━━━━\u001b[0m \u001b[32m34.3/34.3 MB\u001b[0m \u001b[31m17.3 MB/s\u001b[0m eta \u001b[36m0:00:00\u001b[0m\n",
            "\u001b[?25hDownloading sparsestack-0.6.4-py3-none-any.whl (9.8 kB)\n",
            "Downloading watchdog-6.0.0-py3-none-manylinux2014_x86_64.whl (79 kB)\n",
            "\u001b[2K   \u001b[90m━━━━━━━━━━━━━━━━━━━━━━━━━━━━━━━━━━━━━━━━\u001b[0m \u001b[32m79.1/79.1 kB\u001b[0m \u001b[31m8.4 MB/s\u001b[0m eta \u001b[36m0:00:00\u001b[0m\n",
            "\u001b[?25hDownloading llvmlite-0.43.0-cp311-cp311-manylinux_2_17_x86_64.manylinux2014_x86_64.whl (43.9 MB)\n",
            "\u001b[2K   \u001b[90m━━━━━━━━━━━━━━━━━━━━━━━━━━━━━━━━━━━━━━━━\u001b[0m \u001b[32m43.9/43.9 MB\u001b[0m \u001b[31m19.7 MB/s\u001b[0m eta \u001b[36m0:00:00\u001b[0m\n",
            "\u001b[?25hBuilding wheels for collected packages: pubchempy\n",
            "  Building wheel for pubchempy (setup.py) ... \u001b[?25l\u001b[?25hdone\n",
            "  Created wheel for pubchempy: filename=PubChemPy-1.0.4-py3-none-any.whl size=13819 sha256=8e2ba801285770a4d13230bce4b57c048c418d282f44876befdbc41caa4cb9f4\n",
            "  Stored in directory: /root/.cache/pip/wheels/8b/e3/6c/3385b2db08b0985a87f5b117f98d0cb61a3ae3ca3bcbbd8307\n",
            "Successfully built pubchempy\n",
            "Installing collected packages: pyteomics, pubchempy, watchdog, scipy, rdkit, pickydict, lxml, llvmlite, Biopython, pydeck, pandas, numba, sparsestack, matchms, streamlit, MSCI\n",
            "  Attempting uninstall: scipy\n",
            "    Found existing installation: scipy 1.13.1\n",
            "    Uninstalling scipy-1.13.1:\n",
            "      Successfully uninstalled scipy-1.13.1\n",
            "  Attempting uninstall: lxml\n",
            "    Found existing installation: lxml 5.3.0\n",
            "    Uninstalling lxml-5.3.0:\n",
            "      Successfully uninstalled lxml-5.3.0\n",
            "  Attempting uninstall: llvmlite\n",
            "    Found existing installation: llvmlite 0.44.0\n",
            "    Uninstalling llvmlite-0.44.0:\n",
            "      Successfully uninstalled llvmlite-0.44.0\n",
            "  Attempting uninstall: pandas\n",
            "    Found existing installation: pandas 2.2.2\n",
            "    Uninstalling pandas-2.2.2:\n",
            "      Successfully uninstalled pandas-2.2.2\n",
            "  Attempting uninstall: numba\n",
            "    Found existing installation: numba 0.61.0\n",
            "    Uninstalling numba-0.61.0:\n",
            "      Successfully uninstalled numba-0.61.0\n",
            "\u001b[31mERROR: pip's dependency resolver does not currently take into account all the packages that are installed. This behaviour is the source of the following dependency conflicts.\n",
            "google-colab 1.0.0 requires pandas==2.2.2, but you have pandas 2.2.3 which is incompatible.\n",
            "gensim 4.3.3 requires scipy<1.14.0,>=1.7.0, but you have scipy 1.15.1 which is incompatible.\u001b[0m\u001b[31m\n",
            "\u001b[0mSuccessfully installed Biopython-1.85 MSCI-0.2.0 llvmlite-0.43.0 lxml-4.9.4 matchms-0.28.2 numba-0.60.0 pandas-2.2.3 pickydict-0.5.0 pubchempy-1.0.4 pydeck-0.9.1 pyteomics-4.7.5 rdkit-2024.9.5 scipy-1.15.1 sparsestack-0.6.4 streamlit-1.42.0 watchdog-6.0.0\n",
            "Requirement already satisfied: biopython in /usr/local/lib/python3.11/dist-packages (1.85)\n",
            "Requirement already satisfied: numpy in /usr/local/lib/python3.11/dist-packages (from biopython) (1.26.4)\n",
            "Requirement already satisfied: matchms in /usr/local/lib/python3.11/dist-packages (0.28.2)\n",
            "Requirement already satisfied: deprecated>=1.2.14 in /usr/local/lib/python3.11/dist-packages (from matchms) (1.2.18)\n",
            "Requirement already satisfied: lxml<5.0.0,>=4.9.3 in /usr/local/lib/python3.11/dist-packages (from matchms) (4.9.4)\n",
            "Requirement already satisfied: matplotlib>=3.7 in /usr/local/lib/python3.11/dist-packages (from matchms) (3.10.0)\n",
            "Requirement already satisfied: networkx<4.0.0,>=3.4.2 in /usr/local/lib/python3.11/dist-packages (from matchms) (3.4.2)\n",
            "Requirement already satisfied: numba<0.61.0,>=0.60.0 in /usr/local/lib/python3.11/dist-packages (from matchms) (0.60.0)\n",
            "Requirement already satisfied: numpy>1.24 in /usr/local/lib/python3.11/dist-packages (from matchms) (1.26.4)\n",
            "Requirement already satisfied: pandas<3.0.0,>=2.2.3 in /usr/local/lib/python3.11/dist-packages (from matchms) (2.2.3)\n",
            "Requirement already satisfied: pickydict>=0.4.0 in /usr/local/lib/python3.11/dist-packages (from matchms) (0.5.0)\n",
            "Requirement already satisfied: pillow!=9.4.0 in /usr/local/lib/python3.11/dist-packages (from matchms) (11.1.0)\n",
            "Requirement already satisfied: pubchempy in /usr/local/lib/python3.11/dist-packages (from matchms) (1.0.4)\n",
            "Requirement already satisfied: pyteomics>=4.6 in /usr/local/lib/python3.11/dist-packages (from matchms) (4.7.5)\n",
            "Requirement already satisfied: pyyaml>=6.0.1 in /usr/local/lib/python3.11/dist-packages (from matchms) (6.0.2)\n",
            "Requirement already satisfied: rdkit<2025.0.0,>=2024.3.5 in /usr/local/lib/python3.11/dist-packages (from matchms) (2024.9.5)\n",
            "Requirement already satisfied: requests>=2.31.0 in /usr/local/lib/python3.11/dist-packages (from matchms) (2.32.3)\n",
            "Requirement already satisfied: scipy<2.0.0,>=1.14.1 in /usr/local/lib/python3.11/dist-packages (from matchms) (1.15.1)\n",
            "Requirement already satisfied: sparsestack>=0.6.0 in /usr/local/lib/python3.11/dist-packages (from matchms) (0.6.4)\n",
            "Requirement already satisfied: tqdm>=4.65.0 in /usr/local/lib/python3.11/dist-packages (from matchms) (4.67.1)\n",
            "Requirement already satisfied: wrapt<2,>=1.10 in /usr/local/lib/python3.11/dist-packages (from deprecated>=1.2.14->matchms) (1.17.2)\n",
            "Requirement already satisfied: contourpy>=1.0.1 in /usr/local/lib/python3.11/dist-packages (from matplotlib>=3.7->matchms) (1.3.1)\n",
            "Requirement already satisfied: cycler>=0.10 in /usr/local/lib/python3.11/dist-packages (from matplotlib>=3.7->matchms) (0.12.1)\n",
            "Requirement already satisfied: fonttools>=4.22.0 in /usr/local/lib/python3.11/dist-packages (from matplotlib>=3.7->matchms) (4.55.8)\n",
            "Requirement already satisfied: kiwisolver>=1.3.1 in /usr/local/lib/python3.11/dist-packages (from matplotlib>=3.7->matchms) (1.4.8)\n",
            "Requirement already satisfied: packaging>=20.0 in /usr/local/lib/python3.11/dist-packages (from matplotlib>=3.7->matchms) (24.2)\n",
            "Requirement already satisfied: pyparsing>=2.3.1 in /usr/local/lib/python3.11/dist-packages (from matplotlib>=3.7->matchms) (3.2.1)\n",
            "Requirement already satisfied: python-dateutil>=2.7 in /usr/local/lib/python3.11/dist-packages (from matplotlib>=3.7->matchms) (2.8.2)\n",
            "Requirement already satisfied: llvmlite<0.44,>=0.43.0dev0 in /usr/local/lib/python3.11/dist-packages (from numba<0.61.0,>=0.60.0->matchms) (0.43.0)\n",
            "Requirement already satisfied: pytz>=2020.1 in /usr/local/lib/python3.11/dist-packages (from pandas<3.0.0,>=2.2.3->matchms) (2025.1)\n",
            "Requirement already satisfied: tzdata>=2022.7 in /usr/local/lib/python3.11/dist-packages (from pandas<3.0.0,>=2.2.3->matchms) (2025.1)\n",
            "Requirement already satisfied: charset-normalizer<4,>=2 in /usr/local/lib/python3.11/dist-packages (from requests>=2.31.0->matchms) (3.4.1)\n",
            "Requirement already satisfied: idna<4,>=2.5 in /usr/local/lib/python3.11/dist-packages (from requests>=2.31.0->matchms) (3.10)\n",
            "Requirement already satisfied: urllib3<3,>=1.21.1 in /usr/local/lib/python3.11/dist-packages (from requests>=2.31.0->matchms) (2.3.0)\n",
            "Requirement already satisfied: certifi>=2017.4.17 in /usr/local/lib/python3.11/dist-packages (from requests>=2.31.0->matchms) (2025.1.31)\n",
            "Requirement already satisfied: six>=1.5 in /usr/local/lib/python3.11/dist-packages (from python-dateutil>=2.7->matplotlib>=3.7->matchms) (1.17.0)\n"
          ]
        }
      ]
    },
    {
      "cell_type": "markdown",
      "source": [
        "# Import\n"
      ],
      "metadata": {
        "id": "r4K23vVAMe_G"
      }
    },
    {
      "cell_type": "code",
      "source": [
        "from MSCI.Preprocessing.Koina import PeptideProcessor\n",
        "from MSCI.Grouping_MS1.Grouping_mw_irt import process_peptide_combinations\n",
        "from MSCI.Preprocessing.read_msp_file import read_msp_file\n",
        "from MSCI.Similarity.spectral_angle_similarity import process_spectra_pairs\n",
        "from MSCI.data.digest import parse_fasta_and_digest, tryptic_digest, peptides_to_csv\n",
        "from matchms.importing import load_from_msp\n",
        "import random\n",
        "import numpy as np\n",
        "import pandas as pd"
      ],
      "metadata": {
        "id": "3VcoQ6H6Miwl"
      },
      "execution_count": 6,
      "outputs": []
    },
    {
      "cell_type": "markdown",
      "source": [
        "# Generate predicted dataset"
      ],
      "metadata": {
        "id": "G3vayOhULpQm"
      }
    },
    {
      "cell_type": "markdown",
      "source": [
        "## Parse fasta file"
      ],
      "metadata": {
        "id": "Qh6sa7EsyUJs"
      }
    },
    {
      "cell_type": "code",
      "source": [
        "import requests\n",
        "\n",
        "# URL of the FASTA file\n",
        "url = \"https://raw.githubusercontent.com/proteomicsunitcrg/MSCI/main/tutorial/sp_human_2023_04.fasta\"\n",
        "\n",
        "# Download the file\n",
        "response = requests.get(url)\n",
        "if response.status_code == 200:\n",
        "    fasta_file = \"sp_human_2023_04.fasta\"  # Save as a local file\n",
        "    with open(fasta_file, \"w\") as f:\n",
        "        f.write(response.text)\n",
        "else:\n",
        "    raise Exception(f\"Failed to download file: {response.status_code}\")\n",
        "\n",
        "# Now pass the local file path to your function\n",
        "result = parse_fasta_and_digest(fasta_file, digest_type=\"trypsin\")\n",
        "\n",
        "# Save output\n",
        "peptides_to_csv(result, \"random_tryptic_peptides.txt\")\n"
      ],
      "metadata": {
        "id": "hhl5gmfOyTaj"
      },
      "execution_count": 9,
      "outputs": []
    },
    {
      "cell_type": "markdown",
      "source": [
        "###  Download the list of peptides of interest\n"
      ],
      "metadata": {
        "id": "hi6JsD4uJhpH"
      }
    },
    {
      "cell_type": "code",
      "source": [
        "import random\n",
        "\n",
        "# List of standard amino acids\n",
        "amino_acids = 'ACDEFGHIKLMNPQRSTVWY'\n",
        "\n",
        "# Function to generate a single tryptic peptide\n",
        "def generate_tryptic_peptide(min_length=8, max_length=20):\n",
        "    length = random.randint(min_length, max_length - 1)\n",
        "    peptide = ''.join(random.choices(amino_acids, k=length))\n",
        "    peptide += random.choice('KR')\n",
        "    return peptide\n",
        "\n",
        "# Generate a list of 90 random tryptic peptides\n",
        "tryptic_peptides = [generate_tryptic_peptide() for _ in range(90)]\n",
        "\n",
        "# Generate 5 pairs of peptides that are permutations of each other and print them\n",
        "permuted_pairs = []\n",
        "for _ in range(5):\n",
        "    peptide = generate_tryptic_peptide()\n",
        "    # Ensure the peptide has at least 2 characters to swap\n",
        "    if len(peptide) < 2:\n",
        "        continue\n",
        "    # Select two different positions to swap\n",
        "    pos1, pos2 = random.sample(range(len(peptide) - 1), 2)\n",
        "    permuted_peptide_list = list(peptide)\n",
        "    permuted_peptide_list[pos1], permuted_peptide_list[pos2] = permuted_peptide_list[pos2], permuted_peptide_list[pos1]\n",
        "    permuted_peptide = ''.join(permuted_peptide_list)\n",
        "    tryptic_peptides.append(peptide)\n",
        "    tryptic_peptides.append(permuted_peptide)\n",
        "    permuted_pairs.append((peptide, permuted_peptide))\n",
        "\n",
        "# Ensure the last peptide meets the length requirement\n",
        "last_peptide_length = random.randint(5, 20)\n",
        "last_peptide = ''.join(random.choices(amino_acids, k=last_peptide_length))\n",
        "tryptic_peptides[-1] = last_peptide\n",
        "\n",
        "# Shuffle the list to mix the pairs with the other peptides\n",
        "random.shuffle(tryptic_peptides)\n",
        "# Save the peptides to a file\n",
        "with open('random_tryptic_peptides.txt', 'w') as f:\n",
        "    for peptide in tryptic_peptides:\n",
        "        f.write(f\"{peptide}\\n\")\n",
        "\n",
        "\n",
        "print(\"Generated 100 random tryptic peptides with permutation pairs and saved to 'random_tryptic_peptides.txt'.\")\n"
      ],
      "metadata": {
        "colab": {
          "base_uri": "https://localhost:8080/"
        },
        "id": "h_yxEJjbJgnf",
        "outputId": "6806507a-534c-4513-87b6-ae02264941d5"
      },
      "execution_count": null,
      "outputs": [
        {
          "output_type": "stream",
          "name": "stdout",
          "text": [
            "Generated 100 random tryptic peptides with permutation pairs and saved to 'random_tryptic_peptides.txt'.\n"
          ]
        }
      ]
    },
    {
      "cell_type": "markdown",
      "source": [
        "### Predict with Koina"
      ],
      "metadata": {
        "id": "yhiwXbsWOdsE"
      }
    },
    {
      "cell_type": "markdown",
      "source": [
        "#### If available your own list of peptides"
      ],
      "metadata": {
        "id": "1p20aVHV82-X"
      }
    },
    {
      "cell_type": "code",
      "source": [
        "processor = PeptideProcessor(\n",
        "    input_file=\"random_tryptic_peptides.txt\",\n",
        "    collision_energy=30,\n",
        "    charge=2,\n",
        "    model_intensity=\"Prosit_2020_intensity_HCD\",\n",
        "    model_irt=\"Prosit_2019_irt\"\n",
        ")\n",
        "\n",
        "processor.process('random_tryptic_peptides.msp')"
      ],
      "metadata": {
        "id": "Gqm1dbxfQWkp"
      },
      "execution_count": null,
      "outputs": []
    },
    {
      "cell_type": "markdown",
      "source": [
        "# Load dataset\n"
      ],
      "metadata": {
        "id": "nVf97aTgLFJm"
      }
    },
    {
      "cell_type": "code",
      "source": [
        "# You can use your own spectra\n",
        "File= 'random_tryptic_peptides.msp'\n",
        "spectra = list(load_from_msp(File))"
      ],
      "metadata": {
        "id": "IfrhTBn-LB5X",
        "colab": {
          "base_uri": "https://localhost:8080/"
        },
        "outputId": "759f0178-61de-4587-a441-778c31ed9468"
      },
      "execution_count": null,
      "outputs": [
        {
          "output_type": "stream",
          "name": "stdout",
          "text": [
            "2024-08-22 13:30:02,993:WARNING:matchms:add_precursor_mz:No precursor_mz found in metadata.\n"
          ]
        },
        {
          "output_type": "stream",
          "name": "stderr",
          "text": [
            "WARNING:matchms:No precursor_mz found in metadata.\n"
          ]
        },
        {
          "output_type": "stream",
          "name": "stdout",
          "text": [
            "2024-08-22 13:30:03,001:WARNING:matchms:add_precursor_mz:No precursor_mz found in metadata.\n"
          ]
        },
        {
          "output_type": "stream",
          "name": "stderr",
          "text": [
            "WARNING:matchms:No precursor_mz found in metadata.\n"
          ]
        },
        {
          "output_type": "stream",
          "name": "stdout",
          "text": [
            "2024-08-22 13:30:03,008:WARNING:matchms:add_precursor_mz:No precursor_mz found in metadata.\n"
          ]
        },
        {
          "output_type": "stream",
          "name": "stderr",
          "text": [
            "WARNING:matchms:No precursor_mz found in metadata.\n"
          ]
        },
        {
          "output_type": "stream",
          "name": "stdout",
          "text": [
            "2024-08-22 13:30:03,014:WARNING:matchms:add_precursor_mz:No precursor_mz found in metadata.\n"
          ]
        },
        {
          "output_type": "stream",
          "name": "stderr",
          "text": [
            "WARNING:matchms:No precursor_mz found in metadata.\n"
          ]
        },
        {
          "output_type": "stream",
          "name": "stdout",
          "text": [
            "2024-08-22 13:30:03,020:WARNING:matchms:add_precursor_mz:No precursor_mz found in metadata.\n"
          ]
        },
        {
          "output_type": "stream",
          "name": "stderr",
          "text": [
            "WARNING:matchms:No precursor_mz found in metadata.\n"
          ]
        },
        {
          "output_type": "stream",
          "name": "stdout",
          "text": [
            "2024-08-22 13:30:03,026:WARNING:matchms:add_precursor_mz:No precursor_mz found in metadata.\n"
          ]
        },
        {
          "output_type": "stream",
          "name": "stderr",
          "text": [
            "WARNING:matchms:No precursor_mz found in metadata.\n"
          ]
        },
        {
          "output_type": "stream",
          "name": "stdout",
          "text": [
            "2024-08-22 13:30:03,032:WARNING:matchms:add_precursor_mz:No precursor_mz found in metadata.\n"
          ]
        },
        {
          "output_type": "stream",
          "name": "stderr",
          "text": [
            "WARNING:matchms:No precursor_mz found in metadata.\n"
          ]
        },
        {
          "output_type": "stream",
          "name": "stdout",
          "text": [
            "2024-08-22 13:30:03,038:WARNING:matchms:add_precursor_mz:No precursor_mz found in metadata.\n"
          ]
        },
        {
          "output_type": "stream",
          "name": "stderr",
          "text": [
            "WARNING:matchms:No precursor_mz found in metadata.\n"
          ]
        },
        {
          "output_type": "stream",
          "name": "stdout",
          "text": [
            "2024-08-22 13:30:03,043:WARNING:matchms:add_precursor_mz:No precursor_mz found in metadata.\n"
          ]
        },
        {
          "output_type": "stream",
          "name": "stderr",
          "text": [
            "WARNING:matchms:No precursor_mz found in metadata.\n"
          ]
        },
        {
          "output_type": "stream",
          "name": "stdout",
          "text": [
            "2024-08-22 13:30:03,046:WARNING:matchms:add_precursor_mz:No precursor_mz found in metadata.\n"
          ]
        },
        {
          "output_type": "stream",
          "name": "stderr",
          "text": [
            "WARNING:matchms:No precursor_mz found in metadata.\n"
          ]
        },
        {
          "output_type": "stream",
          "name": "stdout",
          "text": [
            "2024-08-22 13:30:03,050:WARNING:matchms:add_precursor_mz:No precursor_mz found in metadata.\n"
          ]
        },
        {
          "output_type": "stream",
          "name": "stderr",
          "text": [
            "WARNING:matchms:No precursor_mz found in metadata.\n"
          ]
        },
        {
          "output_type": "stream",
          "name": "stdout",
          "text": [
            "2024-08-22 13:30:03,055:WARNING:matchms:add_precursor_mz:No precursor_mz found in metadata.\n"
          ]
        },
        {
          "output_type": "stream",
          "name": "stderr",
          "text": [
            "WARNING:matchms:No precursor_mz found in metadata.\n"
          ]
        },
        {
          "output_type": "stream",
          "name": "stdout",
          "text": [
            "2024-08-22 13:30:03,059:WARNING:matchms:add_precursor_mz:No precursor_mz found in metadata.\n"
          ]
        },
        {
          "output_type": "stream",
          "name": "stderr",
          "text": [
            "WARNING:matchms:No precursor_mz found in metadata.\n"
          ]
        },
        {
          "output_type": "stream",
          "name": "stdout",
          "text": [
            "2024-08-22 13:30:03,062:WARNING:matchms:add_precursor_mz:No precursor_mz found in metadata.\n"
          ]
        },
        {
          "output_type": "stream",
          "name": "stderr",
          "text": [
            "WARNING:matchms:No precursor_mz found in metadata.\n"
          ]
        },
        {
          "output_type": "stream",
          "name": "stdout",
          "text": [
            "2024-08-22 13:30:03,066:WARNING:matchms:add_precursor_mz:No precursor_mz found in metadata.\n"
          ]
        },
        {
          "output_type": "stream",
          "name": "stderr",
          "text": [
            "WARNING:matchms:No precursor_mz found in metadata.\n"
          ]
        },
        {
          "output_type": "stream",
          "name": "stdout",
          "text": [
            "2024-08-22 13:30:03,075:WARNING:matchms:add_precursor_mz:No precursor_mz found in metadata.\n"
          ]
        },
        {
          "output_type": "stream",
          "name": "stderr",
          "text": [
            "WARNING:matchms:No precursor_mz found in metadata.\n"
          ]
        },
        {
          "output_type": "stream",
          "name": "stdout",
          "text": [
            "2024-08-22 13:30:03,079:WARNING:matchms:add_precursor_mz:No precursor_mz found in metadata.\n"
          ]
        },
        {
          "output_type": "stream",
          "name": "stderr",
          "text": [
            "WARNING:matchms:No precursor_mz found in metadata.\n"
          ]
        },
        {
          "output_type": "stream",
          "name": "stdout",
          "text": [
            "2024-08-22 13:30:03,082:WARNING:matchms:add_precursor_mz:No precursor_mz found in metadata.\n"
          ]
        },
        {
          "output_type": "stream",
          "name": "stderr",
          "text": [
            "WARNING:matchms:No precursor_mz found in metadata.\n"
          ]
        },
        {
          "output_type": "stream",
          "name": "stdout",
          "text": [
            "2024-08-22 13:30:03,086:WARNING:matchms:add_precursor_mz:No precursor_mz found in metadata.\n"
          ]
        },
        {
          "output_type": "stream",
          "name": "stderr",
          "text": [
            "WARNING:matchms:No precursor_mz found in metadata.\n"
          ]
        },
        {
          "output_type": "stream",
          "name": "stdout",
          "text": [
            "2024-08-22 13:30:03,089:WARNING:matchms:add_precursor_mz:No precursor_mz found in metadata.\n"
          ]
        },
        {
          "output_type": "stream",
          "name": "stderr",
          "text": [
            "WARNING:matchms:No precursor_mz found in metadata.\n"
          ]
        },
        {
          "output_type": "stream",
          "name": "stdout",
          "text": [
            "2024-08-22 13:30:03,094:WARNING:matchms:add_precursor_mz:No precursor_mz found in metadata.\n"
          ]
        },
        {
          "output_type": "stream",
          "name": "stderr",
          "text": [
            "WARNING:matchms:No precursor_mz found in metadata.\n"
          ]
        },
        {
          "output_type": "stream",
          "name": "stdout",
          "text": [
            "2024-08-22 13:30:03,098:WARNING:matchms:add_precursor_mz:No precursor_mz found in metadata.\n"
          ]
        },
        {
          "output_type": "stream",
          "name": "stderr",
          "text": [
            "WARNING:matchms:No precursor_mz found in metadata.\n"
          ]
        },
        {
          "output_type": "stream",
          "name": "stdout",
          "text": [
            "2024-08-22 13:30:03,102:WARNING:matchms:add_precursor_mz:No precursor_mz found in metadata.\n"
          ]
        },
        {
          "output_type": "stream",
          "name": "stderr",
          "text": [
            "WARNING:matchms:No precursor_mz found in metadata.\n"
          ]
        },
        {
          "output_type": "stream",
          "name": "stdout",
          "text": [
            "2024-08-22 13:30:03,105:WARNING:matchms:add_precursor_mz:No precursor_mz found in metadata.\n"
          ]
        },
        {
          "output_type": "stream",
          "name": "stderr",
          "text": [
            "WARNING:matchms:No precursor_mz found in metadata.\n"
          ]
        },
        {
          "output_type": "stream",
          "name": "stdout",
          "text": [
            "2024-08-22 13:30:03,108:WARNING:matchms:add_precursor_mz:No precursor_mz found in metadata.\n"
          ]
        },
        {
          "output_type": "stream",
          "name": "stderr",
          "text": [
            "WARNING:matchms:No precursor_mz found in metadata.\n"
          ]
        },
        {
          "output_type": "stream",
          "name": "stdout",
          "text": [
            "2024-08-22 13:30:03,113:WARNING:matchms:add_precursor_mz:No precursor_mz found in metadata.\n"
          ]
        },
        {
          "output_type": "stream",
          "name": "stderr",
          "text": [
            "WARNING:matchms:No precursor_mz found in metadata.\n"
          ]
        },
        {
          "output_type": "stream",
          "name": "stdout",
          "text": [
            "2024-08-22 13:30:03,116:WARNING:matchms:add_precursor_mz:No precursor_mz found in metadata.\n"
          ]
        },
        {
          "output_type": "stream",
          "name": "stderr",
          "text": [
            "WARNING:matchms:No precursor_mz found in metadata.\n"
          ]
        },
        {
          "output_type": "stream",
          "name": "stdout",
          "text": [
            "2024-08-22 13:30:03,120:WARNING:matchms:add_precursor_mz:No precursor_mz found in metadata.\n"
          ]
        },
        {
          "output_type": "stream",
          "name": "stderr",
          "text": [
            "WARNING:matchms:No precursor_mz found in metadata.\n"
          ]
        },
        {
          "output_type": "stream",
          "name": "stdout",
          "text": [
            "2024-08-22 13:30:03,123:WARNING:matchms:add_precursor_mz:No precursor_mz found in metadata.\n"
          ]
        },
        {
          "output_type": "stream",
          "name": "stderr",
          "text": [
            "WARNING:matchms:No precursor_mz found in metadata.\n"
          ]
        },
        {
          "output_type": "stream",
          "name": "stdout",
          "text": [
            "2024-08-22 13:30:03,126:WARNING:matchms:add_precursor_mz:No precursor_mz found in metadata.\n"
          ]
        },
        {
          "output_type": "stream",
          "name": "stderr",
          "text": [
            "WARNING:matchms:No precursor_mz found in metadata.\n"
          ]
        },
        {
          "output_type": "stream",
          "name": "stdout",
          "text": [
            "2024-08-22 13:30:03,130:WARNING:matchms:add_precursor_mz:No precursor_mz found in metadata.\n"
          ]
        },
        {
          "output_type": "stream",
          "name": "stderr",
          "text": [
            "WARNING:matchms:No precursor_mz found in metadata.\n"
          ]
        },
        {
          "output_type": "stream",
          "name": "stdout",
          "text": [
            "2024-08-22 13:30:03,135:WARNING:matchms:add_precursor_mz:No precursor_mz found in metadata.\n"
          ]
        },
        {
          "output_type": "stream",
          "name": "stderr",
          "text": [
            "WARNING:matchms:No precursor_mz found in metadata.\n"
          ]
        },
        {
          "output_type": "stream",
          "name": "stdout",
          "text": [
            "2024-08-22 13:30:03,139:WARNING:matchms:add_precursor_mz:No precursor_mz found in metadata.\n"
          ]
        },
        {
          "output_type": "stream",
          "name": "stderr",
          "text": [
            "WARNING:matchms:No precursor_mz found in metadata.\n"
          ]
        },
        {
          "output_type": "stream",
          "name": "stdout",
          "text": [
            "2024-08-22 13:30:03,143:WARNING:matchms:add_precursor_mz:No precursor_mz found in metadata.\n"
          ]
        },
        {
          "output_type": "stream",
          "name": "stderr",
          "text": [
            "WARNING:matchms:No precursor_mz found in metadata.\n"
          ]
        },
        {
          "output_type": "stream",
          "name": "stdout",
          "text": [
            "2024-08-22 13:30:03,146:WARNING:matchms:add_precursor_mz:No precursor_mz found in metadata.\n"
          ]
        },
        {
          "output_type": "stream",
          "name": "stderr",
          "text": [
            "WARNING:matchms:No precursor_mz found in metadata.\n"
          ]
        },
        {
          "output_type": "stream",
          "name": "stdout",
          "text": [
            "2024-08-22 13:30:03,150:WARNING:matchms:add_precursor_mz:No precursor_mz found in metadata.\n"
          ]
        },
        {
          "output_type": "stream",
          "name": "stderr",
          "text": [
            "WARNING:matchms:No precursor_mz found in metadata.\n"
          ]
        },
        {
          "output_type": "stream",
          "name": "stdout",
          "text": [
            "2024-08-22 13:30:03,153:WARNING:matchms:add_precursor_mz:No precursor_mz found in metadata.\n"
          ]
        },
        {
          "output_type": "stream",
          "name": "stderr",
          "text": [
            "WARNING:matchms:No precursor_mz found in metadata.\n"
          ]
        },
        {
          "output_type": "stream",
          "name": "stdout",
          "text": [
            "2024-08-22 13:30:03,157:WARNING:matchms:add_precursor_mz:No precursor_mz found in metadata.\n"
          ]
        },
        {
          "output_type": "stream",
          "name": "stderr",
          "text": [
            "WARNING:matchms:No precursor_mz found in metadata.\n"
          ]
        },
        {
          "output_type": "stream",
          "name": "stdout",
          "text": [
            "2024-08-22 13:30:03,163:WARNING:matchms:add_precursor_mz:No precursor_mz found in metadata.\n"
          ]
        },
        {
          "output_type": "stream",
          "name": "stderr",
          "text": [
            "WARNING:matchms:No precursor_mz found in metadata.\n"
          ]
        },
        {
          "output_type": "stream",
          "name": "stdout",
          "text": [
            "2024-08-22 13:30:03,167:WARNING:matchms:add_precursor_mz:No precursor_mz found in metadata.\n"
          ]
        },
        {
          "output_type": "stream",
          "name": "stderr",
          "text": [
            "WARNING:matchms:No precursor_mz found in metadata.\n"
          ]
        },
        {
          "output_type": "stream",
          "name": "stdout",
          "text": [
            "2024-08-22 13:30:03,170:WARNING:matchms:add_precursor_mz:No precursor_mz found in metadata.\n"
          ]
        },
        {
          "output_type": "stream",
          "name": "stderr",
          "text": [
            "WARNING:matchms:No precursor_mz found in metadata.\n"
          ]
        },
        {
          "output_type": "stream",
          "name": "stdout",
          "text": [
            "2024-08-22 13:30:03,174:WARNING:matchms:add_precursor_mz:No precursor_mz found in metadata.\n"
          ]
        },
        {
          "output_type": "stream",
          "name": "stderr",
          "text": [
            "WARNING:matchms:No precursor_mz found in metadata.\n"
          ]
        },
        {
          "output_type": "stream",
          "name": "stdout",
          "text": [
            "2024-08-22 13:30:03,178:WARNING:matchms:add_precursor_mz:No precursor_mz found in metadata.\n"
          ]
        },
        {
          "output_type": "stream",
          "name": "stderr",
          "text": [
            "WARNING:matchms:No precursor_mz found in metadata.\n"
          ]
        },
        {
          "output_type": "stream",
          "name": "stdout",
          "text": [
            "2024-08-22 13:30:03,181:WARNING:matchms:add_precursor_mz:No precursor_mz found in metadata.\n"
          ]
        },
        {
          "output_type": "stream",
          "name": "stderr",
          "text": [
            "WARNING:matchms:No precursor_mz found in metadata.\n"
          ]
        },
        {
          "output_type": "stream",
          "name": "stdout",
          "text": [
            "2024-08-22 13:30:03,184:WARNING:matchms:add_precursor_mz:No precursor_mz found in metadata.\n"
          ]
        },
        {
          "output_type": "stream",
          "name": "stderr",
          "text": [
            "WARNING:matchms:No precursor_mz found in metadata.\n"
          ]
        },
        {
          "output_type": "stream",
          "name": "stdout",
          "text": [
            "2024-08-22 13:30:03,187:WARNING:matchms:add_precursor_mz:No precursor_mz found in metadata.\n"
          ]
        },
        {
          "output_type": "stream",
          "name": "stderr",
          "text": [
            "WARNING:matchms:No precursor_mz found in metadata.\n"
          ]
        },
        {
          "output_type": "stream",
          "name": "stdout",
          "text": [
            "2024-08-22 13:30:03,191:WARNING:matchms:add_precursor_mz:No precursor_mz found in metadata.\n"
          ]
        },
        {
          "output_type": "stream",
          "name": "stderr",
          "text": [
            "WARNING:matchms:No precursor_mz found in metadata.\n"
          ]
        },
        {
          "output_type": "stream",
          "name": "stdout",
          "text": [
            "2024-08-22 13:30:03,195:WARNING:matchms:add_precursor_mz:No precursor_mz found in metadata.\n"
          ]
        },
        {
          "output_type": "stream",
          "name": "stderr",
          "text": [
            "WARNING:matchms:No precursor_mz found in metadata.\n"
          ]
        },
        {
          "output_type": "stream",
          "name": "stdout",
          "text": [
            "2024-08-22 13:30:03,199:WARNING:matchms:add_precursor_mz:No precursor_mz found in metadata.\n"
          ]
        },
        {
          "output_type": "stream",
          "name": "stderr",
          "text": [
            "WARNING:matchms:No precursor_mz found in metadata.\n"
          ]
        },
        {
          "output_type": "stream",
          "name": "stdout",
          "text": [
            "2024-08-22 13:30:03,203:WARNING:matchms:add_precursor_mz:No precursor_mz found in metadata.\n"
          ]
        },
        {
          "output_type": "stream",
          "name": "stderr",
          "text": [
            "WARNING:matchms:No precursor_mz found in metadata.\n"
          ]
        },
        {
          "output_type": "stream",
          "name": "stdout",
          "text": [
            "2024-08-22 13:30:03,207:WARNING:matchms:add_precursor_mz:No precursor_mz found in metadata.\n"
          ]
        },
        {
          "output_type": "stream",
          "name": "stderr",
          "text": [
            "WARNING:matchms:No precursor_mz found in metadata.\n"
          ]
        },
        {
          "output_type": "stream",
          "name": "stdout",
          "text": [
            "2024-08-22 13:30:03,210:WARNING:matchms:add_precursor_mz:No precursor_mz found in metadata.\n"
          ]
        },
        {
          "output_type": "stream",
          "name": "stderr",
          "text": [
            "WARNING:matchms:No precursor_mz found in metadata.\n"
          ]
        },
        {
          "output_type": "stream",
          "name": "stdout",
          "text": [
            "2024-08-22 13:30:03,213:WARNING:matchms:add_precursor_mz:No precursor_mz found in metadata.\n"
          ]
        },
        {
          "output_type": "stream",
          "name": "stderr",
          "text": [
            "WARNING:matchms:No precursor_mz found in metadata.\n"
          ]
        },
        {
          "output_type": "stream",
          "name": "stdout",
          "text": [
            "2024-08-22 13:30:03,216:WARNING:matchms:add_precursor_mz:No precursor_mz found in metadata.\n"
          ]
        },
        {
          "output_type": "stream",
          "name": "stderr",
          "text": [
            "WARNING:matchms:No precursor_mz found in metadata.\n"
          ]
        },
        {
          "output_type": "stream",
          "name": "stdout",
          "text": [
            "2024-08-22 13:30:03,220:WARNING:matchms:add_precursor_mz:No precursor_mz found in metadata.\n"
          ]
        },
        {
          "output_type": "stream",
          "name": "stderr",
          "text": [
            "WARNING:matchms:No precursor_mz found in metadata.\n"
          ]
        },
        {
          "output_type": "stream",
          "name": "stdout",
          "text": [
            "2024-08-22 13:30:03,223:WARNING:matchms:add_precursor_mz:No precursor_mz found in metadata.\n"
          ]
        },
        {
          "output_type": "stream",
          "name": "stderr",
          "text": [
            "WARNING:matchms:No precursor_mz found in metadata.\n"
          ]
        },
        {
          "output_type": "stream",
          "name": "stdout",
          "text": [
            "2024-08-22 13:30:03,227:WARNING:matchms:add_precursor_mz:No precursor_mz found in metadata.\n"
          ]
        },
        {
          "output_type": "stream",
          "name": "stderr",
          "text": [
            "WARNING:matchms:No precursor_mz found in metadata.\n"
          ]
        },
        {
          "output_type": "stream",
          "name": "stdout",
          "text": [
            "2024-08-22 13:30:03,230:WARNING:matchms:add_precursor_mz:No precursor_mz found in metadata.\n"
          ]
        },
        {
          "output_type": "stream",
          "name": "stderr",
          "text": [
            "WARNING:matchms:No precursor_mz found in metadata.\n"
          ]
        },
        {
          "output_type": "stream",
          "name": "stdout",
          "text": [
            "2024-08-22 13:30:03,234:WARNING:matchms:add_precursor_mz:No precursor_mz found in metadata.\n"
          ]
        },
        {
          "output_type": "stream",
          "name": "stderr",
          "text": [
            "WARNING:matchms:No precursor_mz found in metadata.\n"
          ]
        },
        {
          "output_type": "stream",
          "name": "stdout",
          "text": [
            "2024-08-22 13:30:03,242:WARNING:matchms:add_precursor_mz:No precursor_mz found in metadata.\n"
          ]
        },
        {
          "output_type": "stream",
          "name": "stderr",
          "text": [
            "WARNING:matchms:No precursor_mz found in metadata.\n"
          ]
        },
        {
          "output_type": "stream",
          "name": "stdout",
          "text": [
            "2024-08-22 13:30:03,246:WARNING:matchms:add_precursor_mz:No precursor_mz found in metadata.\n"
          ]
        },
        {
          "output_type": "stream",
          "name": "stderr",
          "text": [
            "WARNING:matchms:No precursor_mz found in metadata.\n"
          ]
        },
        {
          "output_type": "stream",
          "name": "stdout",
          "text": [
            "2024-08-22 13:30:03,251:WARNING:matchms:add_precursor_mz:No precursor_mz found in metadata.\n"
          ]
        },
        {
          "output_type": "stream",
          "name": "stderr",
          "text": [
            "WARNING:matchms:No precursor_mz found in metadata.\n"
          ]
        },
        {
          "output_type": "stream",
          "name": "stdout",
          "text": [
            "2024-08-22 13:30:03,254:WARNING:matchms:add_precursor_mz:No precursor_mz found in metadata.\n"
          ]
        },
        {
          "output_type": "stream",
          "name": "stderr",
          "text": [
            "WARNING:matchms:No precursor_mz found in metadata.\n"
          ]
        },
        {
          "output_type": "stream",
          "name": "stdout",
          "text": [
            "2024-08-22 13:30:03,258:WARNING:matchms:add_precursor_mz:No precursor_mz found in metadata.\n"
          ]
        },
        {
          "output_type": "stream",
          "name": "stderr",
          "text": [
            "WARNING:matchms:No precursor_mz found in metadata.\n"
          ]
        },
        {
          "output_type": "stream",
          "name": "stdout",
          "text": [
            "2024-08-22 13:30:03,261:WARNING:matchms:add_precursor_mz:No precursor_mz found in metadata.\n"
          ]
        },
        {
          "output_type": "stream",
          "name": "stderr",
          "text": [
            "WARNING:matchms:No precursor_mz found in metadata.\n"
          ]
        },
        {
          "output_type": "stream",
          "name": "stdout",
          "text": [
            "2024-08-22 13:30:03,264:WARNING:matchms:add_precursor_mz:No precursor_mz found in metadata.\n"
          ]
        },
        {
          "output_type": "stream",
          "name": "stderr",
          "text": [
            "WARNING:matchms:No precursor_mz found in metadata.\n"
          ]
        },
        {
          "output_type": "stream",
          "name": "stdout",
          "text": [
            "2024-08-22 13:30:03,268:WARNING:matchms:add_precursor_mz:No precursor_mz found in metadata.\n"
          ]
        },
        {
          "output_type": "stream",
          "name": "stderr",
          "text": [
            "WARNING:matchms:No precursor_mz found in metadata.\n"
          ]
        },
        {
          "output_type": "stream",
          "name": "stdout",
          "text": [
            "2024-08-22 13:30:03,272:WARNING:matchms:add_precursor_mz:No precursor_mz found in metadata.\n"
          ]
        },
        {
          "output_type": "stream",
          "name": "stderr",
          "text": [
            "WARNING:matchms:No precursor_mz found in metadata.\n"
          ]
        },
        {
          "output_type": "stream",
          "name": "stdout",
          "text": [
            "2024-08-22 13:30:03,275:WARNING:matchms:add_precursor_mz:No precursor_mz found in metadata.\n"
          ]
        },
        {
          "output_type": "stream",
          "name": "stderr",
          "text": [
            "WARNING:matchms:No precursor_mz found in metadata.\n"
          ]
        },
        {
          "output_type": "stream",
          "name": "stdout",
          "text": [
            "2024-08-22 13:30:03,278:WARNING:matchms:add_precursor_mz:No precursor_mz found in metadata.\n"
          ]
        },
        {
          "output_type": "stream",
          "name": "stderr",
          "text": [
            "WARNING:matchms:No precursor_mz found in metadata.\n"
          ]
        },
        {
          "output_type": "stream",
          "name": "stdout",
          "text": [
            "2024-08-22 13:30:03,282:WARNING:matchms:add_precursor_mz:No precursor_mz found in metadata.\n"
          ]
        },
        {
          "output_type": "stream",
          "name": "stderr",
          "text": [
            "WARNING:matchms:No precursor_mz found in metadata.\n"
          ]
        },
        {
          "output_type": "stream",
          "name": "stdout",
          "text": [
            "2024-08-22 13:30:03,285:WARNING:matchms:add_precursor_mz:No precursor_mz found in metadata.\n"
          ]
        },
        {
          "output_type": "stream",
          "name": "stderr",
          "text": [
            "WARNING:matchms:No precursor_mz found in metadata.\n"
          ]
        },
        {
          "output_type": "stream",
          "name": "stdout",
          "text": [
            "2024-08-22 13:30:03,289:WARNING:matchms:add_precursor_mz:No precursor_mz found in metadata.\n"
          ]
        },
        {
          "output_type": "stream",
          "name": "stderr",
          "text": [
            "WARNING:matchms:No precursor_mz found in metadata.\n"
          ]
        },
        {
          "output_type": "stream",
          "name": "stdout",
          "text": [
            "2024-08-22 13:30:03,294:WARNING:matchms:add_precursor_mz:No precursor_mz found in metadata.\n"
          ]
        },
        {
          "output_type": "stream",
          "name": "stderr",
          "text": [
            "WARNING:matchms:No precursor_mz found in metadata.\n"
          ]
        },
        {
          "output_type": "stream",
          "name": "stdout",
          "text": [
            "2024-08-22 13:30:03,297:WARNING:matchms:add_precursor_mz:No precursor_mz found in metadata.\n"
          ]
        },
        {
          "output_type": "stream",
          "name": "stderr",
          "text": [
            "WARNING:matchms:No precursor_mz found in metadata.\n"
          ]
        },
        {
          "output_type": "stream",
          "name": "stdout",
          "text": [
            "2024-08-22 13:30:03,300:WARNING:matchms:add_precursor_mz:No precursor_mz found in metadata.\n"
          ]
        },
        {
          "output_type": "stream",
          "name": "stderr",
          "text": [
            "WARNING:matchms:No precursor_mz found in metadata.\n"
          ]
        },
        {
          "output_type": "stream",
          "name": "stdout",
          "text": [
            "2024-08-22 13:30:03,304:WARNING:matchms:add_precursor_mz:No precursor_mz found in metadata.\n"
          ]
        },
        {
          "output_type": "stream",
          "name": "stderr",
          "text": [
            "WARNING:matchms:No precursor_mz found in metadata.\n"
          ]
        },
        {
          "output_type": "stream",
          "name": "stdout",
          "text": [
            "2024-08-22 13:30:03,307:WARNING:matchms:add_precursor_mz:No precursor_mz found in metadata.\n"
          ]
        },
        {
          "output_type": "stream",
          "name": "stderr",
          "text": [
            "WARNING:matchms:No precursor_mz found in metadata.\n"
          ]
        },
        {
          "output_type": "stream",
          "name": "stdout",
          "text": [
            "2024-08-22 13:30:03,310:WARNING:matchms:add_precursor_mz:No precursor_mz found in metadata.\n"
          ]
        },
        {
          "output_type": "stream",
          "name": "stderr",
          "text": [
            "WARNING:matchms:No precursor_mz found in metadata.\n"
          ]
        },
        {
          "output_type": "stream",
          "name": "stdout",
          "text": [
            "2024-08-22 13:30:03,314:WARNING:matchms:add_precursor_mz:No precursor_mz found in metadata.\n"
          ]
        },
        {
          "output_type": "stream",
          "name": "stderr",
          "text": [
            "WARNING:matchms:No precursor_mz found in metadata.\n"
          ]
        },
        {
          "output_type": "stream",
          "name": "stdout",
          "text": [
            "2024-08-22 13:30:03,317:WARNING:matchms:add_precursor_mz:No precursor_mz found in metadata.\n"
          ]
        },
        {
          "output_type": "stream",
          "name": "stderr",
          "text": [
            "WARNING:matchms:No precursor_mz found in metadata.\n"
          ]
        },
        {
          "output_type": "stream",
          "name": "stdout",
          "text": [
            "2024-08-22 13:30:03,321:WARNING:matchms:add_precursor_mz:No precursor_mz found in metadata.\n"
          ]
        },
        {
          "output_type": "stream",
          "name": "stderr",
          "text": [
            "WARNING:matchms:No precursor_mz found in metadata.\n"
          ]
        },
        {
          "output_type": "stream",
          "name": "stdout",
          "text": [
            "2024-08-22 13:30:03,324:WARNING:matchms:add_precursor_mz:No precursor_mz found in metadata.\n"
          ]
        },
        {
          "output_type": "stream",
          "name": "stderr",
          "text": [
            "WARNING:matchms:No precursor_mz found in metadata.\n"
          ]
        },
        {
          "output_type": "stream",
          "name": "stdout",
          "text": [
            "2024-08-22 13:30:03,328:WARNING:matchms:add_precursor_mz:No precursor_mz found in metadata.\n"
          ]
        },
        {
          "output_type": "stream",
          "name": "stderr",
          "text": [
            "WARNING:matchms:No precursor_mz found in metadata.\n"
          ]
        },
        {
          "output_type": "stream",
          "name": "stdout",
          "text": [
            "2024-08-22 13:30:03,332:WARNING:matchms:add_precursor_mz:No precursor_mz found in metadata.\n"
          ]
        },
        {
          "output_type": "stream",
          "name": "stderr",
          "text": [
            "WARNING:matchms:No precursor_mz found in metadata.\n"
          ]
        },
        {
          "output_type": "stream",
          "name": "stdout",
          "text": [
            "2024-08-22 13:30:03,336:WARNING:matchms:add_precursor_mz:No precursor_mz found in metadata.\n"
          ]
        },
        {
          "output_type": "stream",
          "name": "stderr",
          "text": [
            "WARNING:matchms:No precursor_mz found in metadata.\n"
          ]
        },
        {
          "output_type": "stream",
          "name": "stdout",
          "text": [
            "2024-08-22 13:30:03,343:WARNING:matchms:add_precursor_mz:No precursor_mz found in metadata.\n"
          ]
        },
        {
          "output_type": "stream",
          "name": "stderr",
          "text": [
            "WARNING:matchms:No precursor_mz found in metadata.\n"
          ]
        },
        {
          "output_type": "stream",
          "name": "stdout",
          "text": [
            "2024-08-22 13:30:03,347:WARNING:matchms:add_precursor_mz:No precursor_mz found in metadata.\n"
          ]
        },
        {
          "output_type": "stream",
          "name": "stderr",
          "text": [
            "WARNING:matchms:No precursor_mz found in metadata.\n"
          ]
        },
        {
          "output_type": "stream",
          "name": "stdout",
          "text": [
            "2024-08-22 13:30:03,350:WARNING:matchms:add_precursor_mz:No precursor_mz found in metadata.\n"
          ]
        },
        {
          "output_type": "stream",
          "name": "stderr",
          "text": [
            "WARNING:matchms:No precursor_mz found in metadata.\n"
          ]
        },
        {
          "output_type": "stream",
          "name": "stdout",
          "text": [
            "2024-08-22 13:30:03,354:WARNING:matchms:add_precursor_mz:No precursor_mz found in metadata.\n"
          ]
        },
        {
          "output_type": "stream",
          "name": "stderr",
          "text": [
            "WARNING:matchms:No precursor_mz found in metadata.\n"
          ]
        },
        {
          "output_type": "stream",
          "name": "stdout",
          "text": [
            "2024-08-22 13:30:03,359:WARNING:matchms:add_precursor_mz:No precursor_mz found in metadata.\n"
          ]
        },
        {
          "output_type": "stream",
          "name": "stderr",
          "text": [
            "WARNING:matchms:No precursor_mz found in metadata.\n"
          ]
        },
        {
          "output_type": "stream",
          "name": "stdout",
          "text": [
            "2024-08-22 13:30:03,362:WARNING:matchms:add_precursor_mz:No precursor_mz found in metadata.\n"
          ]
        },
        {
          "output_type": "stream",
          "name": "stderr",
          "text": [
            "WARNING:matchms:No precursor_mz found in metadata.\n"
          ]
        },
        {
          "output_type": "stream",
          "name": "stdout",
          "text": [
            "2024-08-22 13:30:03,366:WARNING:matchms:add_precursor_mz:No precursor_mz found in metadata.\n"
          ]
        },
        {
          "output_type": "stream",
          "name": "stderr",
          "text": [
            "WARNING:matchms:No precursor_mz found in metadata.\n"
          ]
        },
        {
          "output_type": "stream",
          "name": "stdout",
          "text": [
            "2024-08-22 13:30:03,370:WARNING:matchms:add_precursor_mz:No precursor_mz found in metadata.\n"
          ]
        },
        {
          "output_type": "stream",
          "name": "stderr",
          "text": [
            "WARNING:matchms:No precursor_mz found in metadata.\n"
          ]
        },
        {
          "output_type": "stream",
          "name": "stdout",
          "text": [
            "2024-08-22 13:30:03,374:WARNING:matchms:add_precursor_mz:No precursor_mz found in metadata.\n"
          ]
        },
        {
          "output_type": "stream",
          "name": "stderr",
          "text": [
            "WARNING:matchms:No precursor_mz found in metadata.\n"
          ]
        },
        {
          "output_type": "stream",
          "name": "stdout",
          "text": [
            "2024-08-22 13:30:03,377:WARNING:matchms:add_precursor_mz:No precursor_mz found in metadata.\n"
          ]
        },
        {
          "output_type": "stream",
          "name": "stderr",
          "text": [
            "WARNING:matchms:No precursor_mz found in metadata.\n"
          ]
        },
        {
          "output_type": "stream",
          "name": "stdout",
          "text": [
            "2024-08-22 13:30:03,381:WARNING:matchms:add_precursor_mz:No precursor_mz found in metadata.\n"
          ]
        },
        {
          "output_type": "stream",
          "name": "stderr",
          "text": [
            "WARNING:matchms:No precursor_mz found in metadata.\n"
          ]
        },
        {
          "output_type": "stream",
          "name": "stdout",
          "text": [
            "2024-08-22 13:30:03,384:WARNING:matchms:add_precursor_mz:No precursor_mz found in metadata.\n"
          ]
        },
        {
          "output_type": "stream",
          "name": "stderr",
          "text": [
            "WARNING:matchms:No precursor_mz found in metadata.\n"
          ]
        },
        {
          "output_type": "stream",
          "name": "stdout",
          "text": [
            "2024-08-22 13:30:03,388:WARNING:matchms:add_precursor_mz:No precursor_mz found in metadata.\n"
          ]
        },
        {
          "output_type": "stream",
          "name": "stderr",
          "text": [
            "WARNING:matchms:No precursor_mz found in metadata.\n"
          ]
        },
        {
          "output_type": "stream",
          "name": "stdout",
          "text": [
            "2024-08-22 13:30:03,391:WARNING:matchms:add_precursor_mz:No precursor_mz found in metadata.\n"
          ]
        },
        {
          "output_type": "stream",
          "name": "stderr",
          "text": [
            "WARNING:matchms:No precursor_mz found in metadata.\n"
          ]
        }
      ]
    },
    {
      "cell_type": "code",
      "source": [],
      "metadata": {
        "id": "iRZs3Sp8L2EG"
      },
      "execution_count": null,
      "outputs": []
    },
    {
      "cell_type": "markdown",
      "source": [
        "# Group within MS1 tolerance"
      ],
      "metadata": {
        "id": "IZULajcxL2mO"
      }
    },
    {
      "cell_type": "code",
      "source": [
        "mz_tolerance = 1\n",
        "irt_tolerance = 5\n",
        "\n",
        "\n",
        "mz_irt_df = read_msp_file(File)\n",
        "Groups_df = process_peptide_combinations(mz_irt_df, mz_tolerance, irt_tolerance, use_ppm=False)\n",
        "\n",
        "Groups_df"
      ],
      "metadata": {
        "colab": {
          "base_uri": "https://localhost:8080/",
          "height": 216
        },
        "id": "xRmlrHwlhIMa",
        "outputId": "add939b5-8c9f-426b-d6b4-664ef3aa309a"
      },
      "execution_count": null,
      "outputs": [
        {
          "output_type": "stream",
          "name": "stdout",
          "text": [
            "Results DataFrame Columns: Index(['index1', 'index2', 'peptide 1', 'peptide 2', 'm/z  1', 'm/z 2',\n",
            "       'iRT 1', 'iRT 2'],\n",
            "      dtype='object')\n"
          ]
        },
        {
          "output_type": "execute_result",
          "data": {
            "text/plain": [
              "   index1  index2              peptide 1               peptide 2       m/z  1  \\\n",
              "0       2      15     FTCQIAHVCPHFNNPK/2     IDIDKYGKAISACHPPK/2   928.440166   \n",
              "1       8      19          RTNYPMFEYHK/2          TLPRMTKYYGVR/2   743.350811   \n",
              "2      46      73  HQEEAMMFHPLMNKNNTFR/2  QSAICREAEQTKFNMVSKFR/2  1188.045732   \n",
              "\n",
              "         m/z 2      iRT 1      iRT 2  \n",
              "0   928.490379  50.206707  49.247311  \n",
              "1   742.905754  35.316872  34.458534  \n",
              "2  1187.093736  61.910671  62.716576  "
            ],
            "text/html": [
              "\n",
              "  <div id=\"df-2695c02b-7a10-4ccf-961d-d22d428dca37\" class=\"colab-df-container\">\n",
              "    <div>\n",
              "<style scoped>\n",
              "    .dataframe tbody tr th:only-of-type {\n",
              "        vertical-align: middle;\n",
              "    }\n",
              "\n",
              "    .dataframe tbody tr th {\n",
              "        vertical-align: top;\n",
              "    }\n",
              "\n",
              "    .dataframe thead th {\n",
              "        text-align: right;\n",
              "    }\n",
              "</style>\n",
              "<table border=\"1\" class=\"dataframe\">\n",
              "  <thead>\n",
              "    <tr style=\"text-align: right;\">\n",
              "      <th></th>\n",
              "      <th>index1</th>\n",
              "      <th>index2</th>\n",
              "      <th>peptide 1</th>\n",
              "      <th>peptide 2</th>\n",
              "      <th>m/z  1</th>\n",
              "      <th>m/z 2</th>\n",
              "      <th>iRT 1</th>\n",
              "      <th>iRT 2</th>\n",
              "    </tr>\n",
              "  </thead>\n",
              "  <tbody>\n",
              "    <tr>\n",
              "      <th>0</th>\n",
              "      <td>2</td>\n",
              "      <td>15</td>\n",
              "      <td>FTCQIAHVCPHFNNPK/2</td>\n",
              "      <td>IDIDKYGKAISACHPPK/2</td>\n",
              "      <td>928.440166</td>\n",
              "      <td>928.490379</td>\n",
              "      <td>50.206707</td>\n",
              "      <td>49.247311</td>\n",
              "    </tr>\n",
              "    <tr>\n",
              "      <th>1</th>\n",
              "      <td>8</td>\n",
              "      <td>19</td>\n",
              "      <td>RTNYPMFEYHK/2</td>\n",
              "      <td>TLPRMTKYYGVR/2</td>\n",
              "      <td>743.350811</td>\n",
              "      <td>742.905754</td>\n",
              "      <td>35.316872</td>\n",
              "      <td>34.458534</td>\n",
              "    </tr>\n",
              "    <tr>\n",
              "      <th>2</th>\n",
              "      <td>46</td>\n",
              "      <td>73</td>\n",
              "      <td>HQEEAMMFHPLMNKNNTFR/2</td>\n",
              "      <td>QSAICREAEQTKFNMVSKFR/2</td>\n",
              "      <td>1188.045732</td>\n",
              "      <td>1187.093736</td>\n",
              "      <td>61.910671</td>\n",
              "      <td>62.716576</td>\n",
              "    </tr>\n",
              "  </tbody>\n",
              "</table>\n",
              "</div>\n",
              "    <div class=\"colab-df-buttons\">\n",
              "\n",
              "  <div class=\"colab-df-container\">\n",
              "    <button class=\"colab-df-convert\" onclick=\"convertToInteractive('df-2695c02b-7a10-4ccf-961d-d22d428dca37')\"\n",
              "            title=\"Convert this dataframe to an interactive table.\"\n",
              "            style=\"display:none;\">\n",
              "\n",
              "  <svg xmlns=\"http://www.w3.org/2000/svg\" height=\"24px\" viewBox=\"0 -960 960 960\">\n",
              "    <path d=\"M120-120v-720h720v720H120Zm60-500h600v-160H180v160Zm220 220h160v-160H400v160Zm0 220h160v-160H400v160ZM180-400h160v-160H180v160Zm440 0h160v-160H620v160ZM180-180h160v-160H180v160Zm440 0h160v-160H620v160Z\"/>\n",
              "  </svg>\n",
              "    </button>\n",
              "\n",
              "  <style>\n",
              "    .colab-df-container {\n",
              "      display:flex;\n",
              "      gap: 12px;\n",
              "    }\n",
              "\n",
              "    .colab-df-convert {\n",
              "      background-color: #E8F0FE;\n",
              "      border: none;\n",
              "      border-radius: 50%;\n",
              "      cursor: pointer;\n",
              "      display: none;\n",
              "      fill: #1967D2;\n",
              "      height: 32px;\n",
              "      padding: 0 0 0 0;\n",
              "      width: 32px;\n",
              "    }\n",
              "\n",
              "    .colab-df-convert:hover {\n",
              "      background-color: #E2EBFA;\n",
              "      box-shadow: 0px 1px 2px rgba(60, 64, 67, 0.3), 0px 1px 3px 1px rgba(60, 64, 67, 0.15);\n",
              "      fill: #174EA6;\n",
              "    }\n",
              "\n",
              "    .colab-df-buttons div {\n",
              "      margin-bottom: 4px;\n",
              "    }\n",
              "\n",
              "    [theme=dark] .colab-df-convert {\n",
              "      background-color: #3B4455;\n",
              "      fill: #D2E3FC;\n",
              "    }\n",
              "\n",
              "    [theme=dark] .colab-df-convert:hover {\n",
              "      background-color: #434B5C;\n",
              "      box-shadow: 0px 1px 3px 1px rgba(0, 0, 0, 0.15);\n",
              "      filter: drop-shadow(0px 1px 2px rgba(0, 0, 0, 0.3));\n",
              "      fill: #FFFFFF;\n",
              "    }\n",
              "  </style>\n",
              "\n",
              "    <script>\n",
              "      const buttonEl =\n",
              "        document.querySelector('#df-2695c02b-7a10-4ccf-961d-d22d428dca37 button.colab-df-convert');\n",
              "      buttonEl.style.display =\n",
              "        google.colab.kernel.accessAllowed ? 'block' : 'none';\n",
              "\n",
              "      async function convertToInteractive(key) {\n",
              "        const element = document.querySelector('#df-2695c02b-7a10-4ccf-961d-d22d428dca37');\n",
              "        const dataTable =\n",
              "          await google.colab.kernel.invokeFunction('convertToInteractive',\n",
              "                                                    [key], {});\n",
              "        if (!dataTable) return;\n",
              "\n",
              "        const docLinkHtml = 'Like what you see? Visit the ' +\n",
              "          '<a target=\"_blank\" href=https://colab.research.google.com/notebooks/data_table.ipynb>data table notebook</a>'\n",
              "          + ' to learn more about interactive tables.';\n",
              "        element.innerHTML = '';\n",
              "        dataTable['output_type'] = 'display_data';\n",
              "        await google.colab.output.renderOutput(dataTable, element);\n",
              "        const docLink = document.createElement('div');\n",
              "        docLink.innerHTML = docLinkHtml;\n",
              "        element.appendChild(docLink);\n",
              "      }\n",
              "    </script>\n",
              "  </div>\n",
              "\n",
              "\n",
              "<div id=\"df-8dc8bfe5-3e83-4a39-8c1f-cdc316d9deae\">\n",
              "  <button class=\"colab-df-quickchart\" onclick=\"quickchart('df-8dc8bfe5-3e83-4a39-8c1f-cdc316d9deae')\"\n",
              "            title=\"Suggest charts\"\n",
              "            style=\"display:none;\">\n",
              "\n",
              "<svg xmlns=\"http://www.w3.org/2000/svg\" height=\"24px\"viewBox=\"0 0 24 24\"\n",
              "     width=\"24px\">\n",
              "    <g>\n",
              "        <path d=\"M19 3H5c-1.1 0-2 .9-2 2v14c0 1.1.9 2 2 2h14c1.1 0 2-.9 2-2V5c0-1.1-.9-2-2-2zM9 17H7v-7h2v7zm4 0h-2V7h2v10zm4 0h-2v-4h2v4z\"/>\n",
              "    </g>\n",
              "</svg>\n",
              "  </button>\n",
              "\n",
              "<style>\n",
              "  .colab-df-quickchart {\n",
              "      --bg-color: #E8F0FE;\n",
              "      --fill-color: #1967D2;\n",
              "      --hover-bg-color: #E2EBFA;\n",
              "      --hover-fill-color: #174EA6;\n",
              "      --disabled-fill-color: #AAA;\n",
              "      --disabled-bg-color: #DDD;\n",
              "  }\n",
              "\n",
              "  [theme=dark] .colab-df-quickchart {\n",
              "      --bg-color: #3B4455;\n",
              "      --fill-color: #D2E3FC;\n",
              "      --hover-bg-color: #434B5C;\n",
              "      --hover-fill-color: #FFFFFF;\n",
              "      --disabled-bg-color: #3B4455;\n",
              "      --disabled-fill-color: #666;\n",
              "  }\n",
              "\n",
              "  .colab-df-quickchart {\n",
              "    background-color: var(--bg-color);\n",
              "    border: none;\n",
              "    border-radius: 50%;\n",
              "    cursor: pointer;\n",
              "    display: none;\n",
              "    fill: var(--fill-color);\n",
              "    height: 32px;\n",
              "    padding: 0;\n",
              "    width: 32px;\n",
              "  }\n",
              "\n",
              "  .colab-df-quickchart:hover {\n",
              "    background-color: var(--hover-bg-color);\n",
              "    box-shadow: 0 1px 2px rgba(60, 64, 67, 0.3), 0 1px 3px 1px rgba(60, 64, 67, 0.15);\n",
              "    fill: var(--button-hover-fill-color);\n",
              "  }\n",
              "\n",
              "  .colab-df-quickchart-complete:disabled,\n",
              "  .colab-df-quickchart-complete:disabled:hover {\n",
              "    background-color: var(--disabled-bg-color);\n",
              "    fill: var(--disabled-fill-color);\n",
              "    box-shadow: none;\n",
              "  }\n",
              "\n",
              "  .colab-df-spinner {\n",
              "    border: 2px solid var(--fill-color);\n",
              "    border-color: transparent;\n",
              "    border-bottom-color: var(--fill-color);\n",
              "    animation:\n",
              "      spin 1s steps(1) infinite;\n",
              "  }\n",
              "\n",
              "  @keyframes spin {\n",
              "    0% {\n",
              "      border-color: transparent;\n",
              "      border-bottom-color: var(--fill-color);\n",
              "      border-left-color: var(--fill-color);\n",
              "    }\n",
              "    20% {\n",
              "      border-color: transparent;\n",
              "      border-left-color: var(--fill-color);\n",
              "      border-top-color: var(--fill-color);\n",
              "    }\n",
              "    30% {\n",
              "      border-color: transparent;\n",
              "      border-left-color: var(--fill-color);\n",
              "      border-top-color: var(--fill-color);\n",
              "      border-right-color: var(--fill-color);\n",
              "    }\n",
              "    40% {\n",
              "      border-color: transparent;\n",
              "      border-right-color: var(--fill-color);\n",
              "      border-top-color: var(--fill-color);\n",
              "    }\n",
              "    60% {\n",
              "      border-color: transparent;\n",
              "      border-right-color: var(--fill-color);\n",
              "    }\n",
              "    80% {\n",
              "      border-color: transparent;\n",
              "      border-right-color: var(--fill-color);\n",
              "      border-bottom-color: var(--fill-color);\n",
              "    }\n",
              "    90% {\n",
              "      border-color: transparent;\n",
              "      border-bottom-color: var(--fill-color);\n",
              "    }\n",
              "  }\n",
              "</style>\n",
              "\n",
              "  <script>\n",
              "    async function quickchart(key) {\n",
              "      const quickchartButtonEl =\n",
              "        document.querySelector('#' + key + ' button');\n",
              "      quickchartButtonEl.disabled = true;  // To prevent multiple clicks.\n",
              "      quickchartButtonEl.classList.add('colab-df-spinner');\n",
              "      try {\n",
              "        const charts = await google.colab.kernel.invokeFunction(\n",
              "            'suggestCharts', [key], {});\n",
              "      } catch (error) {\n",
              "        console.error('Error during call to suggestCharts:', error);\n",
              "      }\n",
              "      quickchartButtonEl.classList.remove('colab-df-spinner');\n",
              "      quickchartButtonEl.classList.add('colab-df-quickchart-complete');\n",
              "    }\n",
              "    (() => {\n",
              "      let quickchartButtonEl =\n",
              "        document.querySelector('#df-8dc8bfe5-3e83-4a39-8c1f-cdc316d9deae button');\n",
              "      quickchartButtonEl.style.display =\n",
              "        google.colab.kernel.accessAllowed ? 'block' : 'none';\n",
              "    })();\n",
              "  </script>\n",
              "</div>\n",
              "\n",
              "  <div id=\"id_aecf6954-58ed-42a1-b3b5-6ce64d3ecf24\">\n",
              "    <style>\n",
              "      .colab-df-generate {\n",
              "        background-color: #E8F0FE;\n",
              "        border: none;\n",
              "        border-radius: 50%;\n",
              "        cursor: pointer;\n",
              "        display: none;\n",
              "        fill: #1967D2;\n",
              "        height: 32px;\n",
              "        padding: 0 0 0 0;\n",
              "        width: 32px;\n",
              "      }\n",
              "\n",
              "      .colab-df-generate:hover {\n",
              "        background-color: #E2EBFA;\n",
              "        box-shadow: 0px 1px 2px rgba(60, 64, 67, 0.3), 0px 1px 3px 1px rgba(60, 64, 67, 0.15);\n",
              "        fill: #174EA6;\n",
              "      }\n",
              "\n",
              "      [theme=dark] .colab-df-generate {\n",
              "        background-color: #3B4455;\n",
              "        fill: #D2E3FC;\n",
              "      }\n",
              "\n",
              "      [theme=dark] .colab-df-generate:hover {\n",
              "        background-color: #434B5C;\n",
              "        box-shadow: 0px 1px 3px 1px rgba(0, 0, 0, 0.15);\n",
              "        filter: drop-shadow(0px 1px 2px rgba(0, 0, 0, 0.3));\n",
              "        fill: #FFFFFF;\n",
              "      }\n",
              "    </style>\n",
              "    <button class=\"colab-df-generate\" onclick=\"generateWithVariable('Groups_df')\"\n",
              "            title=\"Generate code using this dataframe.\"\n",
              "            style=\"display:none;\">\n",
              "\n",
              "  <svg xmlns=\"http://www.w3.org/2000/svg\" height=\"24px\"viewBox=\"0 0 24 24\"\n",
              "       width=\"24px\">\n",
              "    <path d=\"M7,19H8.4L18.45,9,17,7.55,7,17.6ZM5,21V16.75L18.45,3.32a2,2,0,0,1,2.83,0l1.4,1.43a1.91,1.91,0,0,1,.58,1.4,1.91,1.91,0,0,1-.58,1.4L9.25,21ZM18.45,9,17,7.55Zm-12,3A5.31,5.31,0,0,0,4.9,8.1,5.31,5.31,0,0,0,1,6.5,5.31,5.31,0,0,0,4.9,4.9,5.31,5.31,0,0,0,6.5,1,5.31,5.31,0,0,0,8.1,4.9,5.31,5.31,0,0,0,12,6.5,5.46,5.46,0,0,0,6.5,12Z\"/>\n",
              "  </svg>\n",
              "    </button>\n",
              "    <script>\n",
              "      (() => {\n",
              "      const buttonEl =\n",
              "        document.querySelector('#id_aecf6954-58ed-42a1-b3b5-6ce64d3ecf24 button.colab-df-generate');\n",
              "      buttonEl.style.display =\n",
              "        google.colab.kernel.accessAllowed ? 'block' : 'none';\n",
              "\n",
              "      buttonEl.onclick = () => {\n",
              "        google.colab.notebook.generateWithVariable('Groups_df');\n",
              "      }\n",
              "      })();\n",
              "    </script>\n",
              "  </div>\n",
              "\n",
              "    </div>\n",
              "  </div>\n"
            ],
            "application/vnd.google.colaboratory.intrinsic+json": {
              "type": "dataframe",
              "variable_name": "Groups_df",
              "summary": "{\n  \"name\": \"Groups_df\",\n  \"rows\": 3,\n  \"fields\": [\n    {\n      \"column\": \"index1\",\n      \"properties\": {\n        \"dtype\": \"number\",\n        \"std\": 23,\n        \"min\": 2,\n        \"max\": 46,\n        \"num_unique_values\": 3,\n        \"samples\": [\n          2,\n          8,\n          46\n        ],\n        \"semantic_type\": \"\",\n        \"description\": \"\"\n      }\n    },\n    {\n      \"column\": \"index2\",\n      \"properties\": {\n        \"dtype\": \"number\",\n        \"std\": 32,\n        \"min\": 15,\n        \"max\": 73,\n        \"num_unique_values\": 3,\n        \"samples\": [\n          15,\n          19,\n          73\n        ],\n        \"semantic_type\": \"\",\n        \"description\": \"\"\n      }\n    },\n    {\n      \"column\": \"peptide 1\",\n      \"properties\": {\n        \"dtype\": \"string\",\n        \"num_unique_values\": 3,\n        \"samples\": [\n          \"FTCQIAHVCPHFNNPK/2\",\n          \"RTNYPMFEYHK/2\",\n          \"HQEEAMMFHPLMNKNNTFR/2\"\n        ],\n        \"semantic_type\": \"\",\n        \"description\": \"\"\n      }\n    },\n    {\n      \"column\": \"peptide 2\",\n      \"properties\": {\n        \"dtype\": \"string\",\n        \"num_unique_values\": 3,\n        \"samples\": [\n          \"IDIDKYGKAISACHPPK/2\",\n          \"TLPRMTKYYGVR/2\",\n          \"QSAICREAEQTKFNMVSKFR/2\"\n        ],\n        \"semantic_type\": \"\",\n        \"description\": \"\"\n      }\n    },\n    {\n      \"column\": \"m/z  1\",\n      \"properties\": {\n        \"dtype\": \"number\",\n        \"std\": 223.38557548018952,\n        \"min\": 743.350811,\n        \"max\": 1188.045732,\n        \"num_unique_values\": 3,\n        \"samples\": [\n          928.440166,\n          743.350811,\n          1188.045732\n        ],\n        \"semantic_type\": \"\",\n        \"description\": \"\"\n      }\n    },\n    {\n      \"column\": \"m/z 2\",\n      \"properties\": {\n        \"dtype\": \"number\",\n        \"std\": 223.09202609434985,\n        \"min\": 742.905754,\n        \"max\": 1187.093736,\n        \"num_unique_values\": 3,\n        \"samples\": [\n          928.490379,\n          742.905754,\n          1187.093736\n        ],\n        \"semantic_type\": \"\",\n        \"description\": \"\"\n      }\n    },\n    {\n      \"column\": \"iRT 1\",\n      \"properties\": {\n        \"dtype\": \"number\",\n        \"std\": 13.328666505524364,\n        \"min\": 35.316872,\n        \"max\": 61.910671,\n        \"num_unique_values\": 3,\n        \"samples\": [\n          50.206707,\n          35.316872,\n          61.910671\n        ],\n        \"semantic_type\": \"\",\n        \"description\": \"\"\n      }\n    },\n    {\n      \"column\": \"iRT 2\",\n      \"properties\": {\n        \"dtype\": \"number\",\n        \"std\": 14.134154629063826,\n        \"min\": 34.458534,\n        \"max\": 62.716576,\n        \"num_unique_values\": 3,\n        \"samples\": [\n          49.247311,\n          34.458534,\n          62.716576\n        ],\n        \"semantic_type\": \"\",\n        \"description\": \"\"\n      }\n    }\n  ]\n}"
            }
          },
          "metadata": {},
          "execution_count": 14
        }
      ]
    },
    {
      "cell_type": "markdown",
      "source": [
        "# Calculate similarity within fragment tolerance\n"
      ],
      "metadata": {
        "id": "xtHsdzfwMAIH"
      }
    },
    {
      "cell_type": "code",
      "source": [
        "Groups_df.columns = Groups_df.columns.str.strip()\n",
        "index_array = Groups_df[['index1','index2']].values.astype(int)\n",
        "result = process_spectra_pairs(index_array, spectra,  mz_irt_df, tolerance =0, ppm=10)\n",
        "result.to_csv(\"output.csv\", index=False)\n",
        "result"
      ],
      "metadata": {
        "id": "1Im0NZqhMK7O",
        "colab": {
          "base_uri": "https://localhost:8080/",
          "height": 216
        },
        "outputId": "def93221-0427-4c30-96df-c3c55c47eb1c"
      },
      "execution_count": null,
      "outputs": [
        {
          "output_type": "stream",
          "name": "stdout",
          "text": [
            "0.002814877157520823\n",
            "0.0\n",
            "0.0025644450471453695\n"
          ]
        },
        {
          "output_type": "execute_result",
          "data": {
            "text/plain": [
              "   index1  index2              peptide 1               peptide 2       m/z  1  \\\n",
              "0       2      15     FTCQIAHVCPHFNNPK/2     IDIDKYGKAISACHPPK/2   928.440166   \n",
              "1       8      19          RTNYPMFEYHK/2          TLPRMTKYYGVR/2   743.350811   \n",
              "2      46      73  HQEEAMMFHPLMNKNNTFR/2  QSAICREAEQTKFNMVSKFR/2  1188.045732   \n",
              "\n",
              "         m/z 2      iRT 1      iRT 2  similarity_score  \n",
              "0   928.490379  50.206707  49.247311          0.002815  \n",
              "1   742.905754  35.316872  34.458534          0.000000  \n",
              "2  1187.093736  61.910671  62.716576          0.002564  "
            ],
            "text/html": [
              "\n",
              "  <div id=\"df-4e34b422-566f-4a48-88be-bd899e950cb7\" class=\"colab-df-container\">\n",
              "    <div>\n",
              "<style scoped>\n",
              "    .dataframe tbody tr th:only-of-type {\n",
              "        vertical-align: middle;\n",
              "    }\n",
              "\n",
              "    .dataframe tbody tr th {\n",
              "        vertical-align: top;\n",
              "    }\n",
              "\n",
              "    .dataframe thead th {\n",
              "        text-align: right;\n",
              "    }\n",
              "</style>\n",
              "<table border=\"1\" class=\"dataframe\">\n",
              "  <thead>\n",
              "    <tr style=\"text-align: right;\">\n",
              "      <th></th>\n",
              "      <th>index1</th>\n",
              "      <th>index2</th>\n",
              "      <th>peptide 1</th>\n",
              "      <th>peptide 2</th>\n",
              "      <th>m/z  1</th>\n",
              "      <th>m/z 2</th>\n",
              "      <th>iRT 1</th>\n",
              "      <th>iRT 2</th>\n",
              "      <th>similarity_score</th>\n",
              "    </tr>\n",
              "  </thead>\n",
              "  <tbody>\n",
              "    <tr>\n",
              "      <th>0</th>\n",
              "      <td>2</td>\n",
              "      <td>15</td>\n",
              "      <td>FTCQIAHVCPHFNNPK/2</td>\n",
              "      <td>IDIDKYGKAISACHPPK/2</td>\n",
              "      <td>928.440166</td>\n",
              "      <td>928.490379</td>\n",
              "      <td>50.206707</td>\n",
              "      <td>49.247311</td>\n",
              "      <td>0.002815</td>\n",
              "    </tr>\n",
              "    <tr>\n",
              "      <th>1</th>\n",
              "      <td>8</td>\n",
              "      <td>19</td>\n",
              "      <td>RTNYPMFEYHK/2</td>\n",
              "      <td>TLPRMTKYYGVR/2</td>\n",
              "      <td>743.350811</td>\n",
              "      <td>742.905754</td>\n",
              "      <td>35.316872</td>\n",
              "      <td>34.458534</td>\n",
              "      <td>0.000000</td>\n",
              "    </tr>\n",
              "    <tr>\n",
              "      <th>2</th>\n",
              "      <td>46</td>\n",
              "      <td>73</td>\n",
              "      <td>HQEEAMMFHPLMNKNNTFR/2</td>\n",
              "      <td>QSAICREAEQTKFNMVSKFR/2</td>\n",
              "      <td>1188.045732</td>\n",
              "      <td>1187.093736</td>\n",
              "      <td>61.910671</td>\n",
              "      <td>62.716576</td>\n",
              "      <td>0.002564</td>\n",
              "    </tr>\n",
              "  </tbody>\n",
              "</table>\n",
              "</div>\n",
              "    <div class=\"colab-df-buttons\">\n",
              "\n",
              "  <div class=\"colab-df-container\">\n",
              "    <button class=\"colab-df-convert\" onclick=\"convertToInteractive('df-4e34b422-566f-4a48-88be-bd899e950cb7')\"\n",
              "            title=\"Convert this dataframe to an interactive table.\"\n",
              "            style=\"display:none;\">\n",
              "\n",
              "  <svg xmlns=\"http://www.w3.org/2000/svg\" height=\"24px\" viewBox=\"0 -960 960 960\">\n",
              "    <path d=\"M120-120v-720h720v720H120Zm60-500h600v-160H180v160Zm220 220h160v-160H400v160Zm0 220h160v-160H400v160ZM180-400h160v-160H180v160Zm440 0h160v-160H620v160ZM180-180h160v-160H180v160Zm440 0h160v-160H620v160Z\"/>\n",
              "  </svg>\n",
              "    </button>\n",
              "\n",
              "  <style>\n",
              "    .colab-df-container {\n",
              "      display:flex;\n",
              "      gap: 12px;\n",
              "    }\n",
              "\n",
              "    .colab-df-convert {\n",
              "      background-color: #E8F0FE;\n",
              "      border: none;\n",
              "      border-radius: 50%;\n",
              "      cursor: pointer;\n",
              "      display: none;\n",
              "      fill: #1967D2;\n",
              "      height: 32px;\n",
              "      padding: 0 0 0 0;\n",
              "      width: 32px;\n",
              "    }\n",
              "\n",
              "    .colab-df-convert:hover {\n",
              "      background-color: #E2EBFA;\n",
              "      box-shadow: 0px 1px 2px rgba(60, 64, 67, 0.3), 0px 1px 3px 1px rgba(60, 64, 67, 0.15);\n",
              "      fill: #174EA6;\n",
              "    }\n",
              "\n",
              "    .colab-df-buttons div {\n",
              "      margin-bottom: 4px;\n",
              "    }\n",
              "\n",
              "    [theme=dark] .colab-df-convert {\n",
              "      background-color: #3B4455;\n",
              "      fill: #D2E3FC;\n",
              "    }\n",
              "\n",
              "    [theme=dark] .colab-df-convert:hover {\n",
              "      background-color: #434B5C;\n",
              "      box-shadow: 0px 1px 3px 1px rgba(0, 0, 0, 0.15);\n",
              "      filter: drop-shadow(0px 1px 2px rgba(0, 0, 0, 0.3));\n",
              "      fill: #FFFFFF;\n",
              "    }\n",
              "  </style>\n",
              "\n",
              "    <script>\n",
              "      const buttonEl =\n",
              "        document.querySelector('#df-4e34b422-566f-4a48-88be-bd899e950cb7 button.colab-df-convert');\n",
              "      buttonEl.style.display =\n",
              "        google.colab.kernel.accessAllowed ? 'block' : 'none';\n",
              "\n",
              "      async function convertToInteractive(key) {\n",
              "        const element = document.querySelector('#df-4e34b422-566f-4a48-88be-bd899e950cb7');\n",
              "        const dataTable =\n",
              "          await google.colab.kernel.invokeFunction('convertToInteractive',\n",
              "                                                    [key], {});\n",
              "        if (!dataTable) return;\n",
              "\n",
              "        const docLinkHtml = 'Like what you see? Visit the ' +\n",
              "          '<a target=\"_blank\" href=https://colab.research.google.com/notebooks/data_table.ipynb>data table notebook</a>'\n",
              "          + ' to learn more about interactive tables.';\n",
              "        element.innerHTML = '';\n",
              "        dataTable['output_type'] = 'display_data';\n",
              "        await google.colab.output.renderOutput(dataTable, element);\n",
              "        const docLink = document.createElement('div');\n",
              "        docLink.innerHTML = docLinkHtml;\n",
              "        element.appendChild(docLink);\n",
              "      }\n",
              "    </script>\n",
              "  </div>\n",
              "\n",
              "\n",
              "<div id=\"df-860dd60f-58ca-4e64-85be-7b4f647e8213\">\n",
              "  <button class=\"colab-df-quickchart\" onclick=\"quickchart('df-860dd60f-58ca-4e64-85be-7b4f647e8213')\"\n",
              "            title=\"Suggest charts\"\n",
              "            style=\"display:none;\">\n",
              "\n",
              "<svg xmlns=\"http://www.w3.org/2000/svg\" height=\"24px\"viewBox=\"0 0 24 24\"\n",
              "     width=\"24px\">\n",
              "    <g>\n",
              "        <path d=\"M19 3H5c-1.1 0-2 .9-2 2v14c0 1.1.9 2 2 2h14c1.1 0 2-.9 2-2V5c0-1.1-.9-2-2-2zM9 17H7v-7h2v7zm4 0h-2V7h2v10zm4 0h-2v-4h2v4z\"/>\n",
              "    </g>\n",
              "</svg>\n",
              "  </button>\n",
              "\n",
              "<style>\n",
              "  .colab-df-quickchart {\n",
              "      --bg-color: #E8F0FE;\n",
              "      --fill-color: #1967D2;\n",
              "      --hover-bg-color: #E2EBFA;\n",
              "      --hover-fill-color: #174EA6;\n",
              "      --disabled-fill-color: #AAA;\n",
              "      --disabled-bg-color: #DDD;\n",
              "  }\n",
              "\n",
              "  [theme=dark] .colab-df-quickchart {\n",
              "      --bg-color: #3B4455;\n",
              "      --fill-color: #D2E3FC;\n",
              "      --hover-bg-color: #434B5C;\n",
              "      --hover-fill-color: #FFFFFF;\n",
              "      --disabled-bg-color: #3B4455;\n",
              "      --disabled-fill-color: #666;\n",
              "  }\n",
              "\n",
              "  .colab-df-quickchart {\n",
              "    background-color: var(--bg-color);\n",
              "    border: none;\n",
              "    border-radius: 50%;\n",
              "    cursor: pointer;\n",
              "    display: none;\n",
              "    fill: var(--fill-color);\n",
              "    height: 32px;\n",
              "    padding: 0;\n",
              "    width: 32px;\n",
              "  }\n",
              "\n",
              "  .colab-df-quickchart:hover {\n",
              "    background-color: var(--hover-bg-color);\n",
              "    box-shadow: 0 1px 2px rgba(60, 64, 67, 0.3), 0 1px 3px 1px rgba(60, 64, 67, 0.15);\n",
              "    fill: var(--button-hover-fill-color);\n",
              "  }\n",
              "\n",
              "  .colab-df-quickchart-complete:disabled,\n",
              "  .colab-df-quickchart-complete:disabled:hover {\n",
              "    background-color: var(--disabled-bg-color);\n",
              "    fill: var(--disabled-fill-color);\n",
              "    box-shadow: none;\n",
              "  }\n",
              "\n",
              "  .colab-df-spinner {\n",
              "    border: 2px solid var(--fill-color);\n",
              "    border-color: transparent;\n",
              "    border-bottom-color: var(--fill-color);\n",
              "    animation:\n",
              "      spin 1s steps(1) infinite;\n",
              "  }\n",
              "\n",
              "  @keyframes spin {\n",
              "    0% {\n",
              "      border-color: transparent;\n",
              "      border-bottom-color: var(--fill-color);\n",
              "      border-left-color: var(--fill-color);\n",
              "    }\n",
              "    20% {\n",
              "      border-color: transparent;\n",
              "      border-left-color: var(--fill-color);\n",
              "      border-top-color: var(--fill-color);\n",
              "    }\n",
              "    30% {\n",
              "      border-color: transparent;\n",
              "      border-left-color: var(--fill-color);\n",
              "      border-top-color: var(--fill-color);\n",
              "      border-right-color: var(--fill-color);\n",
              "    }\n",
              "    40% {\n",
              "      border-color: transparent;\n",
              "      border-right-color: var(--fill-color);\n",
              "      border-top-color: var(--fill-color);\n",
              "    }\n",
              "    60% {\n",
              "      border-color: transparent;\n",
              "      border-right-color: var(--fill-color);\n",
              "    }\n",
              "    80% {\n",
              "      border-color: transparent;\n",
              "      border-right-color: var(--fill-color);\n",
              "      border-bottom-color: var(--fill-color);\n",
              "    }\n",
              "    90% {\n",
              "      border-color: transparent;\n",
              "      border-bottom-color: var(--fill-color);\n",
              "    }\n",
              "  }\n",
              "</style>\n",
              "\n",
              "  <script>\n",
              "    async function quickchart(key) {\n",
              "      const quickchartButtonEl =\n",
              "        document.querySelector('#' + key + ' button');\n",
              "      quickchartButtonEl.disabled = true;  // To prevent multiple clicks.\n",
              "      quickchartButtonEl.classList.add('colab-df-spinner');\n",
              "      try {\n",
              "        const charts = await google.colab.kernel.invokeFunction(\n",
              "            'suggestCharts', [key], {});\n",
              "      } catch (error) {\n",
              "        console.error('Error during call to suggestCharts:', error);\n",
              "      }\n",
              "      quickchartButtonEl.classList.remove('colab-df-spinner');\n",
              "      quickchartButtonEl.classList.add('colab-df-quickchart-complete');\n",
              "    }\n",
              "    (() => {\n",
              "      let quickchartButtonEl =\n",
              "        document.querySelector('#df-860dd60f-58ca-4e64-85be-7b4f647e8213 button');\n",
              "      quickchartButtonEl.style.display =\n",
              "        google.colab.kernel.accessAllowed ? 'block' : 'none';\n",
              "    })();\n",
              "  </script>\n",
              "</div>\n",
              "\n",
              "  <div id=\"id_1b57c727-f70a-4635-99e8-9c6ae8ac2f79\">\n",
              "    <style>\n",
              "      .colab-df-generate {\n",
              "        background-color: #E8F0FE;\n",
              "        border: none;\n",
              "        border-radius: 50%;\n",
              "        cursor: pointer;\n",
              "        display: none;\n",
              "        fill: #1967D2;\n",
              "        height: 32px;\n",
              "        padding: 0 0 0 0;\n",
              "        width: 32px;\n",
              "      }\n",
              "\n",
              "      .colab-df-generate:hover {\n",
              "        background-color: #E2EBFA;\n",
              "        box-shadow: 0px 1px 2px rgba(60, 64, 67, 0.3), 0px 1px 3px 1px rgba(60, 64, 67, 0.15);\n",
              "        fill: #174EA6;\n",
              "      }\n",
              "\n",
              "      [theme=dark] .colab-df-generate {\n",
              "        background-color: #3B4455;\n",
              "        fill: #D2E3FC;\n",
              "      }\n",
              "\n",
              "      [theme=dark] .colab-df-generate:hover {\n",
              "        background-color: #434B5C;\n",
              "        box-shadow: 0px 1px 3px 1px rgba(0, 0, 0, 0.15);\n",
              "        filter: drop-shadow(0px 1px 2px rgba(0, 0, 0, 0.3));\n",
              "        fill: #FFFFFF;\n",
              "      }\n",
              "    </style>\n",
              "    <button class=\"colab-df-generate\" onclick=\"generateWithVariable('result')\"\n",
              "            title=\"Generate code using this dataframe.\"\n",
              "            style=\"display:none;\">\n",
              "\n",
              "  <svg xmlns=\"http://www.w3.org/2000/svg\" height=\"24px\"viewBox=\"0 0 24 24\"\n",
              "       width=\"24px\">\n",
              "    <path d=\"M7,19H8.4L18.45,9,17,7.55,7,17.6ZM5,21V16.75L18.45,3.32a2,2,0,0,1,2.83,0l1.4,1.43a1.91,1.91,0,0,1,.58,1.4,1.91,1.91,0,0,1-.58,1.4L9.25,21ZM18.45,9,17,7.55Zm-12,3A5.31,5.31,0,0,0,4.9,8.1,5.31,5.31,0,0,0,1,6.5,5.31,5.31,0,0,0,4.9,4.9,5.31,5.31,0,0,0,6.5,1,5.31,5.31,0,0,0,8.1,4.9,5.31,5.31,0,0,0,12,6.5,5.46,5.46,0,0,0,6.5,12Z\"/>\n",
              "  </svg>\n",
              "    </button>\n",
              "    <script>\n",
              "      (() => {\n",
              "      const buttonEl =\n",
              "        document.querySelector('#id_1b57c727-f70a-4635-99e8-9c6ae8ac2f79 button.colab-df-generate');\n",
              "      buttonEl.style.display =\n",
              "        google.colab.kernel.accessAllowed ? 'block' : 'none';\n",
              "\n",
              "      buttonEl.onclick = () => {\n",
              "        google.colab.notebook.generateWithVariable('result');\n",
              "      }\n",
              "      })();\n",
              "    </script>\n",
              "  </div>\n",
              "\n",
              "    </div>\n",
              "  </div>\n"
            ],
            "application/vnd.google.colaboratory.intrinsic+json": {
              "type": "dataframe",
              "variable_name": "result",
              "summary": "{\n  \"name\": \"result\",\n  \"rows\": 3,\n  \"fields\": [\n    {\n      \"column\": \"index1\",\n      \"properties\": {\n        \"dtype\": \"number\",\n        \"std\": 23,\n        \"min\": 2,\n        \"max\": 46,\n        \"num_unique_values\": 3,\n        \"samples\": [\n          2,\n          8,\n          46\n        ],\n        \"semantic_type\": \"\",\n        \"description\": \"\"\n      }\n    },\n    {\n      \"column\": \"index2\",\n      \"properties\": {\n        \"dtype\": \"number\",\n        \"std\": 32,\n        \"min\": 15,\n        \"max\": 73,\n        \"num_unique_values\": 3,\n        \"samples\": [\n          15,\n          19,\n          73\n        ],\n        \"semantic_type\": \"\",\n        \"description\": \"\"\n      }\n    },\n    {\n      \"column\": \"peptide 1\",\n      \"properties\": {\n        \"dtype\": \"string\",\n        \"num_unique_values\": 3,\n        \"samples\": [\n          \"FTCQIAHVCPHFNNPK/2\",\n          \"RTNYPMFEYHK/2\",\n          \"HQEEAMMFHPLMNKNNTFR/2\"\n        ],\n        \"semantic_type\": \"\",\n        \"description\": \"\"\n      }\n    },\n    {\n      \"column\": \"peptide 2\",\n      \"properties\": {\n        \"dtype\": \"string\",\n        \"num_unique_values\": 3,\n        \"samples\": [\n          \"IDIDKYGKAISACHPPK/2\",\n          \"TLPRMTKYYGVR/2\",\n          \"QSAICREAEQTKFNMVSKFR/2\"\n        ],\n        \"semantic_type\": \"\",\n        \"description\": \"\"\n      }\n    },\n    {\n      \"column\": \"m/z  1\",\n      \"properties\": {\n        \"dtype\": \"number\",\n        \"std\": 223.38557548018952,\n        \"min\": 743.350811,\n        \"max\": 1188.045732,\n        \"num_unique_values\": 3,\n        \"samples\": [\n          928.440166,\n          743.350811,\n          1188.045732\n        ],\n        \"semantic_type\": \"\",\n        \"description\": \"\"\n      }\n    },\n    {\n      \"column\": \"m/z 2\",\n      \"properties\": {\n        \"dtype\": \"number\",\n        \"std\": 223.09202609434985,\n        \"min\": 742.905754,\n        \"max\": 1187.093736,\n        \"num_unique_values\": 3,\n        \"samples\": [\n          928.490379,\n          742.905754,\n          1187.093736\n        ],\n        \"semantic_type\": \"\",\n        \"description\": \"\"\n      }\n    },\n    {\n      \"column\": \"iRT 1\",\n      \"properties\": {\n        \"dtype\": \"number\",\n        \"std\": 13.328666505524364,\n        \"min\": 35.316872,\n        \"max\": 61.910671,\n        \"num_unique_values\": 3,\n        \"samples\": [\n          50.206707,\n          35.316872,\n          61.910671\n        ],\n        \"semantic_type\": \"\",\n        \"description\": \"\"\n      }\n    },\n    {\n      \"column\": \"iRT 2\",\n      \"properties\": {\n        \"dtype\": \"number\",\n        \"std\": 14.134154629063826,\n        \"min\": 34.458534,\n        \"max\": 62.716576,\n        \"num_unique_values\": 3,\n        \"samples\": [\n          49.247311,\n          34.458534,\n          62.716576\n        ],\n        \"semantic_type\": \"\",\n        \"description\": \"\"\n      }\n    },\n    {\n      \"column\": \"similarity_score\",\n      \"properties\": {\n        \"dtype\": \"number\",\n        \"std\": 0.0015579167742890948,\n        \"min\": 0.0,\n        \"max\": 0.002814877157520823,\n        \"num_unique_values\": 3,\n        \"samples\": [\n          0.002814877157520823,\n          0.0,\n          0.0025644450471453695\n        ],\n        \"semantic_type\": \"\",\n        \"description\": \"\"\n      }\n    }\n  ]\n}"
            }
          },
          "metadata": {},
          "execution_count": 15
        }
      ]
    },
    {
      "cell_type": "markdown",
      "source": [
        "# Plot results"
      ],
      "metadata": {
        "id": "4vBN2sxYNKyt"
      }
    },
    {
      "cell_type": "markdown",
      "source": [
        "### Plot spectra of interest using matchms"
      ],
      "metadata": {
        "id": "bqa99JQj8r13"
      }
    },
    {
      "cell_type": "code",
      "source": [
        "import matplotlib.pyplot as plt\n",
        "print(mz_irt_df.iloc[19])\n",
        "print(mz_irt_df.iloc[36])\n",
        "spectra[19].plot_against(spectra[36])\n",
        "plt.savefig('spectra_comparison.png')"
      ],
      "metadata": {
        "id": "GxvVmEnSNNys",
        "colab": {
          "base_uri": "https://localhost:8080/"
        },
        "outputId": "e06d8c6c-e5f3-4baf-8ad3-beb6edcf677d"
      },
      "execution_count": null,
      "outputs": [
        {
          "output_type": "stream",
          "name": "stdout",
          "text": [
            "Name    MRIGTPEPWSTQSDKR/2\n",
            "MW              944.970342\n",
            "iRT              41.258202\n",
            "Name: 19, dtype: object\n",
            "Name    QAIMSISYHSCYNMFR/2\n",
            "MW              975.936599\n",
            "iRT              93.540787\n",
            "Name: 36, dtype: object\n"
          ]
        },
        {
          "output_type": "display_data",
          "data": {
            "text/plain": [
              "<Figure size 1600x1200 with 1 Axes>"
            ],
            "image/png": "[encoded data removed]"
          },
          "metadata": {}
        }
      ]
    }
  ]
}