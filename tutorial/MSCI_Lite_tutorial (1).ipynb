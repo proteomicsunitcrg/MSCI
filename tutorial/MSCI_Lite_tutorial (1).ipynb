{
  "nbformat": 4,
  "nbformat_minor": 0,
  "metadata": {
    "colab": {
      "provenance": [],
      "collapsed_sections": [
        "zLMDB14xO2ik",
        "r4K23vVAMe_G",
        "yhiwXbsWOdsE",
        "nVf97aTgLFJm",
        "IZULajcxL2mO"
      ]
    },
    "kernelspec": {
      "name": "python3",
      "display_name": "Python 3"
    },
    "language_info": {
      "name": "python"
    }
  },
  "cells": [
    {
      "cell_type": "markdown",
      "source": [
        "<div style=\"display: flex; align-items: center;\">\n",
        "  <div style=\"flex: 1; max-width: 70%;\">\n",
        "    MSCI is a Python package designed to evaluate the information content of peptide fragmentation spectra. Our objective was to compute an information-content index for all peptides within a given proteome. This would allow us to devise data acquisition and analysis strategies that generate and prioritize the most informative fragment ions for peptide quantification.\n",
        "  </div>\n",
        "  <img src=\"https://github.com/proteomicsunitcrg/MSCI/raw/main/docs/MSCI_logo.png\" width=\"300\" style=\"margin-left: 20px;\">\n",
        "</div>\n"
      ],
      "metadata": {
        "id": "SttCP_g6TyO7"
      }
    },
    {
      "cell_type": "markdown",
      "source": [
        "#Download MSCI package and necessary installations"
      ],
      "metadata": {
        "id": "zLMDB14xO2ik"
      }
    },
    {
      "cell_type": "code",
      "source": [
        "!git clone https://github.com/proteomicsunitcrg/MSCI.git\n",
        "! pip install matchms\n",
        "# do not restart session if asked (press cancel matchms since probably you already have matchms installed )\n",
        "%cd MSCI\n",
        "import sys\n",
        "sys.path.append('/content/MSCI')\n"
      ],
      "metadata": {
        "id": "PXPoxi2iO-0F",
        "colab": {
          "base_uri": "https://localhost:8080/",
          "height": 1000
        },
        "outputId": "36b0394b-85bf-4c63-f87f-c82cdd142221"
      },
      "execution_count": 1,
      "outputs": [
        {
          "output_type": "stream",
          "name": "stdout",
          "text": [
            "Cloning into 'MSCI'...\n",
            "remote: Enumerating objects: 302, done.\u001b[K\n",
            "remote: Counting objects: 100% (245/245), done.\u001b[K\n",
            "remote: Compressing objects: 100% (101/101), done.\u001b[K\n",
            "remote: Total 302 (delta 155), reused 215 (delta 139), pack-reused 57\u001b[K\n",
            "Receiving objects: 100% (302/302), 1.61 MiB | 4.60 MiB/s, done.\n",
            "Resolving deltas: 100% (157/157), done.\n",
            "Collecting matchms\n",
            "  Downloading matchms-0.27.0-py3-none-any.whl (158 kB)\n",
            "\u001b[2K     \u001b[90m━━━━━━━━━━━━━━━━━━━━━━━━━━━━━━━━━━━━━━━━\u001b[0m \u001b[32m158.8/158.8 kB\u001b[0m \u001b[31m1.5 MB/s\u001b[0m eta \u001b[36m0:00:00\u001b[0m\n",
            "\u001b[?25hCollecting deprecated>=1.2.14 (from matchms)\n",
            "  Downloading Deprecated-1.2.14-py2.py3-none-any.whl (9.6 kB)\n",
            "Requirement already satisfied: lxml<5.0.0,>=4.9.3 in /usr/local/lib/python3.10/dist-packages (from matchms) (4.9.4)\n",
            "Requirement already satisfied: matplotlib>=3.7 in /usr/local/lib/python3.10/dist-packages (from matchms) (3.7.1)\n",
            "Requirement already satisfied: networkx>=3.0 in /usr/local/lib/python3.10/dist-packages (from matchms) (3.3)\n",
            "Requirement already satisfied: numba<0.60,>=0.57.1 in /usr/local/lib/python3.10/dist-packages (from matchms) (0.58.1)\n",
            "Requirement already satisfied: numpy<1.27,>1.22 in /usr/local/lib/python3.10/dist-packages (from matchms) (1.25.2)\n",
            "Requirement already satisfied: pandas>=2.0.3 in /usr/local/lib/python3.10/dist-packages (from matchms) (2.0.3)\n",
            "Collecting pickydict>=0.4.0 (from matchms)\n",
            "  Downloading pickydict-0.4.0-py3-none-any.whl (6.1 kB)\n",
            "Collecting pillow!=9.4.0 (from matchms)\n",
            "  Downloading pillow-10.4.0-cp310-cp310-manylinux_2_28_x86_64.whl (4.5 MB)\n",
            "\u001b[2K     \u001b[90m━━━━━━━━━━━━━━━━━━━━━━━━━━━━━━━━━━━━━━━━\u001b[0m \u001b[32m4.5/4.5 MB\u001b[0m \u001b[31m33.9 MB/s\u001b[0m eta \u001b[36m0:00:00\u001b[0m\n",
            "\u001b[?25hCollecting pubchempy (from matchms)\n",
            "  Downloading PubChemPy-1.0.4.tar.gz (29 kB)\n",
            "  Preparing metadata (setup.py) ... \u001b[?25l\u001b[?25hdone\n",
            "Collecting pyteomics>=4.6 (from matchms)\n",
            "  Downloading pyteomics-4.7.2-py2.py3-none-any.whl (238 kB)\n",
            "\u001b[2K     \u001b[90m━━━━━━━━━━━━━━━━━━━━━━━━━━━━━━━━━━━━━━━━\u001b[0m \u001b[32m238.1/238.1 kB\u001b[0m \u001b[31m20.7 MB/s\u001b[0m eta \u001b[36m0:00:00\u001b[0m\n",
            "\u001b[?25hRequirement already satisfied: pyyaml>=6.0.1 in /usr/local/lib/python3.10/dist-packages (from matchms) (6.0.1)\n",
            "Collecting rdkit>=2023.9.6 (from matchms)\n",
            "  Downloading rdkit-2024.3.3-cp310-cp310-manylinux_2_28_x86_64.whl (33.1 MB)\n",
            "\u001b[2K     \u001b[90m━━━━━━━━━━━━━━━━━━━━━━━━━━━━━━━━━━━━━━━━\u001b[0m \u001b[32m33.1/33.1 MB\u001b[0m \u001b[31m31.4 MB/s\u001b[0m eta \u001b[36m0:00:00\u001b[0m\n",
            "\u001b[?25hRequirement already satisfied: requests>=2.31.0 in /usr/local/lib/python3.10/dist-packages (from matchms) (2.31.0)\n",
            "Requirement already satisfied: scipy>=1.11 in /usr/local/lib/python3.10/dist-packages (from matchms) (1.11.4)\n",
            "Collecting sparsestack>=0.4.1 (from matchms)\n",
            "  Downloading sparsestack-0.5.0-py3-none-any.whl (10 kB)\n",
            "Requirement already satisfied: tqdm>=4.65.0 in /usr/local/lib/python3.10/dist-packages (from matchms) (4.66.4)\n",
            "Requirement already satisfied: wrapt<2,>=1.10 in /usr/local/lib/python3.10/dist-packages (from deprecated>=1.2.14->matchms) (1.14.1)\n",
            "Requirement already satisfied: contourpy>=1.0.1 in /usr/local/lib/python3.10/dist-packages (from matplotlib>=3.7->matchms) (1.2.1)\n",
            "Requirement already satisfied: cycler>=0.10 in /usr/local/lib/python3.10/dist-packages (from matplotlib>=3.7->matchms) (0.12.1)\n",
            "Requirement already satisfied: fonttools>=4.22.0 in /usr/local/lib/python3.10/dist-packages (from matplotlib>=3.7->matchms) (4.53.1)\n",
            "Requirement already satisfied: kiwisolver>=1.0.1 in /usr/local/lib/python3.10/dist-packages (from matplotlib>=3.7->matchms) (1.4.5)\n",
            "Requirement already satisfied: packaging>=20.0 in /usr/local/lib/python3.10/dist-packages (from matplotlib>=3.7->matchms) (24.1)\n",
            "Requirement already satisfied: pyparsing>=2.3.1 in /usr/local/lib/python3.10/dist-packages (from matplotlib>=3.7->matchms) (3.1.2)\n",
            "Requirement already satisfied: python-dateutil>=2.7 in /usr/local/lib/python3.10/dist-packages (from matplotlib>=3.7->matchms) (2.8.2)\n",
            "Requirement already satisfied: llvmlite<0.42,>=0.41.0dev0 in /usr/local/lib/python3.10/dist-packages (from numba<0.60,>=0.57.1->matchms) (0.41.1)\n",
            "Requirement already satisfied: pytz>=2020.1 in /usr/local/lib/python3.10/dist-packages (from pandas>=2.0.3->matchms) (2023.4)\n",
            "Requirement already satisfied: tzdata>=2022.1 in /usr/local/lib/python3.10/dist-packages (from pandas>=2.0.3->matchms) (2024.1)\n",
            "Requirement already satisfied: charset-normalizer<4,>=2 in /usr/local/lib/python3.10/dist-packages (from requests>=2.31.0->matchms) (3.3.2)\n",
            "Requirement already satisfied: idna<4,>=2.5 in /usr/local/lib/python3.10/dist-packages (from requests>=2.31.0->matchms) (3.7)\n",
            "Requirement already satisfied: urllib3<3,>=1.21.1 in /usr/local/lib/python3.10/dist-packages (from requests>=2.31.0->matchms) (2.0.7)\n",
            "Requirement already satisfied: certifi>=2017.4.17 in /usr/local/lib/python3.10/dist-packages (from requests>=2.31.0->matchms) (2024.7.4)\n",
            "Requirement already satisfied: six>=1.5 in /usr/local/lib/python3.10/dist-packages (from python-dateutil>=2.7->matplotlib>=3.7->matchms) (1.16.0)\n",
            "Building wheels for collected packages: pubchempy\n",
            "  Building wheel for pubchempy (setup.py) ... \u001b[?25l\u001b[?25hdone\n",
            "  Created wheel for pubchempy: filename=PubChemPy-1.0.4-py3-none-any.whl size=13820 sha256=94a49fb47912fc0a08016e335e27f85b423a70fc2e2f6ce9038ad4d8960ce165\n",
            "  Stored in directory: /root/.cache/pip/wheels/90/7c/45/18a0671e3c3316966ef7ed9ad2b3f3300a7e41d3421a44e799\n",
            "Successfully built pubchempy\n",
            "Installing collected packages: pyteomics, pubchempy, pillow, pickydict, deprecated, sparsestack, rdkit, matchms\n",
            "  Attempting uninstall: pillow\n",
            "    Found existing installation: Pillow 9.4.0\n",
            "    Uninstalling Pillow-9.4.0:\n",
            "      Successfully uninstalled Pillow-9.4.0\n",
            "\u001b[31mERROR: pip's dependency resolver does not currently take into account all the packages that are installed. This behaviour is the source of the following dependency conflicts.\n",
            "imageio 2.31.6 requires pillow<10.1.0,>=8.3.2, but you have pillow 10.4.0 which is incompatible.\u001b[0m\u001b[31m\n",
            "\u001b[0mSuccessfully installed deprecated-1.2.14 matchms-0.27.0 pickydict-0.4.0 pillow-10.4.0 pubchempy-1.0.4 pyteomics-4.7.2 rdkit-2024.3.3 sparsestack-0.5.0\n"
          ]
        },
        {
          "output_type": "display_data",
          "data": {
            "application/vnd.colab-display-data+json": {
              "pip_warning": {
                "packages": [
                  "PIL"
                ]
              },
              "id": "44dae77ae4bd44109813cc42e75e7c8a"
            }
          },
          "metadata": {}
        },
        {
          "output_type": "stream",
          "name": "stdout",
          "text": [
            "/content/MSCI\n"
          ]
        }
      ]
    },
    {
      "cell_type": "markdown",
      "source": [
        "# Import\n"
      ],
      "metadata": {
        "id": "r4K23vVAMe_G"
      }
    },
    {
      "cell_type": "code",
      "source": [
        "from MSCI.Preprocessing.Koina import PeptideProcessor\n",
        "from MSCI.Grouping_MS1.Grouping_mw_irt import process_peptide_combinations\n",
        "from MSCI.Preprocessing.read_msp_file import read_msp_file\n",
        "from MSCI.Similarity.spectral_angle_similarity import process_spectra_pairs\n",
        "from matchms.importing import load_from_msp\n",
        "import random\n",
        "import numpy as np\n",
        "import pandas as pd\n"
      ],
      "metadata": {
        "id": "3VcoQ6H6Miwl"
      },
      "execution_count": 2,
      "outputs": []
    },
    {
      "cell_type": "markdown",
      "source": [
        "# Genrate predicted dataset"
      ],
      "metadata": {
        "id": "G3vayOhULpQm"
      }
    },
    {
      "cell_type": "markdown",
      "source": [
        "###  Download the list of peptides of interest\n"
      ],
      "metadata": {
        "id": "hi6JsD4uJhpH"
      }
    },
    {
      "cell_type": "code",
      "source": [
        "# List of standard amino acids\n",
        "amino_acids = 'ACDEFGHIKLMNPQRSTVWY'\n",
        "\n",
        "# Function to generate a single tryptic peptide\n",
        "def generate_tryptic_peptide(min_length=8, max_length=20):\n",
        "    length = random.randint(min_length, max_length - 1)\n",
        "    peptide = ''.join(random.choices(amino_acids, k=length))\n",
        "    peptide += random.choice('KR')\n",
        "    return peptide\n",
        "\n",
        "# Generate a list of 100 random tryptic peptides\n",
        "tryptic_peptides = [generate_tryptic_peptide() for _ in range(100)]\n",
        "\n",
        "last_peptide_length = random.randint(5, 20)\n",
        "last_peptide = ''.join(random.choices(amino_acids, k=last_peptide_length))\n",
        "tryptic_peptides[-1] = last_peptide\n",
        "\n",
        "with open('random_tryptic_peptides.txt', 'w') as f:\n",
        "    for peptide in tryptic_peptides:\n",
        "        f.write(f\"{peptide}\\n\")\n",
        "\n",
        "print(\"Generated 100 random tryptic peptides and saved to 'random_tryptic_peptides.txt'.\")\n"
      ],
      "metadata": {
        "colab": {
          "base_uri": "https://localhost:8080/"
        },
        "id": "h_yxEJjbJgnf",
        "outputId": "c20918c1-2470-49b8-d61a-e5ec64367dd9"
      },
      "execution_count": 3,
      "outputs": [
        {
          "output_type": "stream",
          "name": "stdout",
          "text": [
            "Generated 100 random tryptic peptides and saved to 'random_tryptic_peptides.txt'.\n"
          ]
        }
      ]
    },
    {
      "cell_type": "markdown",
      "source": [
        "### Predict with Koina"
      ],
      "metadata": {
        "id": "yhiwXbsWOdsE"
      }
    },
    {
      "cell_type": "markdown",
      "source": [
        "#### If available your own list of peptides"
      ],
      "metadata": {
        "id": "1p20aVHV82-X"
      }
    },
    {
      "cell_type": "code",
      "source": [
        "processor = PeptideProcessor(\n",
        "    input_file=\"random_tryptic_peptides.txt\",\n",
        "    collision_energy=30,\n",
        "    charge=2,\n",
        "    model_intensity=\"Prosit_2020_intensity_HCD\",\n",
        "    model_irt=\"Prosit_2019_irt\"\n",
        ")\n",
        "\n",
        "processor.process('random_tryptic_peptides.msp')"
      ],
      "metadata": {
        "id": "Gqm1dbxfQWkp"
      },
      "execution_count": 4,
      "outputs": []
    },
    {
      "cell_type": "markdown",
      "source": [
        "# Load dataset\n"
      ],
      "metadata": {
        "id": "nVf97aTgLFJm"
      }
    },
    {
      "cell_type": "code",
      "source": [
        "# You can use your own spectra\n",
        "File= 'random_tryptic_peptides.msp'\n",
        "spectra = list(load_from_msp(File))"
      ],
      "metadata": {
        "id": "IfrhTBn-LB5X",
        "colab": {
          "base_uri": "https://localhost:8080/"
        },
        "outputId": "597bcea8-c25a-40b4-c738-8cb0c6c33bd3"
      },
      "execution_count": 5,
      "outputs": [
        {
          "output_type": "stream",
          "name": "stdout",
          "text": [
            "2024-07-23 14:13:17,777:WARNING:matchms:add_precursor_mz:No precursor_mz found in metadata.\n"
          ]
        },
        {
          "output_type": "stream",
          "name": "stderr",
          "text": [
            "WARNING:matchms:No precursor_mz found in metadata.\n"
          ]
        },
        {
          "output_type": "stream",
          "name": "stdout",
          "text": [
            "2024-07-23 14:13:17,785:WARNING:matchms:add_precursor_mz:No precursor_mz found in metadata.\n"
          ]
        },
        {
          "output_type": "stream",
          "name": "stderr",
          "text": [
            "WARNING:matchms:No precursor_mz found in metadata.\n"
          ]
        },
        {
          "output_type": "stream",
          "name": "stdout",
          "text": [
            "2024-07-23 14:13:17,790:WARNING:matchms:add_precursor_mz:No precursor_mz found in metadata.\n"
          ]
        },
        {
          "output_type": "stream",
          "name": "stderr",
          "text": [
            "WARNING:matchms:No precursor_mz found in metadata.\n"
          ]
        },
        {
          "output_type": "stream",
          "name": "stdout",
          "text": [
            "2024-07-23 14:13:17,797:WARNING:matchms:add_precursor_mz:No precursor_mz found in metadata.\n"
          ]
        },
        {
          "output_type": "stream",
          "name": "stderr",
          "text": [
            "WARNING:matchms:No precursor_mz found in metadata.\n"
          ]
        },
        {
          "output_type": "stream",
          "name": "stdout",
          "text": [
            "2024-07-23 14:13:17,804:WARNING:matchms:add_precursor_mz:No precursor_mz found in metadata.\n"
          ]
        },
        {
          "output_type": "stream",
          "name": "stderr",
          "text": [
            "WARNING:matchms:No precursor_mz found in metadata.\n"
          ]
        },
        {
          "output_type": "stream",
          "name": "stdout",
          "text": [
            "2024-07-23 14:13:17,813:WARNING:matchms:add_precursor_mz:No precursor_mz found in metadata.\n"
          ]
        },
        {
          "output_type": "stream",
          "name": "stderr",
          "text": [
            "WARNING:matchms:No precursor_mz found in metadata.\n"
          ]
        },
        {
          "output_type": "stream",
          "name": "stdout",
          "text": [
            "2024-07-23 14:13:17,818:WARNING:matchms:add_precursor_mz:No precursor_mz found in metadata.\n"
          ]
        },
        {
          "output_type": "stream",
          "name": "stderr",
          "text": [
            "WARNING:matchms:No precursor_mz found in metadata.\n"
          ]
        },
        {
          "output_type": "stream",
          "name": "stdout",
          "text": [
            "2024-07-23 14:13:17,826:WARNING:matchms:add_precursor_mz:No precursor_mz found in metadata.\n"
          ]
        },
        {
          "output_type": "stream",
          "name": "stderr",
          "text": [
            "WARNING:matchms:No precursor_mz found in metadata.\n"
          ]
        },
        {
          "output_type": "stream",
          "name": "stdout",
          "text": [
            "2024-07-23 14:13:17,832:WARNING:matchms:add_precursor_mz:No precursor_mz found in metadata.\n"
          ]
        },
        {
          "output_type": "stream",
          "name": "stderr",
          "text": [
            "WARNING:matchms:No precursor_mz found in metadata.\n"
          ]
        },
        {
          "output_type": "stream",
          "name": "stdout",
          "text": [
            "2024-07-23 14:13:17,837:WARNING:matchms:add_precursor_mz:No precursor_mz found in metadata.\n"
          ]
        },
        {
          "output_type": "stream",
          "name": "stderr",
          "text": [
            "WARNING:matchms:No precursor_mz found in metadata.\n"
          ]
        },
        {
          "output_type": "stream",
          "name": "stdout",
          "text": [
            "2024-07-23 14:13:17,841:WARNING:matchms:add_precursor_mz:No precursor_mz found in metadata.\n"
          ]
        },
        {
          "output_type": "stream",
          "name": "stderr",
          "text": [
            "WARNING:matchms:No precursor_mz found in metadata.\n"
          ]
        },
        {
          "output_type": "stream",
          "name": "stdout",
          "text": [
            "2024-07-23 14:13:17,845:WARNING:matchms:add_precursor_mz:No precursor_mz found in metadata.\n"
          ]
        },
        {
          "output_type": "stream",
          "name": "stderr",
          "text": [
            "WARNING:matchms:No precursor_mz found in metadata.\n"
          ]
        },
        {
          "output_type": "stream",
          "name": "stdout",
          "text": [
            "2024-07-23 14:13:17,850:WARNING:matchms:add_precursor_mz:No precursor_mz found in metadata.\n"
          ]
        },
        {
          "output_type": "stream",
          "name": "stderr",
          "text": [
            "WARNING:matchms:No precursor_mz found in metadata.\n"
          ]
        },
        {
          "output_type": "stream",
          "name": "stdout",
          "text": [
            "2024-07-23 14:13:17,854:WARNING:matchms:add_precursor_mz:No precursor_mz found in metadata.\n"
          ]
        },
        {
          "output_type": "stream",
          "name": "stderr",
          "text": [
            "WARNING:matchms:No precursor_mz found in metadata.\n"
          ]
        },
        {
          "output_type": "stream",
          "name": "stdout",
          "text": [
            "2024-07-23 14:13:17,857:WARNING:matchms:add_precursor_mz:No precursor_mz found in metadata.\n"
          ]
        },
        {
          "output_type": "stream",
          "name": "stderr",
          "text": [
            "WARNING:matchms:No precursor_mz found in metadata.\n"
          ]
        },
        {
          "output_type": "stream",
          "name": "stdout",
          "text": [
            "2024-07-23 14:13:17,863:WARNING:matchms:add_precursor_mz:No precursor_mz found in metadata.\n"
          ]
        },
        {
          "output_type": "stream",
          "name": "stderr",
          "text": [
            "WARNING:matchms:No precursor_mz found in metadata.\n"
          ]
        },
        {
          "output_type": "stream",
          "name": "stdout",
          "text": [
            "2024-07-23 14:13:17,868:WARNING:matchms:add_precursor_mz:No precursor_mz found in metadata.\n"
          ]
        },
        {
          "output_type": "stream",
          "name": "stderr",
          "text": [
            "WARNING:matchms:No precursor_mz found in metadata.\n"
          ]
        },
        {
          "output_type": "stream",
          "name": "stdout",
          "text": [
            "2024-07-23 14:13:17,873:WARNING:matchms:add_precursor_mz:No precursor_mz found in metadata.\n"
          ]
        },
        {
          "output_type": "stream",
          "name": "stderr",
          "text": [
            "WARNING:matchms:No precursor_mz found in metadata.\n"
          ]
        },
        {
          "output_type": "stream",
          "name": "stdout",
          "text": [
            "2024-07-23 14:13:17,886:WARNING:matchms:add_precursor_mz:No precursor_mz found in metadata.\n"
          ]
        },
        {
          "output_type": "stream",
          "name": "stderr",
          "text": [
            "WARNING:matchms:No precursor_mz found in metadata.\n"
          ]
        },
        {
          "output_type": "stream",
          "name": "stdout",
          "text": [
            "2024-07-23 14:13:17,890:WARNING:matchms:add_precursor_mz:No precursor_mz found in metadata.\n"
          ]
        },
        {
          "output_type": "stream",
          "name": "stderr",
          "text": [
            "WARNING:matchms:No precursor_mz found in metadata.\n"
          ]
        },
        {
          "output_type": "stream",
          "name": "stdout",
          "text": [
            "2024-07-23 14:13:17,897:WARNING:matchms:add_precursor_mz:No precursor_mz found in metadata.\n"
          ]
        },
        {
          "output_type": "stream",
          "name": "stderr",
          "text": [
            "WARNING:matchms:No precursor_mz found in metadata.\n"
          ]
        },
        {
          "output_type": "stream",
          "name": "stdout",
          "text": [
            "2024-07-23 14:13:17,902:WARNING:matchms:add_precursor_mz:No precursor_mz found in metadata.\n"
          ]
        },
        {
          "output_type": "stream",
          "name": "stderr",
          "text": [
            "WARNING:matchms:No precursor_mz found in metadata.\n"
          ]
        },
        {
          "output_type": "stream",
          "name": "stdout",
          "text": [
            "2024-07-23 14:13:17,909:WARNING:matchms:add_precursor_mz:No precursor_mz found in metadata.\n"
          ]
        },
        {
          "output_type": "stream",
          "name": "stderr",
          "text": [
            "WARNING:matchms:No precursor_mz found in metadata.\n"
          ]
        },
        {
          "output_type": "stream",
          "name": "stdout",
          "text": [
            "2024-07-23 14:13:17,917:WARNING:matchms:add_precursor_mz:No precursor_mz found in metadata.\n"
          ]
        },
        {
          "output_type": "stream",
          "name": "stderr",
          "text": [
            "WARNING:matchms:No precursor_mz found in metadata.\n"
          ]
        },
        {
          "output_type": "stream",
          "name": "stdout",
          "text": [
            "2024-07-23 14:13:17,925:WARNING:matchms:add_precursor_mz:No precursor_mz found in metadata.\n"
          ]
        },
        {
          "output_type": "stream",
          "name": "stderr",
          "text": [
            "WARNING:matchms:No precursor_mz found in metadata.\n"
          ]
        },
        {
          "output_type": "stream",
          "name": "stdout",
          "text": [
            "2024-07-23 14:13:17,931:WARNING:matchms:add_precursor_mz:No precursor_mz found in metadata.\n"
          ]
        },
        {
          "output_type": "stream",
          "name": "stderr",
          "text": [
            "WARNING:matchms:No precursor_mz found in metadata.\n"
          ]
        },
        {
          "output_type": "stream",
          "name": "stdout",
          "text": [
            "2024-07-23 14:13:17,939:WARNING:matchms:add_precursor_mz:No precursor_mz found in metadata.\n"
          ]
        },
        {
          "output_type": "stream",
          "name": "stderr",
          "text": [
            "WARNING:matchms:No precursor_mz found in metadata.\n"
          ]
        },
        {
          "output_type": "stream",
          "name": "stdout",
          "text": [
            "2024-07-23 14:13:17,946:WARNING:matchms:add_precursor_mz:No precursor_mz found in metadata.\n"
          ]
        },
        {
          "output_type": "stream",
          "name": "stderr",
          "text": [
            "WARNING:matchms:No precursor_mz found in metadata.\n"
          ]
        },
        {
          "output_type": "stream",
          "name": "stdout",
          "text": [
            "2024-07-23 14:13:17,954:WARNING:matchms:add_precursor_mz:No precursor_mz found in metadata.\n"
          ]
        },
        {
          "output_type": "stream",
          "name": "stderr",
          "text": [
            "WARNING:matchms:No precursor_mz found in metadata.\n"
          ]
        },
        {
          "output_type": "stream",
          "name": "stdout",
          "text": [
            "2024-07-23 14:13:17,964:WARNING:matchms:add_precursor_mz:No precursor_mz found in metadata.\n"
          ]
        },
        {
          "output_type": "stream",
          "name": "stderr",
          "text": [
            "WARNING:matchms:No precursor_mz found in metadata.\n"
          ]
        },
        {
          "output_type": "stream",
          "name": "stdout",
          "text": [
            "2024-07-23 14:13:17,973:WARNING:matchms:add_precursor_mz:No precursor_mz found in metadata.\n"
          ]
        },
        {
          "output_type": "stream",
          "name": "stderr",
          "text": [
            "WARNING:matchms:No precursor_mz found in metadata.\n"
          ]
        },
        {
          "output_type": "stream",
          "name": "stdout",
          "text": [
            "2024-07-23 14:13:17,983:WARNING:matchms:add_precursor_mz:No precursor_mz found in metadata.\n"
          ]
        },
        {
          "output_type": "stream",
          "name": "stderr",
          "text": [
            "WARNING:matchms:No precursor_mz found in metadata.\n"
          ]
        },
        {
          "output_type": "stream",
          "name": "stdout",
          "text": [
            "2024-07-23 14:13:18,039:WARNING:matchms:add_precursor_mz:No precursor_mz found in metadata.\n"
          ]
        },
        {
          "output_type": "stream",
          "name": "stderr",
          "text": [
            "WARNING:matchms:No precursor_mz found in metadata.\n"
          ]
        },
        {
          "output_type": "stream",
          "name": "stdout",
          "text": [
            "2024-07-23 14:13:18,055:WARNING:matchms:add_precursor_mz:No precursor_mz found in metadata.\n"
          ]
        },
        {
          "output_type": "stream",
          "name": "stderr",
          "text": [
            "WARNING:matchms:No precursor_mz found in metadata.\n"
          ]
        },
        {
          "output_type": "stream",
          "name": "stdout",
          "text": [
            "2024-07-23 14:13:18,062:WARNING:matchms:add_precursor_mz:No precursor_mz found in metadata.\n"
          ]
        },
        {
          "output_type": "stream",
          "name": "stderr",
          "text": [
            "WARNING:matchms:No precursor_mz found in metadata.\n"
          ]
        },
        {
          "output_type": "stream",
          "name": "stdout",
          "text": [
            "2024-07-23 14:13:18,109:WARNING:matchms:add_precursor_mz:No precursor_mz found in metadata.\n"
          ]
        },
        {
          "output_type": "stream",
          "name": "stderr",
          "text": [
            "WARNING:matchms:No precursor_mz found in metadata.\n"
          ]
        },
        {
          "output_type": "stream",
          "name": "stdout",
          "text": [
            "2024-07-23 14:13:18,120:WARNING:matchms:add_precursor_mz:No precursor_mz found in metadata.\n"
          ]
        },
        {
          "output_type": "stream",
          "name": "stderr",
          "text": [
            "WARNING:matchms:No precursor_mz found in metadata.\n"
          ]
        },
        {
          "output_type": "stream",
          "name": "stdout",
          "text": [
            "2024-07-23 14:13:18,125:WARNING:matchms:add_precursor_mz:No precursor_mz found in metadata.\n"
          ]
        },
        {
          "output_type": "stream",
          "name": "stderr",
          "text": [
            "WARNING:matchms:No precursor_mz found in metadata.\n"
          ]
        },
        {
          "output_type": "stream",
          "name": "stdout",
          "text": [
            "2024-07-23 14:13:18,160:WARNING:matchms:add_precursor_mz:No precursor_mz found in metadata.\n"
          ]
        },
        {
          "output_type": "stream",
          "name": "stderr",
          "text": [
            "WARNING:matchms:No precursor_mz found in metadata.\n"
          ]
        },
        {
          "output_type": "stream",
          "name": "stdout",
          "text": [
            "2024-07-23 14:13:18,181:WARNING:matchms:add_precursor_mz:No precursor_mz found in metadata.\n"
          ]
        },
        {
          "output_type": "stream",
          "name": "stderr",
          "text": [
            "WARNING:matchms:No precursor_mz found in metadata.\n"
          ]
        },
        {
          "output_type": "stream",
          "name": "stdout",
          "text": [
            "2024-07-23 14:13:18,188:WARNING:matchms:add_precursor_mz:No precursor_mz found in metadata.\n"
          ]
        },
        {
          "output_type": "stream",
          "name": "stderr",
          "text": [
            "WARNING:matchms:No precursor_mz found in metadata.\n"
          ]
        },
        {
          "output_type": "stream",
          "name": "stdout",
          "text": [
            "2024-07-23 14:13:18,198:WARNING:matchms:add_precursor_mz:No precursor_mz found in metadata.\n"
          ]
        },
        {
          "output_type": "stream",
          "name": "stderr",
          "text": [
            "WARNING:matchms:No precursor_mz found in metadata.\n"
          ]
        },
        {
          "output_type": "stream",
          "name": "stdout",
          "text": [
            "2024-07-23 14:13:18,207:WARNING:matchms:add_precursor_mz:No precursor_mz found in metadata.\n"
          ]
        },
        {
          "output_type": "stream",
          "name": "stderr",
          "text": [
            "WARNING:matchms:No precursor_mz found in metadata.\n"
          ]
        },
        {
          "output_type": "stream",
          "name": "stdout",
          "text": [
            "2024-07-23 14:13:18,214:WARNING:matchms:add_precursor_mz:No precursor_mz found in metadata.\n"
          ]
        },
        {
          "output_type": "stream",
          "name": "stderr",
          "text": [
            "WARNING:matchms:No precursor_mz found in metadata.\n"
          ]
        },
        {
          "output_type": "stream",
          "name": "stdout",
          "text": [
            "2024-07-23 14:13:18,221:WARNING:matchms:add_precursor_mz:No precursor_mz found in metadata.\n"
          ]
        },
        {
          "output_type": "stream",
          "name": "stderr",
          "text": [
            "WARNING:matchms:No precursor_mz found in metadata.\n"
          ]
        },
        {
          "output_type": "stream",
          "name": "stdout",
          "text": [
            "2024-07-23 14:13:18,229:WARNING:matchms:add_precursor_mz:No precursor_mz found in metadata.\n"
          ]
        },
        {
          "output_type": "stream",
          "name": "stderr",
          "text": [
            "WARNING:matchms:No precursor_mz found in metadata.\n"
          ]
        },
        {
          "output_type": "stream",
          "name": "stdout",
          "text": [
            "2024-07-23 14:13:18,251:WARNING:matchms:add_precursor_mz:No precursor_mz found in metadata.\n"
          ]
        },
        {
          "output_type": "stream",
          "name": "stderr",
          "text": [
            "WARNING:matchms:No precursor_mz found in metadata.\n"
          ]
        },
        {
          "output_type": "stream",
          "name": "stdout",
          "text": [
            "2024-07-23 14:13:18,266:WARNING:matchms:add_precursor_mz:No precursor_mz found in metadata.\n"
          ]
        },
        {
          "output_type": "stream",
          "name": "stderr",
          "text": [
            "WARNING:matchms:No precursor_mz found in metadata.\n"
          ]
        },
        {
          "output_type": "stream",
          "name": "stdout",
          "text": [
            "2024-07-23 14:13:18,275:WARNING:matchms:add_precursor_mz:No precursor_mz found in metadata.\n"
          ]
        },
        {
          "output_type": "stream",
          "name": "stderr",
          "text": [
            "WARNING:matchms:No precursor_mz found in metadata.\n"
          ]
        },
        {
          "output_type": "stream",
          "name": "stdout",
          "text": [
            "2024-07-23 14:13:18,283:WARNING:matchms:add_precursor_mz:No precursor_mz found in metadata.\n"
          ]
        },
        {
          "output_type": "stream",
          "name": "stderr",
          "text": [
            "WARNING:matchms:No precursor_mz found in metadata.\n"
          ]
        },
        {
          "output_type": "stream",
          "name": "stdout",
          "text": [
            "2024-07-23 14:13:18,300:WARNING:matchms:add_precursor_mz:No precursor_mz found in metadata.\n"
          ]
        },
        {
          "output_type": "stream",
          "name": "stderr",
          "text": [
            "WARNING:matchms:No precursor_mz found in metadata.\n"
          ]
        },
        {
          "output_type": "stream",
          "name": "stdout",
          "text": [
            "2024-07-23 14:13:18,313:WARNING:matchms:add_precursor_mz:No precursor_mz found in metadata.\n"
          ]
        },
        {
          "output_type": "stream",
          "name": "stderr",
          "text": [
            "WARNING:matchms:No precursor_mz found in metadata.\n"
          ]
        },
        {
          "output_type": "stream",
          "name": "stdout",
          "text": [
            "2024-07-23 14:13:18,332:WARNING:matchms:add_precursor_mz:No precursor_mz found in metadata.\n"
          ]
        },
        {
          "output_type": "stream",
          "name": "stderr",
          "text": [
            "WARNING:matchms:No precursor_mz found in metadata.\n"
          ]
        },
        {
          "output_type": "stream",
          "name": "stdout",
          "text": [
            "2024-07-23 14:13:18,350:WARNING:matchms:add_precursor_mz:No precursor_mz found in metadata.\n"
          ]
        },
        {
          "output_type": "stream",
          "name": "stderr",
          "text": [
            "WARNING:matchms:No precursor_mz found in metadata.\n"
          ]
        },
        {
          "output_type": "stream",
          "name": "stdout",
          "text": [
            "2024-07-23 14:13:18,498:WARNING:matchms:add_precursor_mz:No precursor_mz found in metadata.\n"
          ]
        },
        {
          "output_type": "stream",
          "name": "stderr",
          "text": [
            "WARNING:matchms:No precursor_mz found in metadata.\n"
          ]
        },
        {
          "output_type": "stream",
          "name": "stdout",
          "text": [
            "2024-07-23 14:13:18,523:WARNING:matchms:add_precursor_mz:No precursor_mz found in metadata.\n"
          ]
        },
        {
          "output_type": "stream",
          "name": "stderr",
          "text": [
            "WARNING:matchms:No precursor_mz found in metadata.\n"
          ]
        },
        {
          "output_type": "stream",
          "name": "stdout",
          "text": [
            "2024-07-23 14:13:18,549:WARNING:matchms:add_precursor_mz:No precursor_mz found in metadata.\n"
          ]
        },
        {
          "output_type": "stream",
          "name": "stderr",
          "text": [
            "WARNING:matchms:No precursor_mz found in metadata.\n"
          ]
        },
        {
          "output_type": "stream",
          "name": "stdout",
          "text": [
            "2024-07-23 14:13:18,556:WARNING:matchms:add_precursor_mz:No precursor_mz found in metadata.\n"
          ]
        },
        {
          "output_type": "stream",
          "name": "stderr",
          "text": [
            "WARNING:matchms:No precursor_mz found in metadata.\n"
          ]
        },
        {
          "output_type": "stream",
          "name": "stdout",
          "text": [
            "2024-07-23 14:13:18,566:WARNING:matchms:add_precursor_mz:No precursor_mz found in metadata.\n"
          ]
        },
        {
          "output_type": "stream",
          "name": "stderr",
          "text": [
            "WARNING:matchms:No precursor_mz found in metadata.\n"
          ]
        },
        {
          "output_type": "stream",
          "name": "stdout",
          "text": [
            "2024-07-23 14:13:18,573:WARNING:matchms:add_precursor_mz:No precursor_mz found in metadata.\n"
          ]
        },
        {
          "output_type": "stream",
          "name": "stderr",
          "text": [
            "WARNING:matchms:No precursor_mz found in metadata.\n"
          ]
        },
        {
          "output_type": "stream",
          "name": "stdout",
          "text": [
            "2024-07-23 14:13:18,579:WARNING:matchms:add_precursor_mz:No precursor_mz found in metadata.\n"
          ]
        },
        {
          "output_type": "stream",
          "name": "stderr",
          "text": [
            "WARNING:matchms:No precursor_mz found in metadata.\n"
          ]
        },
        {
          "output_type": "stream",
          "name": "stdout",
          "text": [
            "2024-07-23 14:13:18,584:WARNING:matchms:add_precursor_mz:No precursor_mz found in metadata.\n"
          ]
        },
        {
          "output_type": "stream",
          "name": "stderr",
          "text": [
            "WARNING:matchms:No precursor_mz found in metadata.\n"
          ]
        },
        {
          "output_type": "stream",
          "name": "stdout",
          "text": [
            "2024-07-23 14:13:18,589:WARNING:matchms:add_precursor_mz:No precursor_mz found in metadata.\n"
          ]
        },
        {
          "output_type": "stream",
          "name": "stderr",
          "text": [
            "WARNING:matchms:No precursor_mz found in metadata.\n"
          ]
        },
        {
          "output_type": "stream",
          "name": "stdout",
          "text": [
            "2024-07-23 14:13:18,604:WARNING:matchms:add_precursor_mz:No precursor_mz found in metadata.\n"
          ]
        },
        {
          "output_type": "stream",
          "name": "stderr",
          "text": [
            "WARNING:matchms:No precursor_mz found in metadata.\n"
          ]
        },
        {
          "output_type": "stream",
          "name": "stdout",
          "text": [
            "2024-07-23 14:13:18,615:WARNING:matchms:add_precursor_mz:No precursor_mz found in metadata.\n"
          ]
        },
        {
          "output_type": "stream",
          "name": "stderr",
          "text": [
            "WARNING:matchms:No precursor_mz found in metadata.\n"
          ]
        },
        {
          "output_type": "stream",
          "name": "stdout",
          "text": [
            "2024-07-23 14:13:18,621:WARNING:matchms:add_precursor_mz:No precursor_mz found in metadata.\n"
          ]
        },
        {
          "output_type": "stream",
          "name": "stderr",
          "text": [
            "WARNING:matchms:No precursor_mz found in metadata.\n"
          ]
        },
        {
          "output_type": "stream",
          "name": "stdout",
          "text": [
            "2024-07-23 14:13:18,633:WARNING:matchms:add_precursor_mz:No precursor_mz found in metadata.\n"
          ]
        },
        {
          "output_type": "stream",
          "name": "stderr",
          "text": [
            "WARNING:matchms:No precursor_mz found in metadata.\n"
          ]
        },
        {
          "output_type": "stream",
          "name": "stdout",
          "text": [
            "2024-07-23 14:13:18,643:WARNING:matchms:add_precursor_mz:No precursor_mz found in metadata.\n"
          ]
        },
        {
          "output_type": "stream",
          "name": "stderr",
          "text": [
            "WARNING:matchms:No precursor_mz found in metadata.\n"
          ]
        },
        {
          "output_type": "stream",
          "name": "stdout",
          "text": [
            "2024-07-23 14:13:18,648:WARNING:matchms:add_precursor_mz:No precursor_mz found in metadata.\n"
          ]
        },
        {
          "output_type": "stream",
          "name": "stderr",
          "text": [
            "WARNING:matchms:No precursor_mz found in metadata.\n"
          ]
        },
        {
          "output_type": "stream",
          "name": "stdout",
          "text": [
            "2024-07-23 14:13:18,667:WARNING:matchms:add_precursor_mz:No precursor_mz found in metadata.\n"
          ]
        },
        {
          "output_type": "stream",
          "name": "stderr",
          "text": [
            "WARNING:matchms:No precursor_mz found in metadata.\n"
          ]
        },
        {
          "output_type": "stream",
          "name": "stdout",
          "text": [
            "2024-07-23 14:13:18,698:WARNING:matchms:add_precursor_mz:No precursor_mz found in metadata.\n"
          ]
        },
        {
          "output_type": "stream",
          "name": "stderr",
          "text": [
            "WARNING:matchms:No precursor_mz found in metadata.\n"
          ]
        },
        {
          "output_type": "stream",
          "name": "stdout",
          "text": [
            "2024-07-23 14:13:18,708:WARNING:matchms:add_precursor_mz:No precursor_mz found in metadata.\n"
          ]
        },
        {
          "output_type": "stream",
          "name": "stderr",
          "text": [
            "WARNING:matchms:No precursor_mz found in metadata.\n"
          ]
        },
        {
          "output_type": "stream",
          "name": "stdout",
          "text": [
            "2024-07-23 14:13:18,715:WARNING:matchms:add_precursor_mz:No precursor_mz found in metadata.\n"
          ]
        },
        {
          "output_type": "stream",
          "name": "stderr",
          "text": [
            "WARNING:matchms:No precursor_mz found in metadata.\n"
          ]
        },
        {
          "output_type": "stream",
          "name": "stdout",
          "text": [
            "2024-07-23 14:13:18,720:WARNING:matchms:add_precursor_mz:No precursor_mz found in metadata.\n"
          ]
        },
        {
          "output_type": "stream",
          "name": "stderr",
          "text": [
            "WARNING:matchms:No precursor_mz found in metadata.\n"
          ]
        },
        {
          "output_type": "stream",
          "name": "stdout",
          "text": [
            "2024-07-23 14:13:18,727:WARNING:matchms:add_precursor_mz:No precursor_mz found in metadata.\n"
          ]
        },
        {
          "output_type": "stream",
          "name": "stderr",
          "text": [
            "WARNING:matchms:No precursor_mz found in metadata.\n"
          ]
        },
        {
          "output_type": "stream",
          "name": "stdout",
          "text": [
            "2024-07-23 14:13:18,745:WARNING:matchms:add_precursor_mz:No precursor_mz found in metadata.\n"
          ]
        },
        {
          "output_type": "stream",
          "name": "stderr",
          "text": [
            "WARNING:matchms:No precursor_mz found in metadata.\n"
          ]
        },
        {
          "output_type": "stream",
          "name": "stdout",
          "text": [
            "2024-07-23 14:13:18,749:WARNING:matchms:add_precursor_mz:No precursor_mz found in metadata.\n"
          ]
        },
        {
          "output_type": "stream",
          "name": "stderr",
          "text": [
            "WARNING:matchms:No precursor_mz found in metadata.\n"
          ]
        },
        {
          "output_type": "stream",
          "name": "stdout",
          "text": [
            "2024-07-23 14:13:18,753:WARNING:matchms:add_precursor_mz:No precursor_mz found in metadata.\n"
          ]
        },
        {
          "output_type": "stream",
          "name": "stderr",
          "text": [
            "WARNING:matchms:No precursor_mz found in metadata.\n"
          ]
        },
        {
          "output_type": "stream",
          "name": "stdout",
          "text": [
            "2024-07-23 14:13:18,757:WARNING:matchms:add_precursor_mz:No precursor_mz found in metadata.\n"
          ]
        },
        {
          "output_type": "stream",
          "name": "stderr",
          "text": [
            "WARNING:matchms:No precursor_mz found in metadata.\n"
          ]
        },
        {
          "output_type": "stream",
          "name": "stdout",
          "text": [
            "2024-07-23 14:13:18,760:WARNING:matchms:add_precursor_mz:No precursor_mz found in metadata.\n"
          ]
        },
        {
          "output_type": "stream",
          "name": "stderr",
          "text": [
            "WARNING:matchms:No precursor_mz found in metadata.\n"
          ]
        },
        {
          "output_type": "stream",
          "name": "stdout",
          "text": [
            "2024-07-23 14:13:18,763:WARNING:matchms:add_precursor_mz:No precursor_mz found in metadata.\n"
          ]
        },
        {
          "output_type": "stream",
          "name": "stderr",
          "text": [
            "WARNING:matchms:No precursor_mz found in metadata.\n"
          ]
        },
        {
          "output_type": "stream",
          "name": "stdout",
          "text": [
            "2024-07-23 14:13:18,767:WARNING:matchms:add_precursor_mz:No precursor_mz found in metadata.\n"
          ]
        },
        {
          "output_type": "stream",
          "name": "stderr",
          "text": [
            "WARNING:matchms:No precursor_mz found in metadata.\n"
          ]
        },
        {
          "output_type": "stream",
          "name": "stdout",
          "text": [
            "2024-07-23 14:13:18,771:WARNING:matchms:add_precursor_mz:No precursor_mz found in metadata.\n"
          ]
        },
        {
          "output_type": "stream",
          "name": "stderr",
          "text": [
            "WARNING:matchms:No precursor_mz found in metadata.\n"
          ]
        },
        {
          "output_type": "stream",
          "name": "stdout",
          "text": [
            "2024-07-23 14:13:18,774:WARNING:matchms:add_precursor_mz:No precursor_mz found in metadata.\n"
          ]
        },
        {
          "output_type": "stream",
          "name": "stderr",
          "text": [
            "WARNING:matchms:No precursor_mz found in metadata.\n"
          ]
        },
        {
          "output_type": "stream",
          "name": "stdout",
          "text": [
            "2024-07-23 14:13:18,778:WARNING:matchms:add_precursor_mz:No precursor_mz found in metadata.\n"
          ]
        },
        {
          "output_type": "stream",
          "name": "stderr",
          "text": [
            "WARNING:matchms:No precursor_mz found in metadata.\n"
          ]
        },
        {
          "output_type": "stream",
          "name": "stdout",
          "text": [
            "2024-07-23 14:13:18,782:WARNING:matchms:add_precursor_mz:No precursor_mz found in metadata.\n"
          ]
        },
        {
          "output_type": "stream",
          "name": "stderr",
          "text": [
            "WARNING:matchms:No precursor_mz found in metadata.\n"
          ]
        },
        {
          "output_type": "stream",
          "name": "stdout",
          "text": [
            "2024-07-23 14:13:18,786:WARNING:matchms:add_precursor_mz:No precursor_mz found in metadata.\n"
          ]
        },
        {
          "output_type": "stream",
          "name": "stderr",
          "text": [
            "WARNING:matchms:No precursor_mz found in metadata.\n"
          ]
        },
        {
          "output_type": "stream",
          "name": "stdout",
          "text": [
            "2024-07-23 14:13:18,790:WARNING:matchms:add_precursor_mz:No precursor_mz found in metadata.\n"
          ]
        },
        {
          "output_type": "stream",
          "name": "stderr",
          "text": [
            "WARNING:matchms:No precursor_mz found in metadata.\n"
          ]
        },
        {
          "output_type": "stream",
          "name": "stdout",
          "text": [
            "2024-07-23 14:13:18,794:WARNING:matchms:add_precursor_mz:No precursor_mz found in metadata.\n"
          ]
        },
        {
          "output_type": "stream",
          "name": "stderr",
          "text": [
            "WARNING:matchms:No precursor_mz found in metadata.\n"
          ]
        },
        {
          "output_type": "stream",
          "name": "stdout",
          "text": [
            "2024-07-23 14:13:18,798:WARNING:matchms:add_precursor_mz:No precursor_mz found in metadata.\n"
          ]
        },
        {
          "output_type": "stream",
          "name": "stderr",
          "text": [
            "WARNING:matchms:No precursor_mz found in metadata.\n"
          ]
        },
        {
          "output_type": "stream",
          "name": "stdout",
          "text": [
            "2024-07-23 14:13:18,802:WARNING:matchms:add_precursor_mz:No precursor_mz found in metadata.\n"
          ]
        },
        {
          "output_type": "stream",
          "name": "stderr",
          "text": [
            "WARNING:matchms:No precursor_mz found in metadata.\n"
          ]
        },
        {
          "output_type": "stream",
          "name": "stdout",
          "text": [
            "2024-07-23 14:13:18,805:WARNING:matchms:add_precursor_mz:No precursor_mz found in metadata.\n"
          ]
        },
        {
          "output_type": "stream",
          "name": "stderr",
          "text": [
            "WARNING:matchms:No precursor_mz found in metadata.\n"
          ]
        },
        {
          "output_type": "stream",
          "name": "stdout",
          "text": [
            "2024-07-23 14:13:18,809:WARNING:matchms:add_precursor_mz:No precursor_mz found in metadata.\n"
          ]
        },
        {
          "output_type": "stream",
          "name": "stderr",
          "text": [
            "WARNING:matchms:No precursor_mz found in metadata.\n"
          ]
        },
        {
          "output_type": "stream",
          "name": "stdout",
          "text": [
            "2024-07-23 14:13:18,813:WARNING:matchms:add_precursor_mz:No precursor_mz found in metadata.\n"
          ]
        },
        {
          "output_type": "stream",
          "name": "stderr",
          "text": [
            "WARNING:matchms:No precursor_mz found in metadata.\n"
          ]
        },
        {
          "output_type": "stream",
          "name": "stdout",
          "text": [
            "2024-07-23 14:13:18,817:WARNING:matchms:add_precursor_mz:No precursor_mz found in metadata.\n"
          ]
        },
        {
          "output_type": "stream",
          "name": "stderr",
          "text": [
            "WARNING:matchms:No precursor_mz found in metadata.\n"
          ]
        },
        {
          "output_type": "stream",
          "name": "stdout",
          "text": [
            "2024-07-23 14:13:18,820:WARNING:matchms:add_precursor_mz:No precursor_mz found in metadata.\n"
          ]
        },
        {
          "output_type": "stream",
          "name": "stderr",
          "text": [
            "WARNING:matchms:No precursor_mz found in metadata.\n"
          ]
        },
        {
          "output_type": "stream",
          "name": "stdout",
          "text": [
            "2024-07-23 14:13:18,824:WARNING:matchms:add_precursor_mz:No precursor_mz found in metadata.\n"
          ]
        },
        {
          "output_type": "stream",
          "name": "stderr",
          "text": [
            "WARNING:matchms:No precursor_mz found in metadata.\n"
          ]
        },
        {
          "output_type": "stream",
          "name": "stdout",
          "text": [
            "2024-07-23 14:13:18,828:WARNING:matchms:add_precursor_mz:No precursor_mz found in metadata.\n"
          ]
        },
        {
          "output_type": "stream",
          "name": "stderr",
          "text": [
            "WARNING:matchms:No precursor_mz found in metadata.\n"
          ]
        },
        {
          "output_type": "stream",
          "name": "stdout",
          "text": [
            "2024-07-23 14:13:18,832:WARNING:matchms:add_precursor_mz:No precursor_mz found in metadata.\n"
          ]
        },
        {
          "output_type": "stream",
          "name": "stderr",
          "text": [
            "WARNING:matchms:No precursor_mz found in metadata.\n"
          ]
        },
        {
          "output_type": "stream",
          "name": "stdout",
          "text": [
            "2024-07-23 14:13:18,836:WARNING:matchms:add_precursor_mz:No precursor_mz found in metadata.\n"
          ]
        },
        {
          "output_type": "stream",
          "name": "stderr",
          "text": [
            "WARNING:matchms:No precursor_mz found in metadata.\n"
          ]
        }
      ]
    },
    {
      "cell_type": "code",
      "source": [],
      "metadata": {
        "id": "iRZs3Sp8L2EG"
      },
      "execution_count": 5,
      "outputs": []
    },
    {
      "cell_type": "markdown",
      "source": [
        "# Group within MS1 tolerance"
      ],
      "metadata": {
        "id": "IZULajcxL2mO"
      }
    },
    {
      "cell_type": "code",
      "source": [
        "mz_tolerance = 5\n",
        "irt_tolerance = 50\n",
        "\n",
        "\n",
        "mz_irt_df = read_msp_file(File)\n",
        "Groups_df = process_peptide_combinations(mz_irt_df, mz_tolerance, irt_tolerance, use_ppm=False)\n",
        "\n",
        "Groups_df"
      ],
      "metadata": {
        "colab": {
          "base_uri": "https://localhost:8080/",
          "height": 0
        },
        "id": "xRmlrHwlhIMa",
        "outputId": "369d2841-ac92-4057-b744-993f6577c4ec"
      },
      "execution_count": 6,
      "outputs": [
        {
          "output_type": "execute_result",
          "data": {
            "text/plain": [
              "    index1  index2              peptide 1              peptide 2       m/z  1  \\\n",
              "0       14      31       PVELNLETGIFGFR/2        LQTWQIFHLVGMK/2   796.427573   \n",
              "1       11      87      WISQSLKFLVWEFHK/2     LEFSNINMLMIFAPFR/2   974.527621   \n",
              "2       74      86  GCEWEMAMRCPAPFFGPQK/2  ESQTNGNNWVKWSPPSPVR/2  1092.977942   \n",
              "3       37      86    ETNQESEVMRFWHFAIR/2  ESQTNGNNWVKWSPPSPVR/2  1090.520730   \n",
              "4       13      39  CWHEIDTFFHQYGRRSQGK/2  ALKTYDWVKKYEMCMHPDK/2  1198.061086   \n",
              "5       34      55           YFNHEDCISR/2          KQEVPTTFPSR/2   642.277311   \n",
              "6       37      74    ETNQESEVMRFWHFAIR/2  GCEWEMAMRCPAPFFGPQK/2  1090.520730   \n",
              "7       42      91          AALHWKAPTGK/2           IIGSSWGYHR/2   590.335290   \n",
              "8       10      72        PQDIFDHAFQGHK/2        WSTPCDNPFTHDK/2   770.370590   \n",
              "9       34      41           YFNHEDCISR/2            EWPWPRMKR/2   642.277311   \n",
              "10      50      60    CSHSVMPPFIAPWSFHK/2    QLSGAMNIKNVFCKWAR/2   985.973841   \n",
              "11      71      86    GWDWSYRWRVGNQIVEK/2  ESQTNGNNWVKWSPPSPVR/2  1090.045229   \n",
              "12      24      34          DSNMHLTACKR/2           YFNHEDCISR/2   638.300264   \n",
              "13      23      44      HIIYKYVFNCYHSDR/2      VNELWKQPRLMDQHR/2   979.472520   \n",
              "14      37      71    ETNQESEVMRFWHFAIR/2    GWDWSYRWRVGNQIVEK/2  1090.520730   \n",
              "15      42      80          AALHWKAPTGK/2           QMSSTRCDKK/2   590.335290   \n",
              "16      71      74    GWDWSYRWRVGNQIVEK/2  GCEWEMAMRCPAPFFGPQK/2  1090.045229   \n",
              "17       7      99       FIHECIHEPRNATK/2      GMALEWGKQSEAKLH/2   847.925206   \n",
              "18      23      62      HIIYKYVFNCYHSDR/2    HGQRVCSNTINCIHDVR/2   979.472520   \n",
              "19       7      67       FIHECIHEPRNATK/2       DGEDNMKLYKGYQK/2   847.925206   \n",
              "20       3       6     VPDCTHWHCENEHKEK/2   CDGGVTHGCPQWCVRDCR/2   996.427984   \n",
              "21      25      49         HLTAGTYIHCNR/2          PIMNAREYKDR/2   693.340778   \n",
              "22      51      57  FMIHQHLKATIGHNENATR/2  EDWRGCVHRGQSMNGTLIR/2  1109.568546   \n",
              "23      28      50   WAPAGPWQQADLDPAISR/2    CSHSVMPPFIAPWSFHK/2   989.992132   \n",
              "24      36      54      FNCEYARKPHTSTVR/2      NQMAISHVVEKYKCR/2   904.946670   \n",
              "25      33      87     QRNSNTLTFFTLHLLK/2     LEFSNINMLMIFAPFR/2   967.036342   \n",
              "26      12      18            MIGSNCRRK/2            KDQGCEMCR/2   532.776227   \n",
              "27      26      82  THRFIAPLNGNRYWLNMTR/2   IVNRERHPYIQWHYTLCK/2  1180.613288   \n",
              "28      86      93  ESQTNGNNWVKWSPPSPVR/2   TEPDHFPDKKNMFSCTYK/2  1092.035058   \n",
              "29      45      57  NEAVSHTVRFFPQFCDATR/2  EDWRGCVHRGQSMNGTLIR/2  1113.031462   \n",
              "30      22      90       ANHCYCKRMNYADR/2        VYEELKRQKLNYR/2   872.876876   \n",
              "31      64      72         QIPRHFLFGFHR/2        WSTPCDNPFTHDK/2   777.925669   \n",
              "32      38      81           VASFCKALLK/2            PKRIYANGR/2   540.317720   \n",
              "33      26      56  THRFIAPLNGNRYWLNMTR/2  CYDCTTHICVLFNNWKPFR/2  1180.613288   \n",
              "34       6      96   CDGGVTHGCPQWCVRDCR/2    STQWFWQGPHNKCGKGK/2   996.408215   \n",
              "35       1      79           GMWIDKHYYK/2         ASDDVTIEEQNK/2   670.826441   \n",
              "36       3      96     VPDCTHWHCENEHKEK/2    STQWFWQGPHNKCGKGK/2   996.427984   \n",
              "37      27      65            KNDLEAEER/2           NTYSTCVPAR/2   552.270009   \n",
              "38      67      99       DGEDNMKLYKGYQK/2      GMALEWGKQSEAKLH/2   844.901062   \n",
              "39      41      55            EWPWPRMKR/2          KQEVPTTFPSR/2   643.334767   \n",
              "40       9      75      KMDCFHNENDFGHNK/2      YWEKGECPKIPISKR/2   918.383044   \n",
              "41       0       5        DWGCMMMPCQAWR/2         WYMGWPYNIVHR/2   807.810771   \n",
              "42      44      62      VNELWKQPRLMDQHR/2    HGQRVCSNTINCIHDVR/2   975.509968   \n",
              "43      69      70     VKEYHWCQCIQQRLSR/2    VDADMITKPSIYRHRNR/2  1039.014561   \n",
              "44      23      60      HIIYKYVFNCYHSDR/2    QLSGAMNIKNVFCKWAR/2   979.472520   \n",
              "45      20      85   SWEKSTIYRILFRQFHAR/2  SREIVMCAFLKSPIYCRWK/2  1169.632003   \n",
              "\n",
              "          m/z 2       iRT 1       iRT 2  \n",
              "0    800.937054  150.321045  133.027130  \n",
              "1    971.999524  138.482361  163.876480  \n",
              "2   1092.035058  115.123734   75.837006  \n",
              "3   1092.035058  121.179474   75.837006  \n",
              "4   1193.573260   69.598907   71.576225  \n",
              "5    645.346052   14.993286   22.623009  \n",
              "6   1092.977942  121.179474  115.123734  \n",
              "7    588.301447   17.545467   40.351646  \n",
              "8    774.332815   55.859516   61.337048  \n",
              "9    643.334767   14.993286   61.232903  \n",
              "10   983.511122  109.644104   99.777916  \n",
              "11  1092.035058   95.327560   75.837006  \n",
              "12   642.277311   -7.451088   14.993286  \n",
              "13   975.509968   50.088474   46.044533  \n",
              "14  1090.045229  121.179474   95.327560  \n",
              "15   592.281540   17.545467  -14.430202  \n",
              "16  1092.977942   95.327560  115.123734  \n",
              "17   842.927414    0.806179   50.363411  \n",
              "18   976.470517   50.088474   12.871590  \n",
              "19   844.901062    0.806179   20.959293  \n",
              "20   996.408215   -9.421413   31.894344  \n",
              "21   696.856260   10.028168    1.247501  \n",
              "22  1108.034013   15.090652   35.837952  \n",
              "23   985.973841  105.892738  109.644104  \n",
              "24   903.461098   -3.454361   28.744747  \n",
              "25   971.999524  119.113892  163.876480  \n",
              "26   535.214812   -1.341732  -13.972301  \n",
              "27  1178.610214   80.119675   44.053543  \n",
              "28  1094.495532   75.837006   37.078201  \n",
              "29  1108.034013   85.517998   35.837952  \n",
              "30   869.983578  -13.057461   10.001099  \n",
              "31   774.332815   66.874596   61.337048  \n",
              "32   537.811982   63.933235   92.373360  \n",
              "33  1180.542294   80.119675  122.732864  \n",
              "34   994.981044   31.894344   38.825188  \n",
              "35   674.814978   37.995903    9.455700  \n",
              "36   994.981044   -9.421413   38.825188  \n",
              "37   556.263673  -11.521717   13.386509  \n",
              "38   842.927414   20.959293   50.363411  \n",
              "39   645.346052   61.232903   22.623009  \n",
              "40   917.487639    9.935371   31.965071  \n",
              "41   811.390271  126.782272  117.261765  \n",
              "42   976.470517   46.044533   12.871590  \n",
              "43  1036.544539   54.470531   19.866207  \n",
              "44   983.511122   50.088474   99.777916  \n",
              "45  1165.602154   97.284927   99.901672  "
            ],
            "text/html": [
              "\n",
              "  <div id=\"df-fca4743c-7ccf-4ded-84db-c4d299bc3e43\" class=\"colab-df-container\">\n",
              "    <div>\n",
              "<style scoped>\n",
              "    .dataframe tbody tr th:only-of-type {\n",
              "        vertical-align: middle;\n",
              "    }\n",
              "\n",
              "    .dataframe tbody tr th {\n",
              "        vertical-align: top;\n",
              "    }\n",
              "\n",
              "    .dataframe thead th {\n",
              "        text-align: right;\n",
              "    }\n",
              "</style>\n",
              "<table border=\"1\" class=\"dataframe\">\n",
              "  <thead>\n",
              "    <tr style=\"text-align: right;\">\n",
              "      <th></th>\n",
              "      <th>index1</th>\n",
              "      <th>index2</th>\n",
              "      <th>peptide 1</th>\n",
              "      <th>peptide 2</th>\n",
              "      <th>m/z  1</th>\n",
              "      <th>m/z 2</th>\n",
              "      <th>iRT 1</th>\n",
              "      <th>iRT 2</th>\n",
              "    </tr>\n",
              "  </thead>\n",
              "  <tbody>\n",
              "    <tr>\n",
              "      <th>0</th>\n",
              "      <td>14</td>\n",
              "      <td>31</td>\n",
              "      <td>PVELNLETGIFGFR/2</td>\n",
              "      <td>LQTWQIFHLVGMK/2</td>\n",
              "      <td>796.427573</td>\n",
              "      <td>800.937054</td>\n",
              "      <td>150.321045</td>\n",
              "      <td>133.027130</td>\n",
              "    </tr>\n",
              "    <tr>\n",
              "      <th>1</th>\n",
              "      <td>11</td>\n",
              "      <td>87</td>\n",
              "      <td>WISQSLKFLVWEFHK/2</td>\n",
              "      <td>LEFSNINMLMIFAPFR/2</td>\n",
              "      <td>974.527621</td>\n",
              "      <td>971.999524</td>\n",
              "      <td>138.482361</td>\n",
              "      <td>163.876480</td>\n",
              "    </tr>\n",
              "    <tr>\n",
              "      <th>2</th>\n",
              "      <td>74</td>\n",
              "      <td>86</td>\n",
              "      <td>GCEWEMAMRCPAPFFGPQK/2</td>\n",
              "      <td>ESQTNGNNWVKWSPPSPVR/2</td>\n",
              "      <td>1092.977942</td>\n",
              "      <td>1092.035058</td>\n",
              "      <td>115.123734</td>\n",
              "      <td>75.837006</td>\n",
              "    </tr>\n",
              "    <tr>\n",
              "      <th>3</th>\n",
              "      <td>37</td>\n",
              "      <td>86</td>\n",
              "      <td>ETNQESEVMRFWHFAIR/2</td>\n",
              "      <td>ESQTNGNNWVKWSPPSPVR/2</td>\n",
              "      <td>1090.520730</td>\n",
              "      <td>1092.035058</td>\n",
              "      <td>121.179474</td>\n",
              "      <td>75.837006</td>\n",
              "    </tr>\n",
              "    <tr>\n",
              "      <th>4</th>\n",
              "      <td>13</td>\n",
              "      <td>39</td>\n",
              "      <td>CWHEIDTFFHQYGRRSQGK/2</td>\n",
              "      <td>ALKTYDWVKKYEMCMHPDK/2</td>\n",
              "      <td>1198.061086</td>\n",
              "      <td>1193.573260</td>\n",
              "      <td>69.598907</td>\n",
              "      <td>71.576225</td>\n",
              "    </tr>\n",
              "    <tr>\n",
              "      <th>5</th>\n",
              "      <td>34</td>\n",
              "      <td>55</td>\n",
              "      <td>YFNHEDCISR/2</td>\n",
              "      <td>KQEVPTTFPSR/2</td>\n",
              "      <td>642.277311</td>\n",
              "      <td>645.346052</td>\n",
              "      <td>14.993286</td>\n",
              "      <td>22.623009</td>\n",
              "    </tr>\n",
              "    <tr>\n",
              "      <th>6</th>\n",
              "      <td>37</td>\n",
              "      <td>74</td>\n",
              "      <td>ETNQESEVMRFWHFAIR/2</td>\n",
              "      <td>GCEWEMAMRCPAPFFGPQK/2</td>\n",
              "      <td>1090.520730</td>\n",
              "      <td>1092.977942</td>\n",
              "      <td>121.179474</td>\n",
              "      <td>115.123734</td>\n",
              "    </tr>\n",
              "    <tr>\n",
              "      <th>7</th>\n",
              "      <td>42</td>\n",
              "      <td>91</td>\n",
              "      <td>AALHWKAPTGK/2</td>\n",
              "      <td>IIGSSWGYHR/2</td>\n",
              "      <td>590.335290</td>\n",
              "      <td>588.301447</td>\n",
              "      <td>17.545467</td>\n",
              "      <td>40.351646</td>\n",
              "    </tr>\n",
              "    <tr>\n",
              "      <th>8</th>\n",
              "      <td>10</td>\n",
              "      <td>72</td>\n",
              "      <td>PQDIFDHAFQGHK/2</td>\n",
              "      <td>WSTPCDNPFTHDK/2</td>\n",
              "      <td>770.370590</td>\n",
              "      <td>774.332815</td>\n",
              "      <td>55.859516</td>\n",
              "      <td>61.337048</td>\n",
              "    </tr>\n",
              "    <tr>\n",
              "      <th>9</th>\n",
              "      <td>34</td>\n",
              "      <td>41</td>\n",
              "      <td>YFNHEDCISR/2</td>\n",
              "      <td>EWPWPRMKR/2</td>\n",
              "      <td>642.277311</td>\n",
              "      <td>643.334767</td>\n",
              "      <td>14.993286</td>\n",
              "      <td>61.232903</td>\n",
              "    </tr>\n",
              "    <tr>\n",
              "      <th>10</th>\n",
              "      <td>50</td>\n",
              "      <td>60</td>\n",
              "      <td>CSHSVMPPFIAPWSFHK/2</td>\n",
              "      <td>QLSGAMNIKNVFCKWAR/2</td>\n",
              "      <td>985.973841</td>\n",
              "      <td>983.511122</td>\n",
              "      <td>109.644104</td>\n",
              "      <td>99.777916</td>\n",
              "    </tr>\n",
              "    <tr>\n",
              "      <th>11</th>\n",
              "      <td>71</td>\n",
              "      <td>86</td>\n",
              "      <td>GWDWSYRWRVGNQIVEK/2</td>\n",
              "      <td>ESQTNGNNWVKWSPPSPVR/2</td>\n",
              "      <td>1090.045229</td>\n",
              "      <td>1092.035058</td>\n",
              "      <td>95.327560</td>\n",
              "      <td>75.837006</td>\n",
              "    </tr>\n",
              "    <tr>\n",
              "      <th>12</th>\n",
              "      <td>24</td>\n",
              "      <td>34</td>\n",
              "      <td>DSNMHLTACKR/2</td>\n",
              "      <td>YFNHEDCISR/2</td>\n",
              "      <td>638.300264</td>\n",
              "      <td>642.277311</td>\n",
              "      <td>-7.451088</td>\n",
              "      <td>14.993286</td>\n",
              "    </tr>\n",
              "    <tr>\n",
              "      <th>13</th>\n",
              "      <td>23</td>\n",
              "      <td>44</td>\n",
              "      <td>HIIYKYVFNCYHSDR/2</td>\n",
              "      <td>VNELWKQPRLMDQHR/2</td>\n",
              "      <td>979.472520</td>\n",
              "      <td>975.509968</td>\n",
              "      <td>50.088474</td>\n",
              "      <td>46.044533</td>\n",
              "    </tr>\n",
              "    <tr>\n",
              "      <th>14</th>\n",
              "      <td>37</td>\n",
              "      <td>71</td>\n",
              "      <td>ETNQESEVMRFWHFAIR/2</td>\n",
              "      <td>GWDWSYRWRVGNQIVEK/2</td>\n",
              "      <td>1090.520730</td>\n",
              "      <td>1090.045229</td>\n",
              "      <td>121.179474</td>\n",
              "      <td>95.327560</td>\n",
              "    </tr>\n",
              "    <tr>\n",
              "      <th>15</th>\n",
              "      <td>42</td>\n",
              "      <td>80</td>\n",
              "      <td>AALHWKAPTGK/2</td>\n",
              "      <td>QMSSTRCDKK/2</td>\n",
              "      <td>590.335290</td>\n",
              "      <td>592.281540</td>\n",
              "      <td>17.545467</td>\n",
              "      <td>-14.430202</td>\n",
              "    </tr>\n",
              "    <tr>\n",
              "      <th>16</th>\n",
              "      <td>71</td>\n",
              "      <td>74</td>\n",
              "      <td>GWDWSYRWRVGNQIVEK/2</td>\n",
              "      <td>GCEWEMAMRCPAPFFGPQK/2</td>\n",
              "      <td>1090.045229</td>\n",
              "      <td>1092.977942</td>\n",
              "      <td>95.327560</td>\n",
              "      <td>115.123734</td>\n",
              "    </tr>\n",
              "    <tr>\n",
              "      <th>17</th>\n",
              "      <td>7</td>\n",
              "      <td>99</td>\n",
              "      <td>FIHECIHEPRNATK/2</td>\n",
              "      <td>GMALEWGKQSEAKLH/2</td>\n",
              "      <td>847.925206</td>\n",
              "      <td>842.927414</td>\n",
              "      <td>0.806179</td>\n",
              "      <td>50.363411</td>\n",
              "    </tr>\n",
              "    <tr>\n",
              "      <th>18</th>\n",
              "      <td>23</td>\n",
              "      <td>62</td>\n",
              "      <td>HIIYKYVFNCYHSDR/2</td>\n",
              "      <td>HGQRVCSNTINCIHDVR/2</td>\n",
              "      <td>979.472520</td>\n",
              "      <td>976.470517</td>\n",
              "      <td>50.088474</td>\n",
              "      <td>12.871590</td>\n",
              "    </tr>\n",
              "    <tr>\n",
              "      <th>19</th>\n",
              "      <td>7</td>\n",
              "      <td>67</td>\n",
              "      <td>FIHECIHEPRNATK/2</td>\n",
              "      <td>DGEDNMKLYKGYQK/2</td>\n",
              "      <td>847.925206</td>\n",
              "      <td>844.901062</td>\n",
              "      <td>0.806179</td>\n",
              "      <td>20.959293</td>\n",
              "    </tr>\n",
              "    <tr>\n",
              "      <th>20</th>\n",
              "      <td>3</td>\n",
              "      <td>6</td>\n",
              "      <td>VPDCTHWHCENEHKEK/2</td>\n",
              "      <td>CDGGVTHGCPQWCVRDCR/2</td>\n",
              "      <td>996.427984</td>\n",
              "      <td>996.408215</td>\n",
              "      <td>-9.421413</td>\n",
              "      <td>31.894344</td>\n",
              "    </tr>\n",
              "    <tr>\n",
              "      <th>21</th>\n",
              "      <td>25</td>\n",
              "      <td>49</td>\n",
              "      <td>HLTAGTYIHCNR/2</td>\n",
              "      <td>PIMNAREYKDR/2</td>\n",
              "      <td>693.340778</td>\n",
              "      <td>696.856260</td>\n",
              "      <td>10.028168</td>\n",
              "      <td>1.247501</td>\n",
              "    </tr>\n",
              "    <tr>\n",
              "      <th>22</th>\n",
              "      <td>51</td>\n",
              "      <td>57</td>\n",
              "      <td>FMIHQHLKATIGHNENATR/2</td>\n",
              "      <td>EDWRGCVHRGQSMNGTLIR/2</td>\n",
              "      <td>1109.568546</td>\n",
              "      <td>1108.034013</td>\n",
              "      <td>15.090652</td>\n",
              "      <td>35.837952</td>\n",
              "    </tr>\n",
              "    <tr>\n",
              "      <th>23</th>\n",
              "      <td>28</td>\n",
              "      <td>50</td>\n",
              "      <td>WAPAGPWQQADLDPAISR/2</td>\n",
              "      <td>CSHSVMPPFIAPWSFHK/2</td>\n",
              "      <td>989.992132</td>\n",
              "      <td>985.973841</td>\n",
              "      <td>105.892738</td>\n",
              "      <td>109.644104</td>\n",
              "    </tr>\n",
              "    <tr>\n",
              "      <th>24</th>\n",
              "      <td>36</td>\n",
              "      <td>54</td>\n",
              "      <td>FNCEYARKPHTSTVR/2</td>\n",
              "      <td>NQMAISHVVEKYKCR/2</td>\n",
              "      <td>904.946670</td>\n",
              "      <td>903.461098</td>\n",
              "      <td>-3.454361</td>\n",
              "      <td>28.744747</td>\n",
              "    </tr>\n",
              "    <tr>\n",
              "      <th>25</th>\n",
              "      <td>33</td>\n",
              "      <td>87</td>\n",
              "      <td>QRNSNTLTFFTLHLLK/2</td>\n",
              "      <td>LEFSNINMLMIFAPFR/2</td>\n",
              "      <td>967.036342</td>\n",
              "      <td>971.999524</td>\n",
              "      <td>119.113892</td>\n",
              "      <td>163.876480</td>\n",
              "    </tr>\n",
              "    <tr>\n",
              "      <th>26</th>\n",
              "      <td>12</td>\n",
              "      <td>18</td>\n",
              "      <td>MIGSNCRRK/2</td>\n",
              "      <td>KDQGCEMCR/2</td>\n",
              "      <td>532.776227</td>\n",
              "      <td>535.214812</td>\n",
              "      <td>-1.341732</td>\n",
              "      <td>-13.972301</td>\n",
              "    </tr>\n",
              "    <tr>\n",
              "      <th>27</th>\n",
              "      <td>26</td>\n",
              "      <td>82</td>\n",
              "      <td>THRFIAPLNGNRYWLNMTR/2</td>\n",
              "      <td>IVNRERHPYIQWHYTLCK/2</td>\n",
              "      <td>1180.613288</td>\n",
              "      <td>1178.610214</td>\n",
              "      <td>80.119675</td>\n",
              "      <td>44.053543</td>\n",
              "    </tr>\n",
              "    <tr>\n",
              "      <th>28</th>\n",
              "      <td>86</td>\n",
              "      <td>93</td>\n",
              "      <td>ESQTNGNNWVKWSPPSPVR/2</td>\n",
              "      <td>TEPDHFPDKKNMFSCTYK/2</td>\n",
              "      <td>1092.035058</td>\n",
              "      <td>1094.495532</td>\n",
              "      <td>75.837006</td>\n",
              "      <td>37.078201</td>\n",
              "    </tr>\n",
              "    <tr>\n",
              "      <th>29</th>\n",
              "      <td>45</td>\n",
              "      <td>57</td>\n",
              "      <td>NEAVSHTVRFFPQFCDATR/2</td>\n",
              "      <td>EDWRGCVHRGQSMNGTLIR/2</td>\n",
              "      <td>1113.031462</td>\n",
              "      <td>1108.034013</td>\n",
              "      <td>85.517998</td>\n",
              "      <td>35.837952</td>\n",
              "    </tr>\n",
              "    <tr>\n",
              "      <th>30</th>\n",
              "      <td>22</td>\n",
              "      <td>90</td>\n",
              "      <td>ANHCYCKRMNYADR/2</td>\n",
              "      <td>VYEELKRQKLNYR/2</td>\n",
              "      <td>872.876876</td>\n",
              "      <td>869.983578</td>\n",
              "      <td>-13.057461</td>\n",
              "      <td>10.001099</td>\n",
              "    </tr>\n",
              "    <tr>\n",
              "      <th>31</th>\n",
              "      <td>64</td>\n",
              "      <td>72</td>\n",
              "      <td>QIPRHFLFGFHR/2</td>\n",
              "      <td>WSTPCDNPFTHDK/2</td>\n",
              "      <td>777.925669</td>\n",
              "      <td>774.332815</td>\n",
              "      <td>66.874596</td>\n",
              "      <td>61.337048</td>\n",
              "    </tr>\n",
              "    <tr>\n",
              "      <th>32</th>\n",
              "      <td>38</td>\n",
              "      <td>81</td>\n",
              "      <td>VASFCKALLK/2</td>\n",
              "      <td>PKRIYANGR/2</td>\n",
              "      <td>540.317720</td>\n",
              "      <td>537.811982</td>\n",
              "      <td>63.933235</td>\n",
              "      <td>92.373360</td>\n",
              "    </tr>\n",
              "    <tr>\n",
              "      <th>33</th>\n",
              "      <td>26</td>\n",
              "      <td>56</td>\n",
              "      <td>THRFIAPLNGNRYWLNMTR/2</td>\n",
              "      <td>CYDCTTHICVLFNNWKPFR/2</td>\n",
              "      <td>1180.613288</td>\n",
              "      <td>1180.542294</td>\n",
              "      <td>80.119675</td>\n",
              "      <td>122.732864</td>\n",
              "    </tr>\n",
              "    <tr>\n",
              "      <th>34</th>\n",
              "      <td>6</td>\n",
              "      <td>96</td>\n",
              "      <td>CDGGVTHGCPQWCVRDCR/2</td>\n",
              "      <td>STQWFWQGPHNKCGKGK/2</td>\n",
              "      <td>996.408215</td>\n",
              "      <td>994.981044</td>\n",
              "      <td>31.894344</td>\n",
              "      <td>38.825188</td>\n",
              "    </tr>\n",
              "    <tr>\n",
              "      <th>35</th>\n",
              "      <td>1</td>\n",
              "      <td>79</td>\n",
              "      <td>GMWIDKHYYK/2</td>\n",
              "      <td>ASDDVTIEEQNK/2</td>\n",
              "      <td>670.826441</td>\n",
              "      <td>674.814978</td>\n",
              "      <td>37.995903</td>\n",
              "      <td>9.455700</td>\n",
              "    </tr>\n",
              "    <tr>\n",
              "      <th>36</th>\n",
              "      <td>3</td>\n",
              "      <td>96</td>\n",
              "      <td>VPDCTHWHCENEHKEK/2</td>\n",
              "      <td>STQWFWQGPHNKCGKGK/2</td>\n",
              "      <td>996.427984</td>\n",
              "      <td>994.981044</td>\n",
              "      <td>-9.421413</td>\n",
              "      <td>38.825188</td>\n",
              "    </tr>\n",
              "    <tr>\n",
              "      <th>37</th>\n",
              "      <td>27</td>\n",
              "      <td>65</td>\n",
              "      <td>KNDLEAEER/2</td>\n",
              "      <td>NTYSTCVPAR/2</td>\n",
              "      <td>552.270009</td>\n",
              "      <td>556.263673</td>\n",
              "      <td>-11.521717</td>\n",
              "      <td>13.386509</td>\n",
              "    </tr>\n",
              "    <tr>\n",
              "      <th>38</th>\n",
              "      <td>67</td>\n",
              "      <td>99</td>\n",
              "      <td>DGEDNMKLYKGYQK/2</td>\n",
              "      <td>GMALEWGKQSEAKLH/2</td>\n",
              "      <td>844.901062</td>\n",
              "      <td>842.927414</td>\n",
              "      <td>20.959293</td>\n",
              "      <td>50.363411</td>\n",
              "    </tr>\n",
              "    <tr>\n",
              "      <th>39</th>\n",
              "      <td>41</td>\n",
              "      <td>55</td>\n",
              "      <td>EWPWPRMKR/2</td>\n",
              "      <td>KQEVPTTFPSR/2</td>\n",
              "      <td>643.334767</td>\n",
              "      <td>645.346052</td>\n",
              "      <td>61.232903</td>\n",
              "      <td>22.623009</td>\n",
              "    </tr>\n",
              "    <tr>\n",
              "      <th>40</th>\n",
              "      <td>9</td>\n",
              "      <td>75</td>\n",
              "      <td>KMDCFHNENDFGHNK/2</td>\n",
              "      <td>YWEKGECPKIPISKR/2</td>\n",
              "      <td>918.383044</td>\n",
              "      <td>917.487639</td>\n",
              "      <td>9.935371</td>\n",
              "      <td>31.965071</td>\n",
              "    </tr>\n",
              "    <tr>\n",
              "      <th>41</th>\n",
              "      <td>0</td>\n",
              "      <td>5</td>\n",
              "      <td>DWGCMMMPCQAWR/2</td>\n",
              "      <td>WYMGWPYNIVHR/2</td>\n",
              "      <td>807.810771</td>\n",
              "      <td>811.390271</td>\n",
              "      <td>126.782272</td>\n",
              "      <td>117.261765</td>\n",
              "    </tr>\n",
              "    <tr>\n",
              "      <th>42</th>\n",
              "      <td>44</td>\n",
              "      <td>62</td>\n",
              "      <td>VNELWKQPRLMDQHR/2</td>\n",
              "      <td>HGQRVCSNTINCIHDVR/2</td>\n",
              "      <td>975.509968</td>\n",
              "      <td>976.470517</td>\n",
              "      <td>46.044533</td>\n",
              "      <td>12.871590</td>\n",
              "    </tr>\n",
              "    <tr>\n",
              "      <th>43</th>\n",
              "      <td>69</td>\n",
              "      <td>70</td>\n",
              "      <td>VKEYHWCQCIQQRLSR/2</td>\n",
              "      <td>VDADMITKPSIYRHRNR/2</td>\n",
              "      <td>1039.014561</td>\n",
              "      <td>1036.544539</td>\n",
              "      <td>54.470531</td>\n",
              "      <td>19.866207</td>\n",
              "    </tr>\n",
              "    <tr>\n",
              "      <th>44</th>\n",
              "      <td>23</td>\n",
              "      <td>60</td>\n",
              "      <td>HIIYKYVFNCYHSDR/2</td>\n",
              "      <td>QLSGAMNIKNVFCKWAR/2</td>\n",
              "      <td>979.472520</td>\n",
              "      <td>983.511122</td>\n",
              "      <td>50.088474</td>\n",
              "      <td>99.777916</td>\n",
              "    </tr>\n",
              "    <tr>\n",
              "      <th>45</th>\n",
              "      <td>20</td>\n",
              "      <td>85</td>\n",
              "      <td>SWEKSTIYRILFRQFHAR/2</td>\n",
              "      <td>SREIVMCAFLKSPIYCRWK/2</td>\n",
              "      <td>1169.632003</td>\n",
              "      <td>1165.602154</td>\n",
              "      <td>97.284927</td>\n",
              "      <td>99.901672</td>\n",
              "    </tr>\n",
              "  </tbody>\n",
              "</table>\n",
              "</div>\n",
              "    <div class=\"colab-df-buttons\">\n",
              "\n",
              "  <div class=\"colab-df-container\">\n",
              "    <button class=\"colab-df-convert\" onclick=\"convertToInteractive('df-fca4743c-7ccf-4ded-84db-c4d299bc3e43')\"\n",
              "            title=\"Convert this dataframe to an interactive table.\"\n",
              "            style=\"display:none;\">\n",
              "\n",
              "  <svg xmlns=\"http://www.w3.org/2000/svg\" height=\"24px\" viewBox=\"0 -960 960 960\">\n",
              "    <path d=\"M120-120v-720h720v720H120Zm60-500h600v-160H180v160Zm220 220h160v-160H400v160Zm0 220h160v-160H400v160ZM180-400h160v-160H180v160Zm440 0h160v-160H620v160ZM180-180h160v-160H180v160Zm440 0h160v-160H620v160Z\"/>\n",
              "  </svg>\n",
              "    </button>\n",
              "\n",
              "  <style>\n",
              "    .colab-df-container {\n",
              "      display:flex;\n",
              "      gap: 12px;\n",
              "    }\n",
              "\n",
              "    .colab-df-convert {\n",
              "      background-color: #E8F0FE;\n",
              "      border: none;\n",
              "      border-radius: 50%;\n",
              "      cursor: pointer;\n",
              "      display: none;\n",
              "      fill: #1967D2;\n",
              "      height: 32px;\n",
              "      padding: 0 0 0 0;\n",
              "      width: 32px;\n",
              "    }\n",
              "\n",
              "    .colab-df-convert:hover {\n",
              "      background-color: #E2EBFA;\n",
              "      box-shadow: 0px 1px 2px rgba(60, 64, 67, 0.3), 0px 1px 3px 1px rgba(60, 64, 67, 0.15);\n",
              "      fill: #174EA6;\n",
              "    }\n",
              "\n",
              "    .colab-df-buttons div {\n",
              "      margin-bottom: 4px;\n",
              "    }\n",
              "\n",
              "    [theme=dark] .colab-df-convert {\n",
              "      background-color: #3B4455;\n",
              "      fill: #D2E3FC;\n",
              "    }\n",
              "\n",
              "    [theme=dark] .colab-df-convert:hover {\n",
              "      background-color: #434B5C;\n",
              "      box-shadow: 0px 1px 3px 1px rgba(0, 0, 0, 0.15);\n",
              "      filter: drop-shadow(0px 1px 2px rgba(0, 0, 0, 0.3));\n",
              "      fill: #FFFFFF;\n",
              "    }\n",
              "  </style>\n",
              "\n",
              "    <script>\n",
              "      const buttonEl =\n",
              "        document.querySelector('#df-fca4743c-7ccf-4ded-84db-c4d299bc3e43 button.colab-df-convert');\n",
              "      buttonEl.style.display =\n",
              "        google.colab.kernel.accessAllowed ? 'block' : 'none';\n",
              "\n",
              "      async function convertToInteractive(key) {\n",
              "        const element = document.querySelector('#df-fca4743c-7ccf-4ded-84db-c4d299bc3e43');\n",
              "        const dataTable =\n",
              "          await google.colab.kernel.invokeFunction('convertToInteractive',\n",
              "                                                    [key], {});\n",
              "        if (!dataTable) return;\n",
              "\n",
              "        const docLinkHtml = 'Like what you see? Visit the ' +\n",
              "          '<a target=\"_blank\" href=https://colab.research.google.com/notebooks/data_table.ipynb>data table notebook</a>'\n",
              "          + ' to learn more about interactive tables.';\n",
              "        element.innerHTML = '';\n",
              "        dataTable['output_type'] = 'display_data';\n",
              "        await google.colab.output.renderOutput(dataTable, element);\n",
              "        const docLink = document.createElement('div');\n",
              "        docLink.innerHTML = docLinkHtml;\n",
              "        element.appendChild(docLink);\n",
              "      }\n",
              "    </script>\n",
              "  </div>\n",
              "\n",
              "\n",
              "<div id=\"df-d744c58b-a3ef-426a-b1c8-d5feb4fac67c\">\n",
              "  <button class=\"colab-df-quickchart\" onclick=\"quickchart('df-d744c58b-a3ef-426a-b1c8-d5feb4fac67c')\"\n",
              "            title=\"Suggest charts\"\n",
              "            style=\"display:none;\">\n",
              "\n",
              "<svg xmlns=\"http://www.w3.org/2000/svg\" height=\"24px\"viewBox=\"0 0 24 24\"\n",
              "     width=\"24px\">\n",
              "    <g>\n",
              "        <path d=\"M19 3H5c-1.1 0-2 .9-2 2v14c0 1.1.9 2 2 2h14c1.1 0 2-.9 2-2V5c0-1.1-.9-2-2-2zM9 17H7v-7h2v7zm4 0h-2V7h2v10zm4 0h-2v-4h2v4z\"/>\n",
              "    </g>\n",
              "</svg>\n",
              "  </button>\n",
              "\n",
              "<style>\n",
              "  .colab-df-quickchart {\n",
              "      --bg-color: #E8F0FE;\n",
              "      --fill-color: #1967D2;\n",
              "      --hover-bg-color: #E2EBFA;\n",
              "      --hover-fill-color: #174EA6;\n",
              "      --disabled-fill-color: #AAA;\n",
              "      --disabled-bg-color: #DDD;\n",
              "  }\n",
              "\n",
              "  [theme=dark] .colab-df-quickchart {\n",
              "      --bg-color: #3B4455;\n",
              "      --fill-color: #D2E3FC;\n",
              "      --hover-bg-color: #434B5C;\n",
              "      --hover-fill-color: #FFFFFF;\n",
              "      --disabled-bg-color: #3B4455;\n",
              "      --disabled-fill-color: #666;\n",
              "  }\n",
              "\n",
              "  .colab-df-quickchart {\n",
              "    background-color: var(--bg-color);\n",
              "    border: none;\n",
              "    border-radius: 50%;\n",
              "    cursor: pointer;\n",
              "    display: none;\n",
              "    fill: var(--fill-color);\n",
              "    height: 32px;\n",
              "    padding: 0;\n",
              "    width: 32px;\n",
              "  }\n",
              "\n",
              "  .colab-df-quickchart:hover {\n",
              "    background-color: var(--hover-bg-color);\n",
              "    box-shadow: 0 1px 2px rgba(60, 64, 67, 0.3), 0 1px 3px 1px rgba(60, 64, 67, 0.15);\n",
              "    fill: var(--button-hover-fill-color);\n",
              "  }\n",
              "\n",
              "  .colab-df-quickchart-complete:disabled,\n",
              "  .colab-df-quickchart-complete:disabled:hover {\n",
              "    background-color: var(--disabled-bg-color);\n",
              "    fill: var(--disabled-fill-color);\n",
              "    box-shadow: none;\n",
              "  }\n",
              "\n",
              "  .colab-df-spinner {\n",
              "    border: 2px solid var(--fill-color);\n",
              "    border-color: transparent;\n",
              "    border-bottom-color: var(--fill-color);\n",
              "    animation:\n",
              "      spin 1s steps(1) infinite;\n",
              "  }\n",
              "\n",
              "  @keyframes spin {\n",
              "    0% {\n",
              "      border-color: transparent;\n",
              "      border-bottom-color: var(--fill-color);\n",
              "      border-left-color: var(--fill-color);\n",
              "    }\n",
              "    20% {\n",
              "      border-color: transparent;\n",
              "      border-left-color: var(--fill-color);\n",
              "      border-top-color: var(--fill-color);\n",
              "    }\n",
              "    30% {\n",
              "      border-color: transparent;\n",
              "      border-left-color: var(--fill-color);\n",
              "      border-top-color: var(--fill-color);\n",
              "      border-right-color: var(--fill-color);\n",
              "    }\n",
              "    40% {\n",
              "      border-color: transparent;\n",
              "      border-right-color: var(--fill-color);\n",
              "      border-top-color: var(--fill-color);\n",
              "    }\n",
              "    60% {\n",
              "      border-color: transparent;\n",
              "      border-right-color: var(--fill-color);\n",
              "    }\n",
              "    80% {\n",
              "      border-color: transparent;\n",
              "      border-right-color: var(--fill-color);\n",
              "      border-bottom-color: var(--fill-color);\n",
              "    }\n",
              "    90% {\n",
              "      border-color: transparent;\n",
              "      border-bottom-color: var(--fill-color);\n",
              "    }\n",
              "  }\n",
              "</style>\n",
              "\n",
              "  <script>\n",
              "    async function quickchart(key) {\n",
              "      const quickchartButtonEl =\n",
              "        document.querySelector('#' + key + ' button');\n",
              "      quickchartButtonEl.disabled = true;  // To prevent multiple clicks.\n",
              "      quickchartButtonEl.classList.add('colab-df-spinner');\n",
              "      try {\n",
              "        const charts = await google.colab.kernel.invokeFunction(\n",
              "            'suggestCharts', [key], {});\n",
              "      } catch (error) {\n",
              "        console.error('Error during call to suggestCharts:', error);\n",
              "      }\n",
              "      quickchartButtonEl.classList.remove('colab-df-spinner');\n",
              "      quickchartButtonEl.classList.add('colab-df-quickchart-complete');\n",
              "    }\n",
              "    (() => {\n",
              "      let quickchartButtonEl =\n",
              "        document.querySelector('#df-d744c58b-a3ef-426a-b1c8-d5feb4fac67c button');\n",
              "      quickchartButtonEl.style.display =\n",
              "        google.colab.kernel.accessAllowed ? 'block' : 'none';\n",
              "    })();\n",
              "  </script>\n",
              "</div>\n",
              "\n",
              "  <div id=\"id_45c7e471-1922-42b1-9eab-e4d7541909cb\">\n",
              "    <style>\n",
              "      .colab-df-generate {\n",
              "        background-color: #E8F0FE;\n",
              "        border: none;\n",
              "        border-radius: 50%;\n",
              "        cursor: pointer;\n",
              "        display: none;\n",
              "        fill: #1967D2;\n",
              "        height: 32px;\n",
              "        padding: 0 0 0 0;\n",
              "        width: 32px;\n",
              "      }\n",
              "\n",
              "      .colab-df-generate:hover {\n",
              "        background-color: #E2EBFA;\n",
              "        box-shadow: 0px 1px 2px rgba(60, 64, 67, 0.3), 0px 1px 3px 1px rgba(60, 64, 67, 0.15);\n",
              "        fill: #174EA6;\n",
              "      }\n",
              "\n",
              "      [theme=dark] .colab-df-generate {\n",
              "        background-color: #3B4455;\n",
              "        fill: #D2E3FC;\n",
              "      }\n",
              "\n",
              "      [theme=dark] .colab-df-generate:hover {\n",
              "        background-color: #434B5C;\n",
              "        box-shadow: 0px 1px 3px 1px rgba(0, 0, 0, 0.15);\n",
              "        filter: drop-shadow(0px 1px 2px rgba(0, 0, 0, 0.3));\n",
              "        fill: #FFFFFF;\n",
              "      }\n",
              "    </style>\n",
              "    <button class=\"colab-df-generate\" onclick=\"generateWithVariable('Groups_df')\"\n",
              "            title=\"Generate code using this dataframe.\"\n",
              "            style=\"display:none;\">\n",
              "\n",
              "  <svg xmlns=\"http://www.w3.org/2000/svg\" height=\"24px\"viewBox=\"0 0 24 24\"\n",
              "       width=\"24px\">\n",
              "    <path d=\"M7,19H8.4L18.45,9,17,7.55,7,17.6ZM5,21V16.75L18.45,3.32a2,2,0,0,1,2.83,0l1.4,1.43a1.91,1.91,0,0,1,.58,1.4,1.91,1.91,0,0,1-.58,1.4L9.25,21ZM18.45,9,17,7.55Zm-12,3A5.31,5.31,0,0,0,4.9,8.1,5.31,5.31,0,0,0,1,6.5,5.31,5.31,0,0,0,4.9,4.9,5.31,5.31,0,0,0,6.5,1,5.31,5.31,0,0,0,8.1,4.9,5.31,5.31,0,0,0,12,6.5,5.46,5.46,0,0,0,6.5,12Z\"/>\n",
              "  </svg>\n",
              "    </button>\n",
              "    <script>\n",
              "      (() => {\n",
              "      const buttonEl =\n",
              "        document.querySelector('#id_45c7e471-1922-42b1-9eab-e4d7541909cb button.colab-df-generate');\n",
              "      buttonEl.style.display =\n",
              "        google.colab.kernel.accessAllowed ? 'block' : 'none';\n",
              "\n",
              "      buttonEl.onclick = () => {\n",
              "        google.colab.notebook.generateWithVariable('Groups_df');\n",
              "      }\n",
              "      })();\n",
              "    </script>\n",
              "  </div>\n",
              "\n",
              "    </div>\n",
              "  </div>\n"
            ],
            "application/vnd.google.colaboratory.intrinsic+json": {
              "type": "dataframe",
              "variable_name": "Groups_df",
              "summary": "{\n  \"name\": \"Groups_df\",\n  \"rows\": 46,\n  \"fields\": [\n    {\n      \"column\": \"index1\",\n      \"properties\": {\n        \"dtype\": \"number\",\n        \"std\": 21,\n        \"min\": 0,\n        \"max\": 86,\n        \"num_unique_values\": 36,\n        \"samples\": [\n          20,\n          3,\n          6\n        ],\n        \"semantic_type\": \"\",\n        \"description\": \"\"\n      }\n    },\n    {\n      \"column\": \"index2\",\n      \"properties\": {\n        \"dtype\": \"number\",\n        \"std\": 23,\n        \"min\": 5,\n        \"max\": 99,\n        \"num_unique_values\": 35,\n        \"samples\": [\n          81,\n          80,\n          93\n        ],\n        \"semantic_type\": \"\",\n        \"description\": \"\"\n      }\n    },\n    {\n      \"column\": \"peptide 1\",\n      \"properties\": {\n        \"dtype\": \"string\",\n        \"num_unique_values\": 36,\n        \"samples\": [\n          \"SWEKSTIYRILFRQFHAR/2\",\n          \"VPDCTHWHCENEHKEK/2\",\n          \"CDGGVTHGCPQWCVRDCR/2\"\n        ],\n        \"semantic_type\": \"\",\n        \"description\": \"\"\n      }\n    },\n    {\n      \"column\": \"peptide 2\",\n      \"properties\": {\n        \"dtype\": \"string\",\n        \"num_unique_values\": 35,\n        \"samples\": [\n          \"PKRIYANGR/2\",\n          \"QMSSTRCDKK/2\",\n          \"TEPDHFPDKKNMFSCTYK/2\"\n        ],\n        \"semantic_type\": \"\",\n        \"description\": \"\"\n      }\n    },\n    {\n      \"column\": \"m/z  1\",\n      \"properties\": {\n        \"dtype\": \"number\",\n        \"std\": 197.77507242530854,\n        \"min\": 532.776227,\n        \"max\": 1198.061086,\n        \"num_unique_values\": 36,\n        \"samples\": [\n          1169.632003,\n          996.427984,\n          996.408215\n        ],\n        \"semantic_type\": \"\",\n        \"description\": \"\"\n      }\n    },\n    {\n      \"column\": \"m/z 2\",\n      \"properties\": {\n        \"dtype\": \"number\",\n        \"std\": 196.71589306693872,\n        \"min\": 535.214812,\n        \"max\": 1193.57326,\n        \"num_unique_values\": 35,\n        \"samples\": [\n          537.811982,\n          592.28154,\n          1094.495532\n        ],\n        \"semantic_type\": \"\",\n        \"description\": \"\"\n      }\n    },\n    {\n      \"column\": \"iRT 1\",\n      \"properties\": {\n        \"dtype\": \"number\",\n        \"std\": 47.91112740356065,\n        \"min\": -13.057461,\n        \"max\": 150.321045,\n        \"num_unique_values\": 36,\n        \"samples\": [\n          97.284927,\n          -9.421413,\n          31.894344\n        ],\n        \"semantic_type\": \"\",\n        \"description\": \"\"\n      }\n    },\n    {\n      \"column\": \"iRT 2\",\n      \"properties\": {\n        \"dtype\": \"number\",\n        \"std\": 44.87479811755453,\n        \"min\": -14.430202,\n        \"max\": 163.87648,\n        \"num_unique_values\": 35,\n        \"samples\": [\n          92.37336,\n          -14.430202,\n          37.078201\n        ],\n        \"semantic_type\": \"\",\n        \"description\": \"\"\n      }\n    }\n  ]\n}"
            }
          },
          "metadata": {},
          "execution_count": 6
        }
      ]
    },
    {
      "cell_type": "markdown",
      "source": [
        "# Calculate similarity within fragment tolerance\n"
      ],
      "metadata": {
        "id": "xtHsdzfwMAIH"
      }
    },
    {
      "cell_type": "code",
      "source": [
        "Groups_df.columns = Groups_df.columns.str.strip()\n",
        "index_array = Groups_df[['index1','index2']].values.astype(int)\n",
        "result = process_spectra_pairs(index_array, spectra,  mz_irt_df, tolerance =0, ppm=10)\n",
        "result"
      ],
      "metadata": {
        "id": "1Im0NZqhMK7O",
        "colab": {
          "base_uri": "https://localhost:8080/",
          "height": 1000
        },
        "outputId": "115fcb21-37b9-4878-d34d-7c5d6e63c311"
      },
      "execution_count": 7,
      "outputs": [
        {
          "output_type": "execute_result",
          "data": {
            "text/plain": [
              "    index1  index2              peptide 1              peptide 2       m/z  1  \\\n",
              "0       14      31       PVELNLETGIFGFR/2        LQTWQIFHLVGMK/2   796.427573   \n",
              "1       11      87      WISQSLKFLVWEFHK/2     LEFSNINMLMIFAPFR/2   974.527621   \n",
              "2       74      86  GCEWEMAMRCPAPFFGPQK/2  ESQTNGNNWVKWSPPSPVR/2  1092.977942   \n",
              "3       37      86    ETNQESEVMRFWHFAIR/2  ESQTNGNNWVKWSPPSPVR/2  1090.520730   \n",
              "4       13      39  CWHEIDTFFHQYGRRSQGK/2  ALKTYDWVKKYEMCMHPDK/2  1198.061086   \n",
              "5       34      55           YFNHEDCISR/2          KQEVPTTFPSR/2   642.277311   \n",
              "6       37      74    ETNQESEVMRFWHFAIR/2  GCEWEMAMRCPAPFFGPQK/2  1090.520730   \n",
              "7       42      91          AALHWKAPTGK/2           IIGSSWGYHR/2   590.335290   \n",
              "8       10      72        PQDIFDHAFQGHK/2        WSTPCDNPFTHDK/2   770.370590   \n",
              "9       34      41           YFNHEDCISR/2            EWPWPRMKR/2   642.277311   \n",
              "10      50      60    CSHSVMPPFIAPWSFHK/2    QLSGAMNIKNVFCKWAR/2   985.973841   \n",
              "11      71      86    GWDWSYRWRVGNQIVEK/2  ESQTNGNNWVKWSPPSPVR/2  1090.045229   \n",
              "12      24      34          DSNMHLTACKR/2           YFNHEDCISR/2   638.300264   \n",
              "13      23      44      HIIYKYVFNCYHSDR/2      VNELWKQPRLMDQHR/2   979.472520   \n",
              "14      37      71    ETNQESEVMRFWHFAIR/2    GWDWSYRWRVGNQIVEK/2  1090.520730   \n",
              "15      42      80          AALHWKAPTGK/2           QMSSTRCDKK/2   590.335290   \n",
              "16      71      74    GWDWSYRWRVGNQIVEK/2  GCEWEMAMRCPAPFFGPQK/2  1090.045229   \n",
              "17       7      99       FIHECIHEPRNATK/2      GMALEWGKQSEAKLH/2   847.925206   \n",
              "18      23      62      HIIYKYVFNCYHSDR/2    HGQRVCSNTINCIHDVR/2   979.472520   \n",
              "19       7      67       FIHECIHEPRNATK/2       DGEDNMKLYKGYQK/2   847.925206   \n",
              "20       3       6     VPDCTHWHCENEHKEK/2   CDGGVTHGCPQWCVRDCR/2   996.427984   \n",
              "21      25      49         HLTAGTYIHCNR/2          PIMNAREYKDR/2   693.340778   \n",
              "22      51      57  FMIHQHLKATIGHNENATR/2  EDWRGCVHRGQSMNGTLIR/2  1109.568546   \n",
              "23      28      50   WAPAGPWQQADLDPAISR/2    CSHSVMPPFIAPWSFHK/2   989.992132   \n",
              "24      36      54      FNCEYARKPHTSTVR/2      NQMAISHVVEKYKCR/2   904.946670   \n",
              "25      33      87     QRNSNTLTFFTLHLLK/2     LEFSNINMLMIFAPFR/2   967.036342   \n",
              "26      12      18            MIGSNCRRK/2            KDQGCEMCR/2   532.776227   \n",
              "27      26      82  THRFIAPLNGNRYWLNMTR/2   IVNRERHPYIQWHYTLCK/2  1180.613288   \n",
              "28      86      93  ESQTNGNNWVKWSPPSPVR/2   TEPDHFPDKKNMFSCTYK/2  1092.035058   \n",
              "29      45      57  NEAVSHTVRFFPQFCDATR/2  EDWRGCVHRGQSMNGTLIR/2  1113.031462   \n",
              "30      22      90       ANHCYCKRMNYADR/2        VYEELKRQKLNYR/2   872.876876   \n",
              "31      64      72         QIPRHFLFGFHR/2        WSTPCDNPFTHDK/2   777.925669   \n",
              "32      38      81           VASFCKALLK/2            PKRIYANGR/2   540.317720   \n",
              "33      26      56  THRFIAPLNGNRYWLNMTR/2  CYDCTTHICVLFNNWKPFR/2  1180.613288   \n",
              "34       6      96   CDGGVTHGCPQWCVRDCR/2    STQWFWQGPHNKCGKGK/2   996.408215   \n",
              "35       1      79           GMWIDKHYYK/2         ASDDVTIEEQNK/2   670.826441   \n",
              "36       3      96     VPDCTHWHCENEHKEK/2    STQWFWQGPHNKCGKGK/2   996.427984   \n",
              "37      27      65            KNDLEAEER/2           NTYSTCVPAR/2   552.270009   \n",
              "38      67      99       DGEDNMKLYKGYQK/2      GMALEWGKQSEAKLH/2   844.901062   \n",
              "39      41      55            EWPWPRMKR/2          KQEVPTTFPSR/2   643.334767   \n",
              "40       9      75      KMDCFHNENDFGHNK/2      YWEKGECPKIPISKR/2   918.383044   \n",
              "41       0       5        DWGCMMMPCQAWR/2         WYMGWPYNIVHR/2   807.810771   \n",
              "42      44      62      VNELWKQPRLMDQHR/2    HGQRVCSNTINCIHDVR/2   975.509968   \n",
              "43      69      70     VKEYHWCQCIQQRLSR/2    VDADMITKPSIYRHRNR/2  1039.014561   \n",
              "44      23      60      HIIYKYVFNCYHSDR/2    QLSGAMNIKNVFCKWAR/2   979.472520   \n",
              "45      20      85   SWEKSTIYRILFRQFHAR/2  SREIVMCAFLKSPIYCRWK/2  1169.632003   \n",
              "\n",
              "          m/z 2       iRT 1       iRT 2  similarity_score  \n",
              "0    800.937054  150.321045  133.027130          0.000000  \n",
              "1    971.999524  138.482361  163.876480          0.000000  \n",
              "2   1092.035058  115.123734   75.837006          0.000000  \n",
              "3   1092.035058  121.179474   75.837006          0.002870  \n",
              "4   1193.573260   69.598907   71.576225          0.000158  \n",
              "5    645.346052   14.993286   22.623009          0.000269  \n",
              "6   1092.977942  121.179474  115.123734          0.000000  \n",
              "7    588.301447   17.545467   40.351646          0.000000  \n",
              "8    774.332815   55.859516   61.337048          0.000213  \n",
              "9    643.334767   14.993286   61.232903          0.003941  \n",
              "10   983.511122  109.644104   99.777916          0.000000  \n",
              "11  1092.035058   95.327560   75.837006          0.000000  \n",
              "12   642.277311   -7.451088   14.993286          0.000944  \n",
              "13   975.509968   50.088474   46.044533          0.004513  \n",
              "14  1090.045229  121.179474   95.327560          0.000000  \n",
              "15   592.281540   17.545467  -14.430202          0.001891  \n",
              "16  1092.977942   95.327560  115.123734          0.000222  \n",
              "17   842.927414    0.806179   50.363411          0.000000  \n",
              "18   976.470517   50.088474   12.871590          0.001289  \n",
              "19   844.901062    0.806179   20.959293          0.000165  \n",
              "20   996.408215   -9.421413   31.894344          0.000000  \n",
              "21   696.856260   10.028168    1.247501          0.005327  \n",
              "22  1108.034013   15.090652   35.837952          0.001348  \n",
              "23   985.973841  105.892738  109.644104          0.000000  \n",
              "24   903.461098   -3.454361   28.744747          0.003143  \n",
              "25   971.999524  119.113892  163.876480          0.000091  \n",
              "26   535.214812   -1.341732  -13.972301          0.000000  \n",
              "27  1178.610214   80.119675   44.053543          0.000000  \n",
              "28  1094.495532   75.837006   37.078201          0.000000  \n",
              "29  1108.034013   85.517998   35.837952          0.004555  \n",
              "30   869.983578  -13.057461   10.001099          0.035631  \n",
              "31   774.332815   66.874596   61.337048          0.000000  \n",
              "32   537.811982   63.933235   92.373360          0.000000  \n",
              "33  1180.542294   80.119675  122.732864          0.006612  \n",
              "34   994.981044   31.894344   38.825188          0.000000  \n",
              "35   674.814978   37.995903    9.455700          0.000475  \n",
              "36   994.981044   -9.421413   38.825188          0.000000  \n",
              "37   556.263673  -11.521717   13.386509          0.000542  \n",
              "38   842.927414   20.959293   50.363411          0.000000  \n",
              "39   645.346052   61.232903   22.623009          0.002503  \n",
              "40   917.487639    9.935371   31.965071          0.000000  \n",
              "41   811.390271  126.782272  117.261765          0.000681  \n",
              "42   976.470517   46.044533   12.871590          0.007279  \n",
              "43  1036.544539   54.470531   19.866207          0.009666  \n",
              "44   983.511122   50.088474   99.777916          0.001090  \n",
              "45  1165.602154   97.284927   99.901672          0.000000  "
            ],
            "text/html": [
              "\n",
              "  <div id=\"df-7f6bbeb1-40ad-4230-be80-d77164134aba\" class=\"colab-df-container\">\n",
              "    <div>\n",
              "<style scoped>\n",
              "    .dataframe tbody tr th:only-of-type {\n",
              "        vertical-align: middle;\n",
              "    }\n",
              "\n",
              "    .dataframe tbody tr th {\n",
              "        vertical-align: top;\n",
              "    }\n",
              "\n",
              "    .dataframe thead th {\n",
              "        text-align: right;\n",
              "    }\n",
              "</style>\n",
              "<table border=\"1\" class=\"dataframe\">\n",
              "  <thead>\n",
              "    <tr style=\"text-align: right;\">\n",
              "      <th></th>\n",
              "      <th>index1</th>\n",
              "      <th>index2</th>\n",
              "      <th>peptide 1</th>\n",
              "      <th>peptide 2</th>\n",
              "      <th>m/z  1</th>\n",
              "      <th>m/z 2</th>\n",
              "      <th>iRT 1</th>\n",
              "      <th>iRT 2</th>\n",
              "      <th>similarity_score</th>\n",
              "    </tr>\n",
              "  </thead>\n",
              "  <tbody>\n",
              "    <tr>\n",
              "      <th>0</th>\n",
              "      <td>14</td>\n",
              "      <td>31</td>\n",
              "      <td>PVELNLETGIFGFR/2</td>\n",
              "      <td>LQTWQIFHLVGMK/2</td>\n",
              "      <td>796.427573</td>\n",
              "      <td>800.937054</td>\n",
              "      <td>150.321045</td>\n",
              "      <td>133.027130</td>\n",
              "      <td>0.000000</td>\n",
              "    </tr>\n",
              "    <tr>\n",
              "      <th>1</th>\n",
              "      <td>11</td>\n",
              "      <td>87</td>\n",
              "      <td>WISQSLKFLVWEFHK/2</td>\n",
              "      <td>LEFSNINMLMIFAPFR/2</td>\n",
              "      <td>974.527621</td>\n",
              "      <td>971.999524</td>\n",
              "      <td>138.482361</td>\n",
              "      <td>163.876480</td>\n",
              "      <td>0.000000</td>\n",
              "    </tr>\n",
              "    <tr>\n",
              "      <th>2</th>\n",
              "      <td>74</td>\n",
              "      <td>86</td>\n",
              "      <td>GCEWEMAMRCPAPFFGPQK/2</td>\n",
              "      <td>ESQTNGNNWVKWSPPSPVR/2</td>\n",
              "      <td>1092.977942</td>\n",
              "      <td>1092.035058</td>\n",
              "      <td>115.123734</td>\n",
              "      <td>75.837006</td>\n",
              "      <td>0.000000</td>\n",
              "    </tr>\n",
              "    <tr>\n",
              "      <th>3</th>\n",
              "      <td>37</td>\n",
              "      <td>86</td>\n",
              "      <td>ETNQESEVMRFWHFAIR/2</td>\n",
              "      <td>ESQTNGNNWVKWSPPSPVR/2</td>\n",
              "      <td>1090.520730</td>\n",
              "      <td>1092.035058</td>\n",
              "      <td>121.179474</td>\n",
              "      <td>75.837006</td>\n",
              "      <td>0.002870</td>\n",
              "    </tr>\n",
              "    <tr>\n",
              "      <th>4</th>\n",
              "      <td>13</td>\n",
              "      <td>39</td>\n",
              "      <td>CWHEIDTFFHQYGRRSQGK/2</td>\n",
              "      <td>ALKTYDWVKKYEMCMHPDK/2</td>\n",
              "      <td>1198.061086</td>\n",
              "      <td>1193.573260</td>\n",
              "      <td>69.598907</td>\n",
              "      <td>71.576225</td>\n",
              "      <td>0.000158</td>\n",
              "    </tr>\n",
              "    <tr>\n",
              "      <th>5</th>\n",
              "      <td>34</td>\n",
              "      <td>55</td>\n",
              "      <td>YFNHEDCISR/2</td>\n",
              "      <td>KQEVPTTFPSR/2</td>\n",
              "      <td>642.277311</td>\n",
              "      <td>645.346052</td>\n",
              "      <td>14.993286</td>\n",
              "      <td>22.623009</td>\n",
              "      <td>0.000269</td>\n",
              "    </tr>\n",
              "    <tr>\n",
              "      <th>6</th>\n",
              "      <td>37</td>\n",
              "      <td>74</td>\n",
              "      <td>ETNQESEVMRFWHFAIR/2</td>\n",
              "      <td>GCEWEMAMRCPAPFFGPQK/2</td>\n",
              "      <td>1090.520730</td>\n",
              "      <td>1092.977942</td>\n",
              "      <td>121.179474</td>\n",
              "      <td>115.123734</td>\n",
              "      <td>0.000000</td>\n",
              "    </tr>\n",
              "    <tr>\n",
              "      <th>7</th>\n",
              "      <td>42</td>\n",
              "      <td>91</td>\n",
              "      <td>AALHWKAPTGK/2</td>\n",
              "      <td>IIGSSWGYHR/2</td>\n",
              "      <td>590.335290</td>\n",
              "      <td>588.301447</td>\n",
              "      <td>17.545467</td>\n",
              "      <td>40.351646</td>\n",
              "      <td>0.000000</td>\n",
              "    </tr>\n",
              "    <tr>\n",
              "      <th>8</th>\n",
              "      <td>10</td>\n",
              "      <td>72</td>\n",
              "      <td>PQDIFDHAFQGHK/2</td>\n",
              "      <td>WSTPCDNPFTHDK/2</td>\n",
              "      <td>770.370590</td>\n",
              "      <td>774.332815</td>\n",
              "      <td>55.859516</td>\n",
              "      <td>61.337048</td>\n",
              "      <td>0.000213</td>\n",
              "    </tr>\n",
              "    <tr>\n",
              "      <th>9</th>\n",
              "      <td>34</td>\n",
              "      <td>41</td>\n",
              "      <td>YFNHEDCISR/2</td>\n",
              "      <td>EWPWPRMKR/2</td>\n",
              "      <td>642.277311</td>\n",
              "      <td>643.334767</td>\n",
              "      <td>14.993286</td>\n",
              "      <td>61.232903</td>\n",
              "      <td>0.003941</td>\n",
              "    </tr>\n",
              "    <tr>\n",
              "      <th>10</th>\n",
              "      <td>50</td>\n",
              "      <td>60</td>\n",
              "      <td>CSHSVMPPFIAPWSFHK/2</td>\n",
              "      <td>QLSGAMNIKNVFCKWAR/2</td>\n",
              "      <td>985.973841</td>\n",
              "      <td>983.511122</td>\n",
              "      <td>109.644104</td>\n",
              "      <td>99.777916</td>\n",
              "      <td>0.000000</td>\n",
              "    </tr>\n",
              "    <tr>\n",
              "      <th>11</th>\n",
              "      <td>71</td>\n",
              "      <td>86</td>\n",
              "      <td>GWDWSYRWRVGNQIVEK/2</td>\n",
              "      <td>ESQTNGNNWVKWSPPSPVR/2</td>\n",
              "      <td>1090.045229</td>\n",
              "      <td>1092.035058</td>\n",
              "      <td>95.327560</td>\n",
              "      <td>75.837006</td>\n",
              "      <td>0.000000</td>\n",
              "    </tr>\n",
              "    <tr>\n",
              "      <th>12</th>\n",
              "      <td>24</td>\n",
              "      <td>34</td>\n",
              "      <td>DSNMHLTACKR/2</td>\n",
              "      <td>YFNHEDCISR/2</td>\n",
              "      <td>638.300264</td>\n",
              "      <td>642.277311</td>\n",
              "      <td>-7.451088</td>\n",
              "      <td>14.993286</td>\n",
              "      <td>0.000944</td>\n",
              "    </tr>\n",
              "    <tr>\n",
              "      <th>13</th>\n",
              "      <td>23</td>\n",
              "      <td>44</td>\n",
              "      <td>HIIYKYVFNCYHSDR/2</td>\n",
              "      <td>VNELWKQPRLMDQHR/2</td>\n",
              "      <td>979.472520</td>\n",
              "      <td>975.509968</td>\n",
              "      <td>50.088474</td>\n",
              "      <td>46.044533</td>\n",
              "      <td>0.004513</td>\n",
              "    </tr>\n",
              "    <tr>\n",
              "      <th>14</th>\n",
              "      <td>37</td>\n",
              "      <td>71</td>\n",
              "      <td>ETNQESEVMRFWHFAIR/2</td>\n",
              "      <td>GWDWSYRWRVGNQIVEK/2</td>\n",
              "      <td>1090.520730</td>\n",
              "      <td>1090.045229</td>\n",
              "      <td>121.179474</td>\n",
              "      <td>95.327560</td>\n",
              "      <td>0.000000</td>\n",
              "    </tr>\n",
              "    <tr>\n",
              "      <th>15</th>\n",
              "      <td>42</td>\n",
              "      <td>80</td>\n",
              "      <td>AALHWKAPTGK/2</td>\n",
              "      <td>QMSSTRCDKK/2</td>\n",
              "      <td>590.335290</td>\n",
              "      <td>592.281540</td>\n",
              "      <td>17.545467</td>\n",
              "      <td>-14.430202</td>\n",
              "      <td>0.001891</td>\n",
              "    </tr>\n",
              "    <tr>\n",
              "      <th>16</th>\n",
              "      <td>71</td>\n",
              "      <td>74</td>\n",
              "      <td>GWDWSYRWRVGNQIVEK/2</td>\n",
              "      <td>GCEWEMAMRCPAPFFGPQK/2</td>\n",
              "      <td>1090.045229</td>\n",
              "      <td>1092.977942</td>\n",
              "      <td>95.327560</td>\n",
              "      <td>115.123734</td>\n",
              "      <td>0.000222</td>\n",
              "    </tr>\n",
              "    <tr>\n",
              "      <th>17</th>\n",
              "      <td>7</td>\n",
              "      <td>99</td>\n",
              "      <td>FIHECIHEPRNATK/2</td>\n",
              "      <td>GMALEWGKQSEAKLH/2</td>\n",
              "      <td>847.925206</td>\n",
              "      <td>842.927414</td>\n",
              "      <td>0.806179</td>\n",
              "      <td>50.363411</td>\n",
              "      <td>0.000000</td>\n",
              "    </tr>\n",
              "    <tr>\n",
              "      <th>18</th>\n",
              "      <td>23</td>\n",
              "      <td>62</td>\n",
              "      <td>HIIYKYVFNCYHSDR/2</td>\n",
              "      <td>HGQRVCSNTINCIHDVR/2</td>\n",
              "      <td>979.472520</td>\n",
              "      <td>976.470517</td>\n",
              "      <td>50.088474</td>\n",
              "      <td>12.871590</td>\n",
              "      <td>0.001289</td>\n",
              "    </tr>\n",
              "    <tr>\n",
              "      <th>19</th>\n",
              "      <td>7</td>\n",
              "      <td>67</td>\n",
              "      <td>FIHECIHEPRNATK/2</td>\n",
              "      <td>DGEDNMKLYKGYQK/2</td>\n",
              "      <td>847.925206</td>\n",
              "      <td>844.901062</td>\n",
              "      <td>0.806179</td>\n",
              "      <td>20.959293</td>\n",
              "      <td>0.000165</td>\n",
              "    </tr>\n",
              "    <tr>\n",
              "      <th>20</th>\n",
              "      <td>3</td>\n",
              "      <td>6</td>\n",
              "      <td>VPDCTHWHCENEHKEK/2</td>\n",
              "      <td>CDGGVTHGCPQWCVRDCR/2</td>\n",
              "      <td>996.427984</td>\n",
              "      <td>996.408215</td>\n",
              "      <td>-9.421413</td>\n",
              "      <td>31.894344</td>\n",
              "      <td>0.000000</td>\n",
              "    </tr>\n",
              "    <tr>\n",
              "      <th>21</th>\n",
              "      <td>25</td>\n",
              "      <td>49</td>\n",
              "      <td>HLTAGTYIHCNR/2</td>\n",
              "      <td>PIMNAREYKDR/2</td>\n",
              "      <td>693.340778</td>\n",
              "      <td>696.856260</td>\n",
              "      <td>10.028168</td>\n",
              "      <td>1.247501</td>\n",
              "      <td>0.005327</td>\n",
              "    </tr>\n",
              "    <tr>\n",
              "      <th>22</th>\n",
              "      <td>51</td>\n",
              "      <td>57</td>\n",
              "      <td>FMIHQHLKATIGHNENATR/2</td>\n",
              "      <td>EDWRGCVHRGQSMNGTLIR/2</td>\n",
              "      <td>1109.568546</td>\n",
              "      <td>1108.034013</td>\n",
              "      <td>15.090652</td>\n",
              "      <td>35.837952</td>\n",
              "      <td>0.001348</td>\n",
              "    </tr>\n",
              "    <tr>\n",
              "      <th>23</th>\n",
              "      <td>28</td>\n",
              "      <td>50</td>\n",
              "      <td>WAPAGPWQQADLDPAISR/2</td>\n",
              "      <td>CSHSVMPPFIAPWSFHK/2</td>\n",
              "      <td>989.992132</td>\n",
              "      <td>985.973841</td>\n",
              "      <td>105.892738</td>\n",
              "      <td>109.644104</td>\n",
              "      <td>0.000000</td>\n",
              "    </tr>\n",
              "    <tr>\n",
              "      <th>24</th>\n",
              "      <td>36</td>\n",
              "      <td>54</td>\n",
              "      <td>FNCEYARKPHTSTVR/2</td>\n",
              "      <td>NQMAISHVVEKYKCR/2</td>\n",
              "      <td>904.946670</td>\n",
              "      <td>903.461098</td>\n",
              "      <td>-3.454361</td>\n",
              "      <td>28.744747</td>\n",
              "      <td>0.003143</td>\n",
              "    </tr>\n",
              "    <tr>\n",
              "      <th>25</th>\n",
              "      <td>33</td>\n",
              "      <td>87</td>\n",
              "      <td>QRNSNTLTFFTLHLLK/2</td>\n",
              "      <td>LEFSNINMLMIFAPFR/2</td>\n",
              "      <td>967.036342</td>\n",
              "      <td>971.999524</td>\n",
              "      <td>119.113892</td>\n",
              "      <td>163.876480</td>\n",
              "      <td>0.000091</td>\n",
              "    </tr>\n",
              "    <tr>\n",
              "      <th>26</th>\n",
              "      <td>12</td>\n",
              "      <td>18</td>\n",
              "      <td>MIGSNCRRK/2</td>\n",
              "      <td>KDQGCEMCR/2</td>\n",
              "      <td>532.776227</td>\n",
              "      <td>535.214812</td>\n",
              "      <td>-1.341732</td>\n",
              "      <td>-13.972301</td>\n",
              "      <td>0.000000</td>\n",
              "    </tr>\n",
              "    <tr>\n",
              "      <th>27</th>\n",
              "      <td>26</td>\n",
              "      <td>82</td>\n",
              "      <td>THRFIAPLNGNRYWLNMTR/2</td>\n",
              "      <td>IVNRERHPYIQWHYTLCK/2</td>\n",
              "      <td>1180.613288</td>\n",
              "      <td>1178.610214</td>\n",
              "      <td>80.119675</td>\n",
              "      <td>44.053543</td>\n",
              "      <td>0.000000</td>\n",
              "    </tr>\n",
              "    <tr>\n",
              "      <th>28</th>\n",
              "      <td>86</td>\n",
              "      <td>93</td>\n",
              "      <td>ESQTNGNNWVKWSPPSPVR/2</td>\n",
              "      <td>TEPDHFPDKKNMFSCTYK/2</td>\n",
              "      <td>1092.035058</td>\n",
              "      <td>1094.495532</td>\n",
              "      <td>75.837006</td>\n",
              "      <td>37.078201</td>\n",
              "      <td>0.000000</td>\n",
              "    </tr>\n",
              "    <tr>\n",
              "      <th>29</th>\n",
              "      <td>45</td>\n",
              "      <td>57</td>\n",
              "      <td>NEAVSHTVRFFPQFCDATR/2</td>\n",
              "      <td>EDWRGCVHRGQSMNGTLIR/2</td>\n",
              "      <td>1113.031462</td>\n",
              "      <td>1108.034013</td>\n",
              "      <td>85.517998</td>\n",
              "      <td>35.837952</td>\n",
              "      <td>0.004555</td>\n",
              "    </tr>\n",
              "    <tr>\n",
              "      <th>30</th>\n",
              "      <td>22</td>\n",
              "      <td>90</td>\n",
              "      <td>ANHCYCKRMNYADR/2</td>\n",
              "      <td>VYEELKRQKLNYR/2</td>\n",
              "      <td>872.876876</td>\n",
              "      <td>869.983578</td>\n",
              "      <td>-13.057461</td>\n",
              "      <td>10.001099</td>\n",
              "      <td>0.035631</td>\n",
              "    </tr>\n",
              "    <tr>\n",
              "      <th>31</th>\n",
              "      <td>64</td>\n",
              "      <td>72</td>\n",
              "      <td>QIPRHFLFGFHR/2</td>\n",
              "      <td>WSTPCDNPFTHDK/2</td>\n",
              "      <td>777.925669</td>\n",
              "      <td>774.332815</td>\n",
              "      <td>66.874596</td>\n",
              "      <td>61.337048</td>\n",
              "      <td>0.000000</td>\n",
              "    </tr>\n",
              "    <tr>\n",
              "      <th>32</th>\n",
              "      <td>38</td>\n",
              "      <td>81</td>\n",
              "      <td>VASFCKALLK/2</td>\n",
              "      <td>PKRIYANGR/2</td>\n",
              "      <td>540.317720</td>\n",
              "      <td>537.811982</td>\n",
              "      <td>63.933235</td>\n",
              "      <td>92.373360</td>\n",
              "      <td>0.000000</td>\n",
              "    </tr>\n",
              "    <tr>\n",
              "      <th>33</th>\n",
              "      <td>26</td>\n",
              "      <td>56</td>\n",
              "      <td>THRFIAPLNGNRYWLNMTR/2</td>\n",
              "      <td>CYDCTTHICVLFNNWKPFR/2</td>\n",
              "      <td>1180.613288</td>\n",
              "      <td>1180.542294</td>\n",
              "      <td>80.119675</td>\n",
              "      <td>122.732864</td>\n",
              "      <td>0.006612</td>\n",
              "    </tr>\n",
              "    <tr>\n",
              "      <th>34</th>\n",
              "      <td>6</td>\n",
              "      <td>96</td>\n",
              "      <td>CDGGVTHGCPQWCVRDCR/2</td>\n",
              "      <td>STQWFWQGPHNKCGKGK/2</td>\n",
              "      <td>996.408215</td>\n",
              "      <td>994.981044</td>\n",
              "      <td>31.894344</td>\n",
              "      <td>38.825188</td>\n",
              "      <td>0.000000</td>\n",
              "    </tr>\n",
              "    <tr>\n",
              "      <th>35</th>\n",
              "      <td>1</td>\n",
              "      <td>79</td>\n",
              "      <td>GMWIDKHYYK/2</td>\n",
              "      <td>ASDDVTIEEQNK/2</td>\n",
              "      <td>670.826441</td>\n",
              "      <td>674.814978</td>\n",
              "      <td>37.995903</td>\n",
              "      <td>9.455700</td>\n",
              "      <td>0.000475</td>\n",
              "    </tr>\n",
              "    <tr>\n",
              "      <th>36</th>\n",
              "      <td>3</td>\n",
              "      <td>96</td>\n",
              "      <td>VPDCTHWHCENEHKEK/2</td>\n",
              "      <td>STQWFWQGPHNKCGKGK/2</td>\n",
              "      <td>996.427984</td>\n",
              "      <td>994.981044</td>\n",
              "      <td>-9.421413</td>\n",
              "      <td>38.825188</td>\n",
              "      <td>0.000000</td>\n",
              "    </tr>\n",
              "    <tr>\n",
              "      <th>37</th>\n",
              "      <td>27</td>\n",
              "      <td>65</td>\n",
              "      <td>KNDLEAEER/2</td>\n",
              "      <td>NTYSTCVPAR/2</td>\n",
              "      <td>552.270009</td>\n",
              "      <td>556.263673</td>\n",
              "      <td>-11.521717</td>\n",
              "      <td>13.386509</td>\n",
              "      <td>0.000542</td>\n",
              "    </tr>\n",
              "    <tr>\n",
              "      <th>38</th>\n",
              "      <td>67</td>\n",
              "      <td>99</td>\n",
              "      <td>DGEDNMKLYKGYQK/2</td>\n",
              "      <td>GMALEWGKQSEAKLH/2</td>\n",
              "      <td>844.901062</td>\n",
              "      <td>842.927414</td>\n",
              "      <td>20.959293</td>\n",
              "      <td>50.363411</td>\n",
              "      <td>0.000000</td>\n",
              "    </tr>\n",
              "    <tr>\n",
              "      <th>39</th>\n",
              "      <td>41</td>\n",
              "      <td>55</td>\n",
              "      <td>EWPWPRMKR/2</td>\n",
              "      <td>KQEVPTTFPSR/2</td>\n",
              "      <td>643.334767</td>\n",
              "      <td>645.346052</td>\n",
              "      <td>61.232903</td>\n",
              "      <td>22.623009</td>\n",
              "      <td>0.002503</td>\n",
              "    </tr>\n",
              "    <tr>\n",
              "      <th>40</th>\n",
              "      <td>9</td>\n",
              "      <td>75</td>\n",
              "      <td>KMDCFHNENDFGHNK/2</td>\n",
              "      <td>YWEKGECPKIPISKR/2</td>\n",
              "      <td>918.383044</td>\n",
              "      <td>917.487639</td>\n",
              "      <td>9.935371</td>\n",
              "      <td>31.965071</td>\n",
              "      <td>0.000000</td>\n",
              "    </tr>\n",
              "    <tr>\n",
              "      <th>41</th>\n",
              "      <td>0</td>\n",
              "      <td>5</td>\n",
              "      <td>DWGCMMMPCQAWR/2</td>\n",
              "      <td>WYMGWPYNIVHR/2</td>\n",
              "      <td>807.810771</td>\n",
              "      <td>811.390271</td>\n",
              "      <td>126.782272</td>\n",
              "      <td>117.261765</td>\n",
              "      <td>0.000681</td>\n",
              "    </tr>\n",
              "    <tr>\n",
              "      <th>42</th>\n",
              "      <td>44</td>\n",
              "      <td>62</td>\n",
              "      <td>VNELWKQPRLMDQHR/2</td>\n",
              "      <td>HGQRVCSNTINCIHDVR/2</td>\n",
              "      <td>975.509968</td>\n",
              "      <td>976.470517</td>\n",
              "      <td>46.044533</td>\n",
              "      <td>12.871590</td>\n",
              "      <td>0.007279</td>\n",
              "    </tr>\n",
              "    <tr>\n",
              "      <th>43</th>\n",
              "      <td>69</td>\n",
              "      <td>70</td>\n",
              "      <td>VKEYHWCQCIQQRLSR/2</td>\n",
              "      <td>VDADMITKPSIYRHRNR/2</td>\n",
              "      <td>1039.014561</td>\n",
              "      <td>1036.544539</td>\n",
              "      <td>54.470531</td>\n",
              "      <td>19.866207</td>\n",
              "      <td>0.009666</td>\n",
              "    </tr>\n",
              "    <tr>\n",
              "      <th>44</th>\n",
              "      <td>23</td>\n",
              "      <td>60</td>\n",
              "      <td>HIIYKYVFNCYHSDR/2</td>\n",
              "      <td>QLSGAMNIKNVFCKWAR/2</td>\n",
              "      <td>979.472520</td>\n",
              "      <td>983.511122</td>\n",
              "      <td>50.088474</td>\n",
              "      <td>99.777916</td>\n",
              "      <td>0.001090</td>\n",
              "    </tr>\n",
              "    <tr>\n",
              "      <th>45</th>\n",
              "      <td>20</td>\n",
              "      <td>85</td>\n",
              "      <td>SWEKSTIYRILFRQFHAR/2</td>\n",
              "      <td>SREIVMCAFLKSPIYCRWK/2</td>\n",
              "      <td>1169.632003</td>\n",
              "      <td>1165.602154</td>\n",
              "      <td>97.284927</td>\n",
              "      <td>99.901672</td>\n",
              "      <td>0.000000</td>\n",
              "    </tr>\n",
              "  </tbody>\n",
              "</table>\n",
              "</div>\n",
              "    <div class=\"colab-df-buttons\">\n",
              "\n",
              "  <div class=\"colab-df-container\">\n",
              "    <button class=\"colab-df-convert\" onclick=\"convertToInteractive('df-7f6bbeb1-40ad-4230-be80-d77164134aba')\"\n",
              "            title=\"Convert this dataframe to an interactive table.\"\n",
              "            style=\"display:none;\">\n",
              "\n",
              "  <svg xmlns=\"http://www.w3.org/2000/svg\" height=\"24px\" viewBox=\"0 -960 960 960\">\n",
              "    <path d=\"M120-120v-720h720v720H120Zm60-500h600v-160H180v160Zm220 220h160v-160H400v160Zm0 220h160v-160H400v160ZM180-400h160v-160H180v160Zm440 0h160v-160H620v160ZM180-180h160v-160H180v160Zm440 0h160v-160H620v160Z\"/>\n",
              "  </svg>\n",
              "    </button>\n",
              "\n",
              "  <style>\n",
              "    .colab-df-container {\n",
              "      display:flex;\n",
              "      gap: 12px;\n",
              "    }\n",
              "\n",
              "    .colab-df-convert {\n",
              "      background-color: #E8F0FE;\n",
              "      border: none;\n",
              "      border-radius: 50%;\n",
              "      cursor: pointer;\n",
              "      display: none;\n",
              "      fill: #1967D2;\n",
              "      height: 32px;\n",
              "      padding: 0 0 0 0;\n",
              "      width: 32px;\n",
              "    }\n",
              "\n",
              "    .colab-df-convert:hover {\n",
              "      background-color: #E2EBFA;\n",
              "      box-shadow: 0px 1px 2px rgba(60, 64, 67, 0.3), 0px 1px 3px 1px rgba(60, 64, 67, 0.15);\n",
              "      fill: #174EA6;\n",
              "    }\n",
              "\n",
              "    .colab-df-buttons div {\n",
              "      margin-bottom: 4px;\n",
              "    }\n",
              "\n",
              "    [theme=dark] .colab-df-convert {\n",
              "      background-color: #3B4455;\n",
              "      fill: #D2E3FC;\n",
              "    }\n",
              "\n",
              "    [theme=dark] .colab-df-convert:hover {\n",
              "      background-color: #434B5C;\n",
              "      box-shadow: 0px 1px 3px 1px rgba(0, 0, 0, 0.15);\n",
              "      filter: drop-shadow(0px 1px 2px rgba(0, 0, 0, 0.3));\n",
              "      fill: #FFFFFF;\n",
              "    }\n",
              "  </style>\n",
              "\n",
              "    <script>\n",
              "      const buttonEl =\n",
              "        document.querySelector('#df-7f6bbeb1-40ad-4230-be80-d77164134aba button.colab-df-convert');\n",
              "      buttonEl.style.display =\n",
              "        google.colab.kernel.accessAllowed ? 'block' : 'none';\n",
              "\n",
              "      async function convertToInteractive(key) {\n",
              "        const element = document.querySelector('#df-7f6bbeb1-40ad-4230-be80-d77164134aba');\n",
              "        const dataTable =\n",
              "          await google.colab.kernel.invokeFunction('convertToInteractive',\n",
              "                                                    [key], {});\n",
              "        if (!dataTable) return;\n",
              "\n",
              "        const docLinkHtml = 'Like what you see? Visit the ' +\n",
              "          '<a target=\"_blank\" href=https://colab.research.google.com/notebooks/data_table.ipynb>data table notebook</a>'\n",
              "          + ' to learn more about interactive tables.';\n",
              "        element.innerHTML = '';\n",
              "        dataTable['output_type'] = 'display_data';\n",
              "        await google.colab.output.renderOutput(dataTable, element);\n",
              "        const docLink = document.createElement('div');\n",
              "        docLink.innerHTML = docLinkHtml;\n",
              "        element.appendChild(docLink);\n",
              "      }\n",
              "    </script>\n",
              "  </div>\n",
              "\n",
              "\n",
              "<div id=\"df-1c6b656d-08a5-4c60-9e41-12d7a1a61c12\">\n",
              "  <button class=\"colab-df-quickchart\" onclick=\"quickchart('df-1c6b656d-08a5-4c60-9e41-12d7a1a61c12')\"\n",
              "            title=\"Suggest charts\"\n",
              "            style=\"display:none;\">\n",
              "\n",
              "<svg xmlns=\"http://www.w3.org/2000/svg\" height=\"24px\"viewBox=\"0 0 24 24\"\n",
              "     width=\"24px\">\n",
              "    <g>\n",
              "        <path d=\"M19 3H5c-1.1 0-2 .9-2 2v14c0 1.1.9 2 2 2h14c1.1 0 2-.9 2-2V5c0-1.1-.9-2-2-2zM9 17H7v-7h2v7zm4 0h-2V7h2v10zm4 0h-2v-4h2v4z\"/>\n",
              "    </g>\n",
              "</svg>\n",
              "  </button>\n",
              "\n",
              "<style>\n",
              "  .colab-df-quickchart {\n",
              "      --bg-color: #E8F0FE;\n",
              "      --fill-color: #1967D2;\n",
              "      --hover-bg-color: #E2EBFA;\n",
              "      --hover-fill-color: #174EA6;\n",
              "      --disabled-fill-color: #AAA;\n",
              "      --disabled-bg-color: #DDD;\n",
              "  }\n",
              "\n",
              "  [theme=dark] .colab-df-quickchart {\n",
              "      --bg-color: #3B4455;\n",
              "      --fill-color: #D2E3FC;\n",
              "      --hover-bg-color: #434B5C;\n",
              "      --hover-fill-color: #FFFFFF;\n",
              "      --disabled-bg-color: #3B4455;\n",
              "      --disabled-fill-color: #666;\n",
              "  }\n",
              "\n",
              "  .colab-df-quickchart {\n",
              "    background-color: var(--bg-color);\n",
              "    border: none;\n",
              "    border-radius: 50%;\n",
              "    cursor: pointer;\n",
              "    display: none;\n",
              "    fill: var(--fill-color);\n",
              "    height: 32px;\n",
              "    padding: 0;\n",
              "    width: 32px;\n",
              "  }\n",
              "\n",
              "  .colab-df-quickchart:hover {\n",
              "    background-color: var(--hover-bg-color);\n",
              "    box-shadow: 0 1px 2px rgba(60, 64, 67, 0.3), 0 1px 3px 1px rgba(60, 64, 67, 0.15);\n",
              "    fill: var(--button-hover-fill-color);\n",
              "  }\n",
              "\n",
              "  .colab-df-quickchart-complete:disabled,\n",
              "  .colab-df-quickchart-complete:disabled:hover {\n",
              "    background-color: var(--disabled-bg-color);\n",
              "    fill: var(--disabled-fill-color);\n",
              "    box-shadow: none;\n",
              "  }\n",
              "\n",
              "  .colab-df-spinner {\n",
              "    border: 2px solid var(--fill-color);\n",
              "    border-color: transparent;\n",
              "    border-bottom-color: var(--fill-color);\n",
              "    animation:\n",
              "      spin 1s steps(1) infinite;\n",
              "  }\n",
              "\n",
              "  @keyframes spin {\n",
              "    0% {\n",
              "      border-color: transparent;\n",
              "      border-bottom-color: var(--fill-color);\n",
              "      border-left-color: var(--fill-color);\n",
              "    }\n",
              "    20% {\n",
              "      border-color: transparent;\n",
              "      border-left-color: var(--fill-color);\n",
              "      border-top-color: var(--fill-color);\n",
              "    }\n",
              "    30% {\n",
              "      border-color: transparent;\n",
              "      border-left-color: var(--fill-color);\n",
              "      border-top-color: var(--fill-color);\n",
              "      border-right-color: var(--fill-color);\n",
              "    }\n",
              "    40% {\n",
              "      border-color: transparent;\n",
              "      border-right-color: var(--fill-color);\n",
              "      border-top-color: var(--fill-color);\n",
              "    }\n",
              "    60% {\n",
              "      border-color: transparent;\n",
              "      border-right-color: var(--fill-color);\n",
              "    }\n",
              "    80% {\n",
              "      border-color: transparent;\n",
              "      border-right-color: var(--fill-color);\n",
              "      border-bottom-color: var(--fill-color);\n",
              "    }\n",
              "    90% {\n",
              "      border-color: transparent;\n",
              "      border-bottom-color: var(--fill-color);\n",
              "    }\n",
              "  }\n",
              "</style>\n",
              "\n",
              "  <script>\n",
              "    async function quickchart(key) {\n",
              "      const quickchartButtonEl =\n",
              "        document.querySelector('#' + key + ' button');\n",
              "      quickchartButtonEl.disabled = true;  // To prevent multiple clicks.\n",
              "      quickchartButtonEl.classList.add('colab-df-spinner');\n",
              "      try {\n",
              "        const charts = await google.colab.kernel.invokeFunction(\n",
              "            'suggestCharts', [key], {});\n",
              "      } catch (error) {\n",
              "        console.error('Error during call to suggestCharts:', error);\n",
              "      }\n",
              "      quickchartButtonEl.classList.remove('colab-df-spinner');\n",
              "      quickchartButtonEl.classList.add('colab-df-quickchart-complete');\n",
              "    }\n",
              "    (() => {\n",
              "      let quickchartButtonEl =\n",
              "        document.querySelector('#df-1c6b656d-08a5-4c60-9e41-12d7a1a61c12 button');\n",
              "      quickchartButtonEl.style.display =\n",
              "        google.colab.kernel.accessAllowed ? 'block' : 'none';\n",
              "    })();\n",
              "  </script>\n",
              "</div>\n",
              "\n",
              "  <div id=\"id_09ef4dcc-9bc7-45ac-86a8-2e2359fa884b\">\n",
              "    <style>\n",
              "      .colab-df-generate {\n",
              "        background-color: #E8F0FE;\n",
              "        border: none;\n",
              "        border-radius: 50%;\n",
              "        cursor: pointer;\n",
              "        display: none;\n",
              "        fill: #1967D2;\n",
              "        height: 32px;\n",
              "        padding: 0 0 0 0;\n",
              "        width: 32px;\n",
              "      }\n",
              "\n",
              "      .colab-df-generate:hover {\n",
              "        background-color: #E2EBFA;\n",
              "        box-shadow: 0px 1px 2px rgba(60, 64, 67, 0.3), 0px 1px 3px 1px rgba(60, 64, 67, 0.15);\n",
              "        fill: #174EA6;\n",
              "      }\n",
              "\n",
              "      [theme=dark] .colab-df-generate {\n",
              "        background-color: #3B4455;\n",
              "        fill: #D2E3FC;\n",
              "      }\n",
              "\n",
              "      [theme=dark] .colab-df-generate:hover {\n",
              "        background-color: #434B5C;\n",
              "        box-shadow: 0px 1px 3px 1px rgba(0, 0, 0, 0.15);\n",
              "        filter: drop-shadow(0px 1px 2px rgba(0, 0, 0, 0.3));\n",
              "        fill: #FFFFFF;\n",
              "      }\n",
              "    </style>\n",
              "    <button class=\"colab-df-generate\" onclick=\"generateWithVariable('result')\"\n",
              "            title=\"Generate code using this dataframe.\"\n",
              "            style=\"display:none;\">\n",
              "\n",
              "  <svg xmlns=\"http://www.w3.org/2000/svg\" height=\"24px\"viewBox=\"0 0 24 24\"\n",
              "       width=\"24px\">\n",
              "    <path d=\"M7,19H8.4L18.45,9,17,7.55,7,17.6ZM5,21V16.75L18.45,3.32a2,2,0,0,1,2.83,0l1.4,1.43a1.91,1.91,0,0,1,.58,1.4,1.91,1.91,0,0,1-.58,1.4L9.25,21ZM18.45,9,17,7.55Zm-12,3A5.31,5.31,0,0,0,4.9,8.1,5.31,5.31,0,0,0,1,6.5,5.31,5.31,0,0,0,4.9,4.9,5.31,5.31,0,0,0,6.5,1,5.31,5.31,0,0,0,8.1,4.9,5.31,5.31,0,0,0,12,6.5,5.46,5.46,0,0,0,6.5,12Z\"/>\n",
              "  </svg>\n",
              "    </button>\n",
              "    <script>\n",
              "      (() => {\n",
              "      const buttonEl =\n",
              "        document.querySelector('#id_09ef4dcc-9bc7-45ac-86a8-2e2359fa884b button.colab-df-generate');\n",
              "      buttonEl.style.display =\n",
              "        google.colab.kernel.accessAllowed ? 'block' : 'none';\n",
              "\n",
              "      buttonEl.onclick = () => {\n",
              "        google.colab.notebook.generateWithVariable('result');\n",
              "      }\n",
              "      })();\n",
              "    </script>\n",
              "  </div>\n",
              "\n",
              "    </div>\n",
              "  </div>\n"
            ],
            "application/vnd.google.colaboratory.intrinsic+json": {
              "type": "dataframe",
              "variable_name": "result",
              "summary": "{\n  \"name\": \"result\",\n  \"rows\": 46,\n  \"fields\": [\n    {\n      \"column\": \"index1\",\n      \"properties\": {\n        \"dtype\": \"number\",\n        \"std\": 21,\n        \"min\": 0,\n        \"max\": 86,\n        \"num_unique_values\": 36,\n        \"samples\": [\n          20,\n          3,\n          6\n        ],\n        \"semantic_type\": \"\",\n        \"description\": \"\"\n      }\n    },\n    {\n      \"column\": \"index2\",\n      \"properties\": {\n        \"dtype\": \"number\",\n        \"std\": 23,\n        \"min\": 5,\n        \"max\": 99,\n        \"num_unique_values\": 35,\n        \"samples\": [\n          81,\n          80,\n          93\n        ],\n        \"semantic_type\": \"\",\n        \"description\": \"\"\n      }\n    },\n    {\n      \"column\": \"peptide 1\",\n      \"properties\": {\n        \"dtype\": \"string\",\n        \"num_unique_values\": 36,\n        \"samples\": [\n          \"SWEKSTIYRILFRQFHAR/2\",\n          \"VPDCTHWHCENEHKEK/2\",\n          \"CDGGVTHGCPQWCVRDCR/2\"\n        ],\n        \"semantic_type\": \"\",\n        \"description\": \"\"\n      }\n    },\n    {\n      \"column\": \"peptide 2\",\n      \"properties\": {\n        \"dtype\": \"string\",\n        \"num_unique_values\": 35,\n        \"samples\": [\n          \"PKRIYANGR/2\",\n          \"QMSSTRCDKK/2\",\n          \"TEPDHFPDKKNMFSCTYK/2\"\n        ],\n        \"semantic_type\": \"\",\n        \"description\": \"\"\n      }\n    },\n    {\n      \"column\": \"m/z  1\",\n      \"properties\": {\n        \"dtype\": \"number\",\n        \"std\": 197.77507242530854,\n        \"min\": 532.776227,\n        \"max\": 1198.061086,\n        \"num_unique_values\": 36,\n        \"samples\": [\n          1169.632003,\n          996.427984,\n          996.408215\n        ],\n        \"semantic_type\": \"\",\n        \"description\": \"\"\n      }\n    },\n    {\n      \"column\": \"m/z 2\",\n      \"properties\": {\n        \"dtype\": \"number\",\n        \"std\": 196.71589306693872,\n        \"min\": 535.214812,\n        \"max\": 1193.57326,\n        \"num_unique_values\": 35,\n        \"samples\": [\n          537.811982,\n          592.28154,\n          1094.495532\n        ],\n        \"semantic_type\": \"\",\n        \"description\": \"\"\n      }\n    },\n    {\n      \"column\": \"iRT 1\",\n      \"properties\": {\n        \"dtype\": \"number\",\n        \"std\": 47.91112740356065,\n        \"min\": -13.057461,\n        \"max\": 150.321045,\n        \"num_unique_values\": 36,\n        \"samples\": [\n          97.284927,\n          -9.421413,\n          31.894344\n        ],\n        \"semantic_type\": \"\",\n        \"description\": \"\"\n      }\n    },\n    {\n      \"column\": \"iRT 2\",\n      \"properties\": {\n        \"dtype\": \"number\",\n        \"std\": 44.87479811755453,\n        \"min\": -14.430202,\n        \"max\": 163.87648,\n        \"num_unique_values\": 35,\n        \"samples\": [\n          92.37336,\n          -14.430202,\n          37.078201\n        ],\n        \"semantic_type\": \"\",\n        \"description\": \"\"\n      }\n    },\n    {\n      \"column\": \"similarity_score\",\n      \"properties\": {\n        \"dtype\": \"number\",\n        \"std\": 0.005540736811043655,\n        \"min\": 0.0,\n        \"max\": 0.03563051657011074,\n        \"num_unique_values\": 26,\n        \"samples\": [\n          0.0018910821541715528,\n          0.004555200305016993,\n          0.0\n        ],\n        \"semantic_type\": \"\",\n        \"description\": \"\"\n      }\n    }\n  ]\n}"
            }
          },
          "metadata": {},
          "execution_count": 7
        }
      ]
    },
    {
      "cell_type": "markdown",
      "source": [
        "# Plot results"
      ],
      "metadata": {
        "id": "4vBN2sxYNKyt"
      }
    },
    {
      "cell_type": "markdown",
      "source": [
        "### Plot spectra of interest using matchms"
      ],
      "metadata": {
        "id": "bqa99JQj8r13"
      }
    },
    {
      "cell_type": "code",
      "source": [
        "print(mz_irt_df.iloc[14])\n",
        "print(mz_irt_df.iloc[31])\n",
        "spectra[14].plot_against(spectra[31])"
      ],
      "metadata": {
        "id": "GxvVmEnSNNys",
        "colab": {
          "base_uri": "https://localhost:8080/",
          "height": 1000
        },
        "outputId": "cedf70c9-9912-47b3-bde6-6314ed731525"
      },
      "execution_count": 8,
      "outputs": [
        {
          "output_type": "stream",
          "name": "stdout",
          "text": [
            "Name    PVELNLETGIFGFR/2\n",
            "MW            796.427573\n",
            "iRT           150.321045\n",
            "Name: 14, dtype: object\n",
            "Name    LQTWQIFHLVGMK/2\n",
            "MW           800.937054\n",
            "iRT           133.02713\n",
            "Name: 31, dtype: object\n"
          ]
        },
        {
          "output_type": "execute_result",
          "data": {
            "text/plain": [
              "(<Figure size 1600x1200 with 1 Axes>,\n",
              " <Axes: title={'center': 'Spectrum comparison'}, xlabel='m/z', ylabel='Intensity'>)"
            ]
          },
          "metadata": {},
          "execution_count": 8
        },
        {
          "output_type": "display_data",
          "data": {
            "text/plain": [
              "<Figure size 1600x1200 with 1 Axes>"
            ],
            "image/png": "[encoded data removed]"
          },
          "metadata": {}
        }
      ]
    }
  ]
}